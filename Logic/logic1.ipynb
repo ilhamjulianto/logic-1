{
 "cells": [
  {
   "cell_type": "code",
   "execution_count": 42,
   "metadata": {},
   "outputs": [],
   "source": [
    "# menjalankan functions.ipynb agar bisa memanggil fungsi2 didalamnya\n",
    "# %run functions.ipynb\n",
    "\n",
    "# Closed Range\n",
    "def crange(a,b):\n",
    "    return range(a,b+1)\n",
    "\n",
    "# Print tanpa buat baris baru\n",
    "def printnln(a):\n",
    "    print(a, end='')\n",
    "\n",
    "# Print dengan baris baru\n",
    "def println(a):\n",
    "    print(a)"
   ]
  },
  {
   "cell_type": "markdown",
   "metadata": {},
   "source": [
    "# LOGIC 1\n",
    "# SOAL 1"
   ]
  },
  {
   "cell_type": "code",
   "execution_count": 43,
   "metadata": {},
   "outputs": [
    {
     "name": "stdout",
     "output_type": "stream",
     "text": [
      "*        \n",
      " *       \n",
      "  *      \n",
      "   *     \n",
      "    *    \n",
      "     *   \n",
      "      *  \n",
      "       * \n",
      "        *\n"
     ]
    }
   ],
   "source": [
    "for y in crange(1,9):\n",
    "    for x in crange(1,9):\n",
    "        if x == y:\n",
    "            printnln('*')\n",
    "        else:\n",
    "            printnln(' ')\n",
    "    println()"
   ]
  },
  {
   "cell_type": "markdown",
   "metadata": {},
   "source": [
    "# SOAL 2"
   ]
  },
  {
   "cell_type": "code",
   "execution_count": 44,
   "metadata": {},
   "outputs": [
    {
     "name": "stdout",
     "output_type": "stream",
     "text": [
      "        *\n",
      "       * \n",
      "      *  \n",
      "     *   \n",
      "    *    \n",
      "   *     \n",
      "  *      \n",
      " *       \n",
      "*        \n"
     ]
    }
   ],
   "source": [
    "for y in crange(1,9):\n",
    "    for x in crange(1,9):\n",
    "        if x == 9 - (y - 1) :\n",
    "            printnln('*')\n",
    "        else:\n",
    "            printnln(' ')\n",
    "    println()"
   ]
  },
  {
   "cell_type": "markdown",
   "metadata": {},
   "source": [
    "# SOAL 3"
   ]
  },
  {
   "cell_type": "code",
   "execution_count": 45,
   "metadata": {},
   "outputs": [
    {
     "name": "stdout",
     "output_type": "stream",
     "text": [
      "*       *\n",
      " *     * \n",
      "  *   *  \n",
      "   * *   \n",
      "    *    \n",
      "   * *   \n",
      "  *   *  \n",
      " *     * \n",
      "*       *\n"
     ]
    }
   ],
   "source": [
    "for y in crange(1,9):\n",
    "    for x in crange(1,9):\n",
    "        if x == y:\n",
    "            printnln('*')\n",
    "        elif x == 9 - (y - 1) :\n",
    "            printnln('*')\n",
    "        else:\n",
    "            printnln(' ')\n",
    "    println()"
   ]
  },
  {
   "cell_type": "markdown",
   "metadata": {},
   "source": [
    "# SOAL 4"
   ]
  },
  {
   "cell_type": "code",
   "execution_count": 46,
   "metadata": {},
   "outputs": [
    {
     "name": "stdout",
     "output_type": "stream",
     "text": [
      "*   *   *\n",
      " *  *  * \n",
      "  * * *  \n",
      "   ***   \n",
      "*********\n",
      "   ***   \n",
      "  * * *  \n",
      " *  *  * \n",
      "*   *   *\n"
     ]
    }
   ],
   "source": [
    "for y in crange(1,9):\n",
    "    for x in crange(1,9):\n",
    "        if x == y:\n",
    "            printnln('*')\n",
    "        elif x == 9 - (y - 1) :\n",
    "            printnln('*')\n",
    "        elif x == 5:\n",
    "            printnln('*')\n",
    "        elif y == 5:\n",
    "            printnln('*')\n",
    "        else:\n",
    "            printnln(' ')\n",
    "    println()"
   ]
  },
  {
   "cell_type": "markdown",
   "metadata": {},
   "source": [
    "# SOAL 5"
   ]
  },
  {
   "cell_type": "code",
   "execution_count": 47,
   "metadata": {},
   "outputs": [
    {
     "name": "stdout",
     "output_type": "stream",
     "text": [
      "*        \n",
      "**       \n",
      "***      \n",
      "****     \n",
      "*****    \n",
      "******   \n",
      "*******  \n",
      "******** \n",
      "*********\n"
     ]
    }
   ],
   "source": [
    "for y in crange(1,9):\n",
    "    for x in crange(1,9):\n",
    "        if x <= y:\n",
    "            printnln('*')\n",
    "        else:\n",
    "            printnln(' ')\n",
    "    println()"
   ]
  },
  {
   "cell_type": "markdown",
   "metadata": {},
   "source": [
    "# SOAL 6"
   ]
  },
  {
   "cell_type": "code",
   "execution_count": 48,
   "metadata": {},
   "outputs": [
    {
     "name": "stdout",
     "output_type": "stream",
     "text": [
      "        *\n",
      "       **\n",
      "      ***\n",
      "     ****\n",
      "    *****\n",
      "   ******\n",
      "  *******\n",
      " ********\n",
      "*********\n"
     ]
    }
   ],
   "source": [
    "for y in crange(1,9):\n",
    "    for x in crange(1,9):\n",
    "        if x >= 9 - (y - 1) :\n",
    "            printnln('*')\n",
    "        else:\n",
    "            printnln(' ')\n",
    "    println()"
   ]
  },
  {
   "cell_type": "markdown",
   "metadata": {},
   "source": [
    "# SOAL 7"
   ]
  },
  {
   "cell_type": "code",
   "execution_count": 49,
   "metadata": {},
   "outputs": [
    {
     "name": "stdout",
     "output_type": "stream",
     "text": [
      "*********\n",
      " ******* \n",
      "  *****  \n",
      "   ***   \n",
      "    *    \n",
      "   ***   \n",
      "  *****  \n",
      " ******* \n",
      "*********\n"
     ]
    }
   ],
   "source": [
    "for y in crange(1,9):\n",
    "    for x in crange(1,9):\n",
    "        if  y >= x and y >= 9 - (x - 1):\n",
    "            printnln('*')\n",
    "        elif y <= x and y <= 9 - (x - 1):\n",
    "            printnln('*')\n",
    "        else:\n",
    "            printnln(' ')\n",
    "    println()"
   ]
  },
  {
   "cell_type": "markdown",
   "metadata": {},
   "source": [
    "# SOAL 8"
   ]
  },
  {
   "cell_type": "code",
   "execution_count": 50,
   "metadata": {},
   "outputs": [
    {
     "name": "stdout",
     "output_type": "stream",
     "text": [
      "*       *\n",
      "**     **\n",
      "***   ***\n",
      "**** ****\n",
      "*********\n",
      "**** ****\n",
      "***   ***\n",
      "**     **\n",
      "*       *\n"
     ]
    }
   ],
   "source": [
    "for y in crange(1,9):\n",
    "    for x in crange(1,9):\n",
    "        if  x >= y and x >= 9 - (y - 1):\n",
    "            printnln('*')\n",
    "        elif x <= y and x <= 9 - (y - 1):\n",
    "            printnln('*')\n",
    "        else:\n",
    "            printnln(' ')\n",
    "    println()"
   ]
  },
  {
   "cell_type": "code",
   "execution_count": null,
   "metadata": {},
   "outputs": [],
   "source": []
  }
 ],
 "metadata": {
  "kernelspec": {
   "display_name": "Python 3",
   "language": "python",
   "name": "python3"
  },
  "language_info": {
   "codemirror_mode": {
    "name": "ipython",
    "version": 3
   },
   "file_extension": ".py",
   "mimetype": "text/x-python",
   "name": "python",
   "nbconvert_exporter": "python",
   "pygments_lexer": "ipython3",
   "version": "3.6.4"
  }
 },
 "nbformat": 4,
 "nbformat_minor": 2
}
