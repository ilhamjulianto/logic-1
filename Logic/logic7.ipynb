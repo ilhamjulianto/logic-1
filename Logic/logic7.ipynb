{
 "cells": [
  {
   "cell_type": "code",
   "execution_count": 23,
   "metadata": {},
   "outputs": [],
   "source": [
    "from my_custom_functions import *"
   ]
  },
  {
   "cell_type": "code",
   "execution_count": 24,
   "metadata": {},
   "outputs": [],
   "source": [
    "def printnln(a=''):\n",
    "    print(a, end=' ')"
   ]
  },
  {
   "cell_type": "markdown",
   "metadata": {},
   "source": [
    "# SOAL 1"
   ]
  },
  {
   "cell_type": "code",
   "execution_count": 25,
   "metadata": {},
   "outputs": [
    {
     "name": "stdout",
     "output_type": "stream",
     "text": [
      "\u001b[32m \u001b[0m \u001b[32m \u001b[0m \u001b[32m \u001b[0m \u001b[32m \u001b[0m \u001b[31m*\u001b[0m \u001b[32m \u001b[0m \u001b[32m \u001b[0m \u001b[32m \u001b[0m \u001b[32m \u001b[0m \n",
      "\u001b[32m \u001b[0m \u001b[32m \u001b[0m \u001b[32m \u001b[0m \u001b[31m*\u001b[0m \u001b[31m \u001b[0m \u001b[31m*\u001b[0m \u001b[32m \u001b[0m \u001b[32m \u001b[0m \u001b[32m \u001b[0m \n",
      "\u001b[32m \u001b[0m \u001b[32m \u001b[0m \u001b[31m*\u001b[0m \u001b[31m*\u001b[0m \u001b[31m*\u001b[0m \u001b[31m*\u001b[0m \u001b[31m*\u001b[0m \u001b[32m \u001b[0m \u001b[32m \u001b[0m \n",
      "\u001b[32m \u001b[0m \u001b[31m*\u001b[0m \u001b[31m*\u001b[0m \u001b[31m \u001b[0m \u001b[31m \u001b[0m \u001b[31m \u001b[0m \u001b[31m*\u001b[0m \u001b[31m*\u001b[0m \u001b[32m \u001b[0m \n",
      "\u001b[31m*\u001b[0m \u001b[31m \u001b[0m \u001b[31m*\u001b[0m \u001b[31m \u001b[0m \u001b[31m \u001b[0m \u001b[31m \u001b[0m \u001b[31m*\u001b[0m \u001b[31m \u001b[0m \u001b[31m*\u001b[0m \n",
      "\u001b[32m \u001b[0m \u001b[31m*\u001b[0m \u001b[31m*\u001b[0m \u001b[31m \u001b[0m \u001b[31m \u001b[0m \u001b[31m \u001b[0m \u001b[31m*\u001b[0m \u001b[31m*\u001b[0m \u001b[32m \u001b[0m \n",
      "\u001b[32m \u001b[0m \u001b[32m \u001b[0m \u001b[31m*\u001b[0m \u001b[31m*\u001b[0m \u001b[31m*\u001b[0m \u001b[31m*\u001b[0m \u001b[31m*\u001b[0m \u001b[32m \u001b[0m \u001b[32m \u001b[0m \n",
      "\u001b[32m \u001b[0m \u001b[32m \u001b[0m \u001b[32m \u001b[0m \u001b[31m*\u001b[0m \u001b[31m \u001b[0m \u001b[31m*\u001b[0m \u001b[32m \u001b[0m \u001b[32m \u001b[0m \u001b[32m \u001b[0m \n",
      "\u001b[32m \u001b[0m \u001b[32m \u001b[0m \u001b[32m \u001b[0m \u001b[32m \u001b[0m \u001b[31m*\u001b[0m \u001b[32m \u001b[0m \u001b[32m \u001b[0m \u001b[32m \u001b[0m \u001b[32m \u001b[0m \n"
     ]
    }
   ],
   "source": [
    "pb = pbound(5)\n",
    "for y in crange(-pb,pb):\n",
    "    for s in crange(1,abs(y)):\n",
    "        printnlnG(' ')\n",
    "            \n",
    "    n = pbound(5-abs(y))\n",
    "    for x in crange(-n,n):\n",
    "        v = 5-abs(y)-abs(x)\n",
    "        if v == 1 or abs(x) == 2 or abs(y) == 2:\n",
    "            printnlnR('*')\n",
    "        else:\n",
    "            printnlnR(' ')\n",
    "\n",
    "    for s in crange(1,abs(y)):\n",
    "        printnlnG(' ')\n",
    "    println()"
   ]
  },
  {
   "cell_type": "markdown",
   "metadata": {},
   "source": [
    "# SOAL 2"
   ]
  },
  {
   "cell_type": "code",
   "execution_count": 80,
   "metadata": {},
   "outputs": [
    {
     "name": "stdout",
     "output_type": "stream",
     "text": [
      "\u001b[32m \u001b[0m \u001b[32m \u001b[0m \u001b[32m \u001b[0m \u001b[32m \u001b[0m \u001b[31m2\u001b[0m \u001b[32m \u001b[0m \u001b[32m \u001b[0m \u001b[32m \u001b[0m \u001b[32m \u001b[0m \n",
      "\u001b[32m \u001b[0m \u001b[32m \u001b[0m \u001b[32m \u001b[0m \u001b[31m1\u001b[0m \u001b[31m6\u001b[0m \u001b[31m2\u001b[0m \u001b[32m \u001b[0m \u001b[32m \u001b[0m \u001b[32m \u001b[0m \n",
      "\u001b[32m \u001b[0m \u001b[32m \u001b[0m \u001b[31m1\u001b[0m \u001b[31m \u001b[0m \u001b[31m10\u001b[0m \u001b[31m \u001b[0m \u001b[31m2\u001b[0m \u001b[32m \u001b[0m \u001b[32m \u001b[0m \n",
      "\u001b[32m \u001b[0m \u001b[31m1\u001b[0m \u001b[31m \u001b[0m \u001b[31m \u001b[0m \u001b[31m14\u001b[0m \u001b[31m \u001b[0m \u001b[31m \u001b[0m \u001b[31m2\u001b[0m \u001b[32m \u001b[0m \n",
      "\u001b[31m1\u001b[0m \u001b[31m5\u001b[0m \u001b[31m9\u001b[0m \u001b[31m13\u001b[0m \u001b[31m17\u001b[0m \u001b[31m15\u001b[0m \u001b[31m11\u001b[0m \u001b[31m7\u001b[0m \u001b[31m3\u001b[0m \n",
      "\u001b[32m \u001b[0m \u001b[31m4\u001b[0m \u001b[31m \u001b[0m \u001b[31m \u001b[0m \u001b[31m16\u001b[0m \u001b[31m \u001b[0m \u001b[31m \u001b[0m \u001b[31m3\u001b[0m \u001b[32m \u001b[0m \n",
      "\u001b[32m \u001b[0m \u001b[32m \u001b[0m \u001b[31m4\u001b[0m \u001b[31m \u001b[0m \u001b[31m12\u001b[0m \u001b[31m \u001b[0m \u001b[31m3\u001b[0m \u001b[32m \u001b[0m \u001b[32m \u001b[0m \n",
      "\u001b[32m \u001b[0m \u001b[32m \u001b[0m \u001b[32m \u001b[0m \u001b[31m4\u001b[0m \u001b[31m8\u001b[0m \u001b[31m3\u001b[0m \u001b[32m \u001b[0m \u001b[32m \u001b[0m \u001b[32m \u001b[0m \n",
      "\u001b[32m \u001b[0m \u001b[32m \u001b[0m \u001b[32m \u001b[0m \u001b[32m \u001b[0m \u001b[31m4\u001b[0m \u001b[32m \u001b[0m \u001b[32m \u001b[0m \u001b[32m \u001b[0m \u001b[32m \u001b[0m \n"
     ]
    }
   ],
   "source": [
    "pb = pbound(5)\n",
    "for y in crange(-pb,pb):\n",
    "    for s in crange(1,abs(y)):\n",
    "        printnlnG(' ')\n",
    "            \n",
    "    n = pbound(5-abs(y))\n",
    "    for x in crange(-n,n):\n",
    "        v = 5-abs(y)-abs(x)\n",
    "        if v == 1:\n",
    "            if x < 0 and y <= 0:\n",
    "                printnlnR(1)\n",
    "            elif x >= 0 and y < 0:\n",
    "                printnlnR(2)\n",
    "            elif x > 0 and y >= 0:\n",
    "                printnlnR(3)\n",
    "            elif x <= 0 and y > 0:\n",
    "                printnlnR(4)\n",
    "#             printnlnR('*')\n",
    "        elif y == 0:\n",
    "            v = 5 - abs(x)\n",
    "            c = (v*2-1)*2-1 if x <= 0 else (v * 2) * 2 - 1\n",
    "            printnlnR(c)\n",
    "        elif x == 0:\n",
    "            v = 5 - abs(y)\n",
    "            c = (v*2-1)*2 if y <= 0 else (v*2)*2\n",
    "            printnlnR(c)\n",
    "        else:\n",
    "            printnlnR(' ')\n",
    "\n",
    "    for s in crange(1,abs(y)):\n",
    "        printnlnG(' ')\n",
    "    println()"
   ]
  },
  {
   "cell_type": "markdown",
   "metadata": {},
   "source": [
    "# SOAL 3"
   ]
  },
  {
   "cell_type": "code",
   "execution_count": 89,
   "metadata": {},
   "outputs": [
    {
     "name": "stdout",
     "output_type": "stream",
     "text": [
      "\u001b[32m \u001b[0m \u001b[32m \u001b[0m \u001b[32m \u001b[0m \u001b[32m \u001b[0m \u001b[31m5\u001b[0m \u001b[32m \u001b[0m \u001b[32m \u001b[0m \u001b[32m \u001b[0m \u001b[32m \u001b[0m \n",
      "\u001b[32m \u001b[0m \u001b[32m \u001b[0m \u001b[32m \u001b[0m \u001b[31m3\u001b[0m \u001b[31m \u001b[0m \u001b[31m3\u001b[0m \u001b[32m \u001b[0m \u001b[32m \u001b[0m \u001b[32m \u001b[0m \n",
      "\u001b[32m \u001b[0m \u001b[32m \u001b[0m \u001b[31m2\u001b[0m \u001b[31m1\u001b[0m \u001b[31m3\u001b[0m \u001b[31m1\u001b[0m \u001b[31m2\u001b[0m \u001b[32m \u001b[0m \u001b[32m \u001b[0m \n",
      "\u001b[32m \u001b[0m \u001b[31m1\u001b[0m \u001b[31m1\u001b[0m \u001b[31m \u001b[0m \u001b[31m \u001b[0m \u001b[31m \u001b[0m \u001b[31m1\u001b[0m \u001b[31m1\u001b[0m \u001b[32m \u001b[0m \n",
      "\u001b[31m1\u001b[0m \u001b[31m \u001b[0m \u001b[31m3\u001b[0m \u001b[31m \u001b[0m \u001b[31m \u001b[0m \u001b[31m \u001b[0m \u001b[31m3\u001b[0m \u001b[31m \u001b[0m \u001b[31m1\u001b[0m \n",
      "\u001b[32m \u001b[0m \u001b[31m1\u001b[0m \u001b[31m1\u001b[0m \u001b[31m \u001b[0m \u001b[31m \u001b[0m \u001b[31m \u001b[0m \u001b[31m1\u001b[0m \u001b[31m1\u001b[0m \u001b[32m \u001b[0m \n",
      "\u001b[32m \u001b[0m \u001b[32m \u001b[0m \u001b[31m2\u001b[0m \u001b[31m1\u001b[0m \u001b[31m3\u001b[0m \u001b[31m1\u001b[0m \u001b[31m2\u001b[0m \u001b[32m \u001b[0m \u001b[32m \u001b[0m \n",
      "\u001b[32m \u001b[0m \u001b[32m \u001b[0m \u001b[32m \u001b[0m \u001b[31m3\u001b[0m \u001b[31m \u001b[0m \u001b[31m3\u001b[0m \u001b[32m \u001b[0m \u001b[32m \u001b[0m \u001b[32m \u001b[0m \n",
      "\u001b[32m \u001b[0m \u001b[32m \u001b[0m \u001b[32m \u001b[0m \u001b[32m \u001b[0m \u001b[31m5\u001b[0m \u001b[32m \u001b[0m \u001b[32m \u001b[0m \u001b[32m \u001b[0m \u001b[32m \u001b[0m \n"
     ]
    }
   ],
   "source": [
    "pb = pbound(5)\n",
    "for y in crange(-pb,pb):\n",
    "    for s in crange(1,abs(y)):\n",
    "        printnlnG(' ')\n",
    "            \n",
    "    n = pbound(5-abs(y))\n",
    "    for x in crange(-n,n):\n",
    "        v = 5-abs(y)-abs(x)\n",
    "        if v == 1:\n",
    "            c = fib(abs(y)+1)\n",
    "            printnlnR(c)\n",
    "        elif abs(x) == 2 or abs(y) == 2:\n",
    "            c = (v-1)*2-1\n",
    "            printnlnR(c)\n",
    "        else:\n",
    "            printnlnR(' ')\n",
    "\n",
    "    for s in crange(1,abs(y)):\n",
    "        printnlnG(' ')\n",
    "    println()"
   ]
  },
  {
   "cell_type": "markdown",
   "metadata": {},
   "source": [
    "# SOAL 6"
   ]
  },
  {
   "cell_type": "code",
   "execution_count": 28,
   "metadata": {},
   "outputs": [
    {
     "name": "stdout",
     "output_type": "stream",
     "text": [
      "* _ _ _ * * * * * \n",
      "_ * _ _ * * * * _ \n",
      "_ _ * _ * * * _ _ \n",
      "_ _ _ * * * _ _ _ \n",
      "* * * * * _ _ _ _ \n",
      "* * * * _ * _ _ _ \n",
      "* * * _ _ _ * _ _ \n",
      "* * _ _ _ _ _ * _ \n",
      "* _ _ _ _ _ _ _ * \n"
     ]
    }
   ],
   "source": [
    "for y in crange(1,9):\n",
    "    for x in crange(1,9):\n",
    "        if x == y:\n",
    "            printnln(\"*\")\n",
    "        elif x>=y and x>=5 and x<=10-y:\n",
    "            printnln(\"*\")\n",
    "        elif x<=y and y>=5 and x<=10-y:\n",
    "            printnln(\"*\")\n",
    "        else:\n",
    "            printnln(\"_\")\n",
    "    println()"
   ]
  },
  {
   "cell_type": "markdown",
   "metadata": {},
   "source": [
    "# SOAL 7"
   ]
  },
  {
   "cell_type": "code",
   "execution_count": 29,
   "metadata": {},
   "outputs": [
    {
     "name": "stdout",
     "output_type": "stream",
     "text": [
      "* _ _ _ _ _ _ _ * \n",
      "_ * _ _ _ _ _ * * \n",
      "_ _ * _ _ _ * * * \n",
      "_ _ _ * _ * * * * \n",
      "_ _ _ _ * * * * * \n",
      "_ _ _ * * * _ _ _ \n",
      "_ _ * * * _ * _ _ \n",
      "_ * * * * _ _ * _ \n",
      "* * * * * _ _ _ * \n"
     ]
    }
   ],
   "source": [
    "for y in crange(1,9):\n",
    "    for x in crange(1,9):\n",
    "        if x == y:\n",
    "            printnln(\"*\")\n",
    "        elif x>=y and y<=5 and x>=10-y:\n",
    "            printnln(\"*\")\n",
    "        elif x<=y and x<=5 and x>=10-y:\n",
    "            printnln(\"*\")\n",
    "        else:\n",
    "            printnln(\"_\")\n",
    "    println()"
   ]
  },
  {
   "cell_type": "markdown",
   "metadata": {},
   "source": [
    "# SOAL 8"
   ]
  },
  {
   "cell_type": "code",
   "execution_count": 30,
   "metadata": {},
   "outputs": [
    {
     "name": "stdout",
     "output_type": "stream",
     "text": [
      "1 _ _ _ 1 1 1 1 1 \n",
      "_ 3 _ _ 3 3 3 3 _ \n",
      "_ _ 5 _ 5 5 5 _ _ \n",
      "_ _ _ 7 7 7 _ _ _ \n",
      "1 3 5 7 9 _ _ _ _ \n",
      "1 3 5 7 _ 7 _ _ _ \n",
      "1 3 5 _ _ _ 5 _ _ \n",
      "1 3 _ _ _ _ _ 3 _ \n",
      "1 _ _ _ _ _ _ _ 1 \n"
     ]
    }
   ],
   "source": [
    "for y in crange(1,9):\n",
    "    for x in crange(1,9):\n",
    "        if x == y:\n",
    "            if x<=5:\n",
    "                printnln(y*2-1)\n",
    "            else:\n",
    "                printnln((10-y)*2-1)\n",
    "        elif x>=y and x>=5 and x<=10-y:\n",
    "            printnln(y*2-1)\n",
    "        elif x<=y and y>=5 and x<=10-y:\n",
    "            printnln(x*2-1)\n",
    "        else:\n",
    "            printnln(\"_\")\n",
    "    println()"
   ]
  },
  {
   "cell_type": "markdown",
   "metadata": {},
   "source": [
    "# SOAL 9"
   ]
  },
  {
   "cell_type": "code",
   "execution_count": 31,
   "metadata": {},
   "outputs": [
    {
     "name": "stdout",
     "output_type": "stream",
     "text": [
      "1 1 1 1 1 _ _ _ 1 \n",
      "_ 3 3 3 3 _ _ 3 _ \n",
      "_ _ 5 5 5 _ 5 _ _ \n",
      "_ _ _ 7 7 7 _ _ _ \n",
      "_ _ _ _ 9 _ _ _ _ \n",
      "_ _ _ 7 7 7 _ _ _ \n",
      "_ _ 5 _ 5 5 5 _ _ \n",
      "_ 3 _ _ 3 3 3 3 _ \n",
      "1 _ _ _ 1 1 1 1 1 \n"
     ]
    }
   ],
   "source": [
    "for y in crange(1,9):\n",
    "    for x in crange(1,9):\n",
    "        if x==10-y:\n",
    "            if x>=5:\n",
    "                printnln(y*2-1)\n",
    "            else:\n",
    "                printnln((10-y)*2-1)\n",
    "        elif x>=y and x<=10-y and x<=5:\n",
    "            printnln(y*2-1)\n",
    "        elif x<=y and x>=10-y and x>=5:\n",
    "            printnln((10-y)*2-1)\n",
    "        else:\n",
    "            printnln(\"_\")\n",
    "    println()"
   ]
  },
  {
   "cell_type": "markdown",
   "metadata": {},
   "source": [
    "# SOAL 10"
   ]
  },
  {
   "cell_type": "code",
   "execution_count": 32,
   "metadata": {},
   "outputs": [
    {
     "name": "stdout",
     "output_type": "stream",
     "text": [
      "1 1 1 1 1 _ _ _ _ \n",
      "_ 3 3 3 3 _ _ _ _ \n",
      "_ _ 5 5 5 _ _ _ _ \n",
      "_ _ _ 7 7 _ _ _ _ \n",
      "_ _ _ _ 9 _ _ _ _ \n",
      "_ _ _ _ 7 7 _ _ _ \n",
      "_ _ _ _ 5 5 5 _ _ \n",
      "_ _ _ _ 3 3 3 3 _ \n",
      "_ _ _ _ 1 1 1 1 1 \n"
     ]
    }
   ],
   "source": [
    "for y in crange(1,9):\n",
    "    for x in crange(1,9):\n",
    "        if x>=y and x<=10-y and x<=5:\n",
    "            printnln(y*2-1)\n",
    "        elif x<=y and x>=10-y and x>=5:\n",
    "            printnln((10-y)*2-1)\n",
    "        else:\n",
    "            printnln(\"_\")\n",
    "    println()"
   ]
  },
  {
   "cell_type": "markdown",
   "metadata": {},
   "source": [
    "# TUTORIAL"
   ]
  },
  {
   "cell_type": "code",
   "execution_count": 49,
   "metadata": {},
   "outputs": [
    {
     "name": "stdout",
     "output_type": "stream",
     "text": [
      "-4 1 1\n",
      "-3 2 5\n",
      "-2 3 9\n",
      "-1 4 13\n",
      "0 5 17\n",
      "1 4 15\n",
      "2 3 11\n",
      "3 2 7\n",
      "4 1 3\n"
     ]
    }
   ],
   "source": [
    "for x in crange(-4,4):\n",
    "    v = 5 - abs(x)\n",
    "    c = (v*2-1)*2-1 if x <= 0 else (v * 2) * 2 - 1\n",
    "    print(x , v, c)"
   ]
  },
  {
   "cell_type": "code",
   "execution_count": 50,
   "metadata": {},
   "outputs": [
    {
     "name": "stdout",
     "output_type": "stream",
     "text": [
      "-4 1 2\n",
      "-3 2 6\n",
      "-2 3 10\n",
      "-1 4 14\n",
      "0 5 18\n",
      "1 4 16\n",
      "2 3 12\n",
      "3 2 8\n",
      "4 1 4\n"
     ]
    }
   ],
   "source": [
    "for x in crange(-4,4):\n",
    "    v = 5 - abs(x)\n",
    "    c = (v*2-1)*2 if x <= 0 else (v * 2) * 2\n",
    "    print(x , v, c)"
   ]
  },
  {
   "cell_type": "code",
   "execution_count": null,
   "metadata": {},
   "outputs": [],
   "source": []
  }
 ],
 "metadata": {
  "kernelspec": {
   "display_name": "Python 3",
   "language": "python",
   "name": "python3"
  },
  "language_info": {
   "codemirror_mode": {
    "name": "ipython",
    "version": 3
   },
   "file_extension": ".py",
   "mimetype": "text/x-python",
   "name": "python",
   "nbconvert_exporter": "python",
   "pygments_lexer": "ipython3",
   "version": "3.6.4"
  }
 },
 "nbformat": 4,
 "nbformat_minor": 2
}
