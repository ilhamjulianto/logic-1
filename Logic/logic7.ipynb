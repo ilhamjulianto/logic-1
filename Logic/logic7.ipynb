{
 "cells": [
  {
   "cell_type": "code",
   "execution_count": 1,
   "metadata": {},
   "outputs": [],
   "source": [
    "from my_custom_functions import *"
   ]
  },
  {
   "cell_type": "markdown",
   "metadata": {},
   "source": [
    "![](http://fs1.directupload.net/images/180503/rbjj5yqt.jpg)"
   ]
  },
  {
   "cell_type": "markdown",
   "metadata": {},
   "source": [
    "# LOGIC 7\n",
    "# SOAL 1"
   ]
  },
  {
   "cell_type": "code",
   "execution_count": 2,
   "metadata": {},
   "outputs": [
    {
     "name": "stdout",
     "output_type": "stream",
     "text": [
      "\u001b[32m \u001b[0m \u001b[32m \u001b[0m \u001b[32m \u001b[0m \u001b[32m \u001b[0m \u001b[31m*\u001b[0m \u001b[32m \u001b[0m \u001b[32m \u001b[0m \u001b[32m \u001b[0m \u001b[32m \u001b[0m \n",
      "\u001b[32m \u001b[0m \u001b[32m \u001b[0m \u001b[32m \u001b[0m \u001b[31m*\u001b[0m \u001b[31m \u001b[0m \u001b[31m*\u001b[0m \u001b[32m \u001b[0m \u001b[32m \u001b[0m \u001b[32m \u001b[0m \n",
      "\u001b[32m \u001b[0m \u001b[32m \u001b[0m \u001b[31m*\u001b[0m \u001b[31m*\u001b[0m \u001b[31m*\u001b[0m \u001b[31m*\u001b[0m \u001b[31m*\u001b[0m \u001b[32m \u001b[0m \u001b[32m \u001b[0m \n",
      "\u001b[32m \u001b[0m \u001b[31m*\u001b[0m \u001b[31m*\u001b[0m \u001b[31m \u001b[0m \u001b[31m \u001b[0m \u001b[31m \u001b[0m \u001b[31m*\u001b[0m \u001b[31m*\u001b[0m \u001b[32m \u001b[0m \n",
      "\u001b[31m*\u001b[0m \u001b[31m \u001b[0m \u001b[31m*\u001b[0m \u001b[31m \u001b[0m \u001b[31m \u001b[0m \u001b[31m \u001b[0m \u001b[31m*\u001b[0m \u001b[31m \u001b[0m \u001b[31m*\u001b[0m \n",
      "\u001b[32m \u001b[0m \u001b[31m*\u001b[0m \u001b[31m*\u001b[0m \u001b[31m \u001b[0m \u001b[31m \u001b[0m \u001b[31m \u001b[0m \u001b[31m*\u001b[0m \u001b[31m*\u001b[0m \u001b[32m \u001b[0m \n",
      "\u001b[32m \u001b[0m \u001b[32m \u001b[0m \u001b[31m*\u001b[0m \u001b[31m*\u001b[0m \u001b[31m*\u001b[0m \u001b[31m*\u001b[0m \u001b[31m*\u001b[0m \u001b[32m \u001b[0m \u001b[32m \u001b[0m \n",
      "\u001b[32m \u001b[0m \u001b[32m \u001b[0m \u001b[32m \u001b[0m \u001b[31m*\u001b[0m \u001b[31m \u001b[0m \u001b[31m*\u001b[0m \u001b[32m \u001b[0m \u001b[32m \u001b[0m \u001b[32m \u001b[0m \n",
      "\u001b[32m \u001b[0m \u001b[32m \u001b[0m \u001b[32m \u001b[0m \u001b[32m \u001b[0m \u001b[31m*\u001b[0m \u001b[32m \u001b[0m \u001b[32m \u001b[0m \u001b[32m \u001b[0m \u001b[32m \u001b[0m \n"
     ]
    }
   ],
   "source": [
    "pb = pbound(5)\n",
    "for y in crange(-pb,pb):\n",
    "    for s in crange(1,abs(y)):\n",
    "        printnlnG(' ')\n",
    "            \n",
    "    n = pbound(5-abs(y))\n",
    "    for x in crange(-n,n):\n",
    "        v = 5-abs(y)-abs(x)\n",
    "        if v == 1 or abs(x) == 2 or abs(y) == 2:\n",
    "            printnlnR('*')\n",
    "        else:\n",
    "            printnlnR(' ')\n",
    "\n",
    "    for s in crange(1,abs(y)):\n",
    "        printnlnG(' ')\n",
    "    println()"
   ]
  },
  {
   "cell_type": "markdown",
   "metadata": {},
   "source": [
    "# SOAL 2"
   ]
  },
  {
   "cell_type": "code",
   "execution_count": 3,
   "metadata": {},
   "outputs": [
    {
     "name": "stdout",
     "output_type": "stream",
     "text": [
      "\u001b[32m \u001b[0m \u001b[32m \u001b[0m \u001b[32m \u001b[0m \u001b[32m \u001b[0m \u001b[31m2\u001b[0m \u001b[32m \u001b[0m \u001b[32m \u001b[0m \u001b[32m \u001b[0m \u001b[32m \u001b[0m \n",
      "\u001b[32m \u001b[0m \u001b[32m \u001b[0m \u001b[32m \u001b[0m \u001b[31m1\u001b[0m \u001b[31m6\u001b[0m \u001b[31m2\u001b[0m \u001b[32m \u001b[0m \u001b[32m \u001b[0m \u001b[32m \u001b[0m \n",
      "\u001b[32m \u001b[0m \u001b[32m \u001b[0m \u001b[31m1\u001b[0m \u001b[31m \u001b[0m \u001b[31m10\u001b[0m \u001b[31m \u001b[0m \u001b[31m2\u001b[0m \u001b[32m \u001b[0m \u001b[32m \u001b[0m \n",
      "\u001b[32m \u001b[0m \u001b[31m1\u001b[0m \u001b[31m \u001b[0m \u001b[31m \u001b[0m \u001b[31m14\u001b[0m \u001b[31m \u001b[0m \u001b[31m \u001b[0m \u001b[31m2\u001b[0m \u001b[32m \u001b[0m \n",
      "\u001b[31m1\u001b[0m \u001b[31m5\u001b[0m \u001b[31m9\u001b[0m \u001b[31m13\u001b[0m \u001b[31m17\u001b[0m \u001b[31m15\u001b[0m \u001b[31m11\u001b[0m \u001b[31m7\u001b[0m \u001b[31m3\u001b[0m \n",
      "\u001b[32m \u001b[0m \u001b[31m4\u001b[0m \u001b[31m \u001b[0m \u001b[31m \u001b[0m \u001b[31m16\u001b[0m \u001b[31m \u001b[0m \u001b[31m \u001b[0m \u001b[31m3\u001b[0m \u001b[32m \u001b[0m \n",
      "\u001b[32m \u001b[0m \u001b[32m \u001b[0m \u001b[31m4\u001b[0m \u001b[31m \u001b[0m \u001b[31m12\u001b[0m \u001b[31m \u001b[0m \u001b[31m3\u001b[0m \u001b[32m \u001b[0m \u001b[32m \u001b[0m \n",
      "\u001b[32m \u001b[0m \u001b[32m \u001b[0m \u001b[32m \u001b[0m \u001b[31m4\u001b[0m \u001b[31m8\u001b[0m \u001b[31m3\u001b[0m \u001b[32m \u001b[0m \u001b[32m \u001b[0m \u001b[32m \u001b[0m \n",
      "\u001b[32m \u001b[0m \u001b[32m \u001b[0m \u001b[32m \u001b[0m \u001b[32m \u001b[0m \u001b[31m4\u001b[0m \u001b[32m \u001b[0m \u001b[32m \u001b[0m \u001b[32m \u001b[0m \u001b[32m \u001b[0m \n"
     ]
    }
   ],
   "source": [
    "pb = pbound(5)\n",
    "for y in crange(-pb,pb):\n",
    "    for s in crange(1,abs(y)):\n",
    "        printnlnG(' ')\n",
    "            \n",
    "    n = pbound(5-abs(y))\n",
    "    for x in crange(-n,n):\n",
    "        v = 5-abs(y)-abs(x)\n",
    "        if v == 1:\n",
    "            if x < 0 and y <= 0:\n",
    "                printnlnR(1)\n",
    "            elif x >= 0 and y < 0:\n",
    "                printnlnR(2)\n",
    "            elif x > 0 and y >= 0:\n",
    "                printnlnR(3)\n",
    "            elif x <= 0 and y > 0:\n",
    "                printnlnR(4)\n",
    "#             printnlnR('*')\n",
    "        elif y == 0:\n",
    "            v = 5 - abs(x)\n",
    "            c = (v*2-1)*2-1 if x <= 0 else (v * 2) * 2 - 1\n",
    "            printnlnR(c)\n",
    "        elif x == 0:\n",
    "            v = 5 - abs(y)\n",
    "            c = (v*2-1)*2 if y <= 0 else (v*2)*2\n",
    "            printnlnR(c)\n",
    "        else:\n",
    "            printnlnR(' ')\n",
    "\n",
    "    for s in crange(1,abs(y)):\n",
    "        printnlnG(' ')\n",
    "    println()"
   ]
  },
  {
   "cell_type": "markdown",
   "metadata": {},
   "source": [
    "# SOAL 3"
   ]
  },
  {
   "cell_type": "code",
   "execution_count": 4,
   "metadata": {},
   "outputs": [
    {
     "name": "stdout",
     "output_type": "stream",
     "text": [
      "\u001b[32m \u001b[0m \u001b[32m \u001b[0m \u001b[32m \u001b[0m \u001b[32m \u001b[0m \u001b[31m5\u001b[0m \u001b[32m \u001b[0m \u001b[32m \u001b[0m \u001b[32m \u001b[0m \u001b[32m \u001b[0m \n",
      "\u001b[32m \u001b[0m \u001b[32m \u001b[0m \u001b[32m \u001b[0m \u001b[31m3\u001b[0m \u001b[31m \u001b[0m \u001b[31m3\u001b[0m \u001b[32m \u001b[0m \u001b[32m \u001b[0m \u001b[32m \u001b[0m \n",
      "\u001b[32m \u001b[0m \u001b[32m \u001b[0m \u001b[31m2\u001b[0m \u001b[31m1\u001b[0m \u001b[31m3\u001b[0m \u001b[31m1\u001b[0m \u001b[31m2\u001b[0m \u001b[32m \u001b[0m \u001b[32m \u001b[0m \n",
      "\u001b[32m \u001b[0m \u001b[31m1\u001b[0m \u001b[31m1\u001b[0m \u001b[31m \u001b[0m \u001b[31m \u001b[0m \u001b[31m \u001b[0m \u001b[31m1\u001b[0m \u001b[31m1\u001b[0m \u001b[32m \u001b[0m \n",
      "\u001b[31m1\u001b[0m \u001b[31m \u001b[0m \u001b[31m3\u001b[0m \u001b[31m \u001b[0m \u001b[31m \u001b[0m \u001b[31m \u001b[0m \u001b[31m3\u001b[0m \u001b[31m \u001b[0m \u001b[31m1\u001b[0m \n",
      "\u001b[32m \u001b[0m \u001b[31m1\u001b[0m \u001b[31m1\u001b[0m \u001b[31m \u001b[0m \u001b[31m \u001b[0m \u001b[31m \u001b[0m \u001b[31m1\u001b[0m \u001b[31m1\u001b[0m \u001b[32m \u001b[0m \n",
      "\u001b[32m \u001b[0m \u001b[32m \u001b[0m \u001b[31m2\u001b[0m \u001b[31m1\u001b[0m \u001b[31m3\u001b[0m \u001b[31m1\u001b[0m \u001b[31m2\u001b[0m \u001b[32m \u001b[0m \u001b[32m \u001b[0m \n",
      "\u001b[32m \u001b[0m \u001b[32m \u001b[0m \u001b[32m \u001b[0m \u001b[31m3\u001b[0m \u001b[31m \u001b[0m \u001b[31m3\u001b[0m \u001b[32m \u001b[0m \u001b[32m \u001b[0m \u001b[32m \u001b[0m \n",
      "\u001b[32m \u001b[0m \u001b[32m \u001b[0m \u001b[32m \u001b[0m \u001b[32m \u001b[0m \u001b[31m5\u001b[0m \u001b[32m \u001b[0m \u001b[32m \u001b[0m \u001b[32m \u001b[0m \u001b[32m \u001b[0m \n"
     ]
    }
   ],
   "source": [
    "pb = pbound(5)\n",
    "for y in crange(-pb,pb):\n",
    "    for s in crange(1,abs(y)):\n",
    "        printnlnG(' ')\n",
    "            \n",
    "    n = pbound(5-abs(y))\n",
    "    for x in crange(-n,n):\n",
    "        v = 5-abs(y)-abs(x)\n",
    "        if v == 1:\n",
    "            c = fib(abs(y)+1)\n",
    "            printnlnR(c)\n",
    "        elif abs(x) == 2 or abs(y) == 2:\n",
    "            c = (v-1)*2-1\n",
    "            printnlnR(c)\n",
    "        else:\n",
    "            printnlnR(' ')\n",
    "\n",
    "    for s in crange(1,abs(y)):\n",
    "        printnlnG(' ')\n",
    "    println()"
   ]
  },
  {
   "cell_type": "markdown",
   "metadata": {},
   "source": [
    "# SOAL 6"
   ]
  },
  {
   "cell_type": "code",
   "execution_count": 5,
   "metadata": {},
   "outputs": [
    {
     "name": "stdout",
     "output_type": "stream",
     "text": [
      "*___*****\n",
      "_*__****_\n",
      "__*_***__\n",
      "___***___\n",
      "*****____\n",
      "****_*___\n",
      "***___*__\n",
      "**_____*_\n",
      "*_______*\n"
     ]
    }
   ],
   "source": [
    "for y in crange(1,9):\n",
    "    for x in crange(1,9):\n",
    "        if x == y:\n",
    "            printnln(\"*\")\n",
    "        elif x>=y and x>=5 and x<=10-y:\n",
    "            printnln(\"*\")\n",
    "        elif x<=y and y>=5 and x<=10-y:\n",
    "            printnln(\"*\")\n",
    "        else:\n",
    "            printnln(\"_\")\n",
    "    println()"
   ]
  },
  {
   "cell_type": "markdown",
   "metadata": {},
   "source": [
    "# SOAL 7"
   ]
  },
  {
   "cell_type": "code",
   "execution_count": 6,
   "metadata": {},
   "outputs": [
    {
     "name": "stdout",
     "output_type": "stream",
     "text": [
      "*_______*\n",
      "_*_____**\n",
      "__*___***\n",
      "___*_****\n",
      "____*****\n",
      "___***___\n",
      "__***_*__\n",
      "_****__*_\n",
      "*****___*\n"
     ]
    }
   ],
   "source": [
    "for y in crange(1,9):\n",
    "    for x in crange(1,9):\n",
    "        if x == y:\n",
    "            printnln(\"*\")\n",
    "        elif x>=y and y<=5 and x>=10-y:\n",
    "            printnln(\"*\")\n",
    "        elif x<=y and x<=5 and x>=10-y:\n",
    "            printnln(\"*\")\n",
    "        else:\n",
    "            printnln(\"_\")\n",
    "    println()"
   ]
  },
  {
   "cell_type": "markdown",
   "metadata": {},
   "source": [
    "# SOAL 8"
   ]
  },
  {
   "cell_type": "code",
   "execution_count": 7,
   "metadata": {},
   "outputs": [
    {
     "name": "stdout",
     "output_type": "stream",
     "text": [
      "1___11111\n",
      "_3__3333_\n",
      "__5_555__\n",
      "___777___\n",
      "13579____\n",
      "1357_7___\n",
      "135___5__\n",
      "13_____3_\n",
      "1_______1\n"
     ]
    }
   ],
   "source": [
    "for y in crange(1,9):\n",
    "    for x in crange(1,9):\n",
    "        if x == y:\n",
    "            if x<=5:\n",
    "                printnln(y*2-1)\n",
    "            else:\n",
    "                printnln((10-y)*2-1)\n",
    "        elif x>=y and x>=5 and x<=10-y:\n",
    "            printnln(y*2-1)\n",
    "        elif x<=y and y>=5 and x<=10-y:\n",
    "            printnln(x*2-1)\n",
    "        else:\n",
    "            printnln(\"_\")\n",
    "    println()"
   ]
  },
  {
   "cell_type": "markdown",
   "metadata": {},
   "source": [
    "# SOAL 9"
   ]
  },
  {
   "cell_type": "code",
   "execution_count": 8,
   "metadata": {},
   "outputs": [
    {
     "name": "stdout",
     "output_type": "stream",
     "text": [
      "11111___1\n",
      "_3333__3_\n",
      "__555_5__\n",
      "___777___\n",
      "____9____\n",
      "___777___\n",
      "__5_555__\n",
      "_3__3333_\n",
      "1___11111\n"
     ]
    }
   ],
   "source": [
    "for y in crange(1,9):\n",
    "    for x in crange(1,9):\n",
    "        if x==10-y:\n",
    "            if x>=5:\n",
    "                printnln(y*2-1)\n",
    "            else:\n",
    "                printnln((10-y)*2-1)\n",
    "        elif x>=y and x<=10-y and x<=5:\n",
    "            printnln(y*2-1)\n",
    "        elif x<=y and x>=10-y and x>=5:\n",
    "            printnln((10-y)*2-1)\n",
    "        else:\n",
    "            printnln(\"_\")\n",
    "    println()"
   ]
  },
  {
   "cell_type": "markdown",
   "metadata": {},
   "source": [
    "# SOAL 10"
   ]
  },
  {
   "cell_type": "code",
   "execution_count": 9,
   "metadata": {},
   "outputs": [
    {
     "name": "stdout",
     "output_type": "stream",
     "text": [
      "11111____\n",
      "_3333____\n",
      "__555____\n",
      "___77____\n",
      "____9____\n",
      "____77___\n",
      "____555__\n",
      "____3333_\n",
      "____11111\n"
     ]
    }
   ],
   "source": [
    "for y in crange(1,9):\n",
    "    for x in crange(1,9):\n",
    "        if x>=y and x<=10-y and x<=5:\n",
    "            printnln(y*2-1)\n",
    "        elif x<=y and x>=10-y and x>=5:\n",
    "            printnln((10-y)*2-1)\n",
    "        else:\n",
    "            printnln(\"_\")\n",
    "    println()"
   ]
  },
  {
   "cell_type": "markdown",
   "metadata": {},
   "source": [
    "# TUTORIAL"
   ]
  },
  {
   "cell_type": "code",
   "execution_count": 10,
   "metadata": {},
   "outputs": [
    {
     "name": "stdout",
     "output_type": "stream",
     "text": [
      "-4 1 1\n",
      "-3 2 5\n",
      "-2 3 9\n",
      "-1 4 13\n",
      "0 5 17\n",
      "1 4 15\n",
      "2 3 11\n",
      "3 2 7\n",
      "4 1 3\n"
     ]
    }
   ],
   "source": [
    "for x in crange(-4,4):\n",
    "    v = 5 - abs(x)\n",
    "    c = (v*2-1)*2-1 if x <= 0 else (v * 2) * 2 - 1\n",
    "    print(x , v, c)"
   ]
  },
  {
   "cell_type": "code",
   "execution_count": 11,
   "metadata": {},
   "outputs": [
    {
     "name": "stdout",
     "output_type": "stream",
     "text": [
      "-4 1 2\n",
      "-3 2 6\n",
      "-2 3 10\n",
      "-1 4 14\n",
      "0 5 18\n",
      "1 4 16\n",
      "2 3 12\n",
      "3 2 8\n",
      "4 1 4\n"
     ]
    }
   ],
   "source": [
    "for x in crange(-4,4):\n",
    "    v = 5 - abs(x)\n",
    "    c = (v*2-1)*2 if x <= 0 else (v * 2) * 2\n",
    "    print(x , v, c)"
   ]
  },
  {
   "cell_type": "code",
   "execution_count": null,
   "metadata": {},
   "outputs": [],
   "source": []
  }
 ],
 "metadata": {
  "kernelspec": {
   "display_name": "Python 3",
   "language": "python",
   "name": "python3"
  },
  "language_info": {
   "codemirror_mode": {
    "name": "ipython",
    "version": 3
   },
   "file_extension": ".py",
   "mimetype": "text/x-python",
   "name": "python",
   "nbconvert_exporter": "python",
   "pygments_lexer": "ipython3",
   "version": "3.6.4"
  }
 },
 "nbformat": 4,
 "nbformat_minor": 2
}
