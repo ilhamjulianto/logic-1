{
 "cells": [
  {
   "cell_type": "code",
   "execution_count": 1,
   "metadata": {},
   "outputs": [],
   "source": [
    "%load_ext autoreload\n",
    "%autoreload 2\n",
    "\n",
    "from my_custom_functions import *"
   ]
  },
  {
   "cell_type": "markdown",
   "metadata": {},
   "source": [
    "# LOGIC 4\n",
    "# SOAL 1"
   ]
  },
  {
   "cell_type": "code",
   "execution_count": 2,
   "metadata": {},
   "outputs": [],
   "source": [
    "# try-catch?"
   ]
  },
  {
   "cell_type": "markdown",
   "metadata": {},
   "source": [
    "# SOAL 2"
   ]
  },
  {
   "cell_type": "code",
   "execution_count": 3,
   "metadata": {},
   "outputs": [],
   "source": [
    "# try-catch?"
   ]
  },
  {
   "cell_type": "markdown",
   "metadata": {},
   "source": [
    "# Fungsi yang akan dipakai"
   ]
  },
  {
   "cell_type": "code",
   "execution_count": 4,
   "metadata": {},
   "outputs": [],
   "source": [
    "def pyramidCount(i):\n",
    "    return i * 2 - 1"
   ]
  },
  {
   "cell_type": "markdown",
   "metadata": {},
   "source": [
    "# SOAL 3"
   ]
  },
  {
   "cell_type": "code",
   "execution_count": 5,
   "metadata": {},
   "outputs": [
    {
     "name": "stdout",
     "output_type": "stream",
     "text": [
      "    1\n",
      "   123\n",
      "  12345\n",
      " 1234567\n",
      "123456789\n"
     ]
    }
   ],
   "source": [
    "for y in crange(1,5):\n",
    "    for s in crange(1,5-y):\n",
    "        printnln(' ')\n",
    "    for p in crange(1, pyramidCount(y)):\n",
    "        printnln(p)\n",
    "    println()"
   ]
  },
  {
   "cell_type": "markdown",
   "metadata": {},
   "source": [
    "# SOAL 4"
   ]
  },
  {
   "cell_type": "code",
   "execution_count": 6,
   "metadata": {},
   "outputs": [
    {
     "name": "stdout",
     "output_type": "stream",
     "text": [
      "123456789\n",
      " 1234567\n",
      "  12345\n",
      "   123\n",
      "    1\n"
     ]
    }
   ],
   "source": [
    "for y in crange(1,5):\n",
    "    for s in crange(1,y-1):\n",
    "        printnln(' ')\n",
    "        \n",
    "    x = pyramidCount(5-(y-1))\n",
    "    for p in crange(1, x):\n",
    "        printnln(p)\n",
    "    println()"
   ]
  },
  {
   "cell_type": "markdown",
   "metadata": {},
   "source": [
    "# SOAL 5"
   ]
  },
  {
   "cell_type": "code",
   "execution_count": 7,
   "metadata": {
    "scrolled": true
   },
   "outputs": [
    {
     "name": "stdout",
     "output_type": "stream",
     "text": [
      "    1\n",
      "   123\n",
      "  12345\n",
      " 1234567\n",
      "123456789\n",
      " 1234567\n",
      "  12345\n",
      "   123\n",
      "    1\n"
     ]
    }
   ],
   "source": [
    "for y in crange(1,9):\n",
    "    if y <= 5:\n",
    "        for s in crange(1,5-y):\n",
    "            printnln(' ')\n",
    "        for p in crange(1, pyramidCount(y)):\n",
    "            printnln(p)\n",
    "    else:\n",
    "        for s in crange(1,y-5):\n",
    "            printnln(' ')\n",
    "        \n",
    "        x = pyramidCount(5-(y-5))\n",
    "        for p in crange(1, x):\n",
    "            printnln(p)\n",
    "    \n",
    "    println()"
   ]
  },
  {
   "cell_type": "markdown",
   "metadata": {},
   "source": [
    "# Membuat bound untuk bentuk Pyramid dengan crange\n",
    "#### misal pyramid ke 1 maka boundnya adalah 0 karena bentuknya 0\n",
    "#### misal pyramid ke 2 maka boundnya adalah 1 karena bentuknya 101\n",
    "#### misal pyramid ke 3 maka boundnya adalah 2 karena bentuknya 21012"
   ]
  },
  {
   "cell_type": "code",
   "execution_count": 8,
   "metadata": {},
   "outputs": [
    {
     "name": "stdout",
     "output_type": "stream",
     "text": [
      "0\n",
      "1\n",
      "2\n",
      "3\n",
      "4\n"
     ]
    }
   ],
   "source": [
    "def pbound(i):\n",
    "     return i - 1\n",
    "    \n",
    "for i in crange(1,5):\n",
    "    println(pbound(i))"
   ]
  },
  {
   "cell_type": "code",
   "execution_count": 9,
   "metadata": {},
   "outputs": [
    {
     "name": "stdout",
     "output_type": "stream",
     "text": [
      "____1\n",
      "___123\n",
      "__12345\n",
      "_1234567\n",
      "123456789\n",
      "_1234567\n",
      "__12345\n",
      "___123\n",
      "____1\n"
     ]
    }
   ],
   "source": [
    "pb = pbound(5)\n",
    "for y in crange(-pb,pb):\n",
    "    for s in crange(1,abs(y)):\n",
    "        printnln('_')\n",
    "    for x in crange(1,pyramidCount(5-abs(y))):\n",
    "        printnln(x)\n",
    "    println()"
   ]
  },
  {
   "cell_type": "markdown",
   "metadata": {},
   "source": [
    "# Bentuk pyramid\n",
    "### Hasil crange dengan pbound, element sudah diabsolutkan"
   ]
  },
  {
   "cell_type": "code",
   "execution_count": 10,
   "metadata": {},
   "outputs": [
    {
     "name": "stdout",
     "output_type": "stream",
     "text": [
      "0\n",
      "101\n",
      "21012\n",
      "3210123\n",
      "432101234\n"
     ]
    }
   ],
   "source": [
    "for i in crange(1,5):\n",
    "    n = pbound(i)\n",
    "    for i in crange(-n,n):\n",
    "        printnln(abs(i))\n",
    "    println()"
   ]
  },
  {
   "cell_type": "markdown",
   "metadata": {},
   "source": [
    "# SOAL 6"
   ]
  },
  {
   "cell_type": "code",
   "execution_count": 11,
   "metadata": {},
   "outputs": [
    {
     "name": "stdout",
     "output_type": "stream",
     "text": [
      "    1\n",
      "   131\n",
      "  13531\n",
      " 1357531\n",
      "135797531\n"
     ]
    }
   ],
   "source": [
    "for y in crange(1,5):\n",
    "    for s in crange(1, 5-y):\n",
    "        printnln(' ')\n",
    "    n = pbound(y)\n",
    "    for x in crange(-n,n):\n",
    "        v = (y - abs(x)) * 2 -1\n",
    "        printnln(v)\n",
    "    println()\n",
    "    "
   ]
  },
  {
   "cell_type": "markdown",
   "metadata": {},
   "source": [
    "# SOAL 7"
   ]
  },
  {
   "cell_type": "code",
   "execution_count": 12,
   "metadata": {},
   "outputs": [
    {
     "name": "stdout",
     "output_type": "stream",
     "text": [
      "135797531\n",
      " 1357531\n",
      "  13531\n",
      "   131\n",
      "    1\n"
     ]
    }
   ],
   "source": [
    "for y in crange(1,5):\n",
    "    for s in crange(1, y-1):\n",
    "        printnln(' ')\n",
    "    \n",
    "    t = 5-(y-1)\n",
    "    n = pbound(t)\n",
    "    for x in crange(-n,n):\n",
    "        v = (t - abs(x)) * 2 -1\n",
    "        printnln(v)\n",
    "    println()\n",
    "    "
   ]
  },
  {
   "cell_type": "markdown",
   "metadata": {},
   "source": [
    "# SOAL 8"
   ]
  },
  {
   "cell_type": "code",
   "execution_count": 13,
   "metadata": {},
   "outputs": [
    {
     "name": "stdout",
     "output_type": "stream",
     "text": [
      "\u001b[32m1\u001b[0m \u001b[32m2\u001b[0m \u001b[32m3\u001b[0m \u001b[32m4\u001b[0m \u001b[31m1\u001b[0m \u001b[32m1\u001b[0m \u001b[32m2\u001b[0m \u001b[32m3\u001b[0m \u001b[32m4\u001b[0m \n",
      "\u001b[32m1\u001b[0m \u001b[32m2\u001b[0m \u001b[32m3\u001b[0m \u001b[31m1\u001b[0m \u001b[31m3\u001b[0m \u001b[31m1\u001b[0m \u001b[32m1\u001b[0m \u001b[32m2\u001b[0m \u001b[32m3\u001b[0m \n",
      "\u001b[32m1\u001b[0m \u001b[32m2\u001b[0m \u001b[31m1\u001b[0m \u001b[31m3\u001b[0m \u001b[31m5\u001b[0m \u001b[31m3\u001b[0m \u001b[31m1\u001b[0m \u001b[32m1\u001b[0m \u001b[32m2\u001b[0m \n",
      "\u001b[32m1\u001b[0m \u001b[31m1\u001b[0m \u001b[31m3\u001b[0m \u001b[31m5\u001b[0m \u001b[31m7\u001b[0m \u001b[31m5\u001b[0m \u001b[31m3\u001b[0m \u001b[31m1\u001b[0m \u001b[32m1\u001b[0m \n",
      "\u001b[31m1\u001b[0m \u001b[31m3\u001b[0m \u001b[31m5\u001b[0m \u001b[31m7\u001b[0m \u001b[31m9\u001b[0m \u001b[31m7\u001b[0m \u001b[31m5\u001b[0m \u001b[31m3\u001b[0m \u001b[31m1\u001b[0m \n",
      "\u001b[32m1\u001b[0m \u001b[31m1\u001b[0m \u001b[31m3\u001b[0m \u001b[31m5\u001b[0m \u001b[31m7\u001b[0m \u001b[31m5\u001b[0m \u001b[31m3\u001b[0m \u001b[31m1\u001b[0m \u001b[32m1\u001b[0m \n",
      "\u001b[32m1\u001b[0m \u001b[32m2\u001b[0m \u001b[31m1\u001b[0m \u001b[31m3\u001b[0m \u001b[31m5\u001b[0m \u001b[31m3\u001b[0m \u001b[31m1\u001b[0m \u001b[32m1\u001b[0m \u001b[32m2\u001b[0m \n",
      "\u001b[32m1\u001b[0m \u001b[32m2\u001b[0m \u001b[32m3\u001b[0m \u001b[31m1\u001b[0m \u001b[31m3\u001b[0m \u001b[31m1\u001b[0m \u001b[32m1\u001b[0m \u001b[32m2\u001b[0m \u001b[32m3\u001b[0m \n",
      "\u001b[32m1\u001b[0m \u001b[32m2\u001b[0m \u001b[32m3\u001b[0m \u001b[32m4\u001b[0m \u001b[31m1\u001b[0m \u001b[32m1\u001b[0m \u001b[32m2\u001b[0m \u001b[32m3\u001b[0m \u001b[32m4\u001b[0m \n"
     ]
    }
   ],
   "source": [
    "pb = pbound(5)\n",
    "for y in crange(-pb,pb):\n",
    "    for s in crange(1,abs(y)):\n",
    "        printnlnG(s)\n",
    "            \n",
    "    n = pbound(5-abs(y))\n",
    "    for x in crange(-n,n):\n",
    "        v = 5-abs(y)-abs(x)\n",
    "        printnlnR(v*2-1)\n",
    "\n",
    "    for s in crange(1,abs(y)):\n",
    "        printnlnG(s)\n",
    "    println()"
   ]
  },
  {
   "cell_type": "markdown",
   "metadata": {},
   "source": [
    "# SOAL 9"
   ]
  },
  {
   "cell_type": "code",
   "execution_count": 25,
   "metadata": {},
   "outputs": [
    {
     "name": "stdout",
     "output_type": "stream",
     "text": [
      "    1       1    \n",
      "   131     131   \n",
      "  13531   13531  \n",
      " 1357531 1357531 \n",
      "13579753135797531\n",
      " 1357531 1357531 \n",
      "  13531   13531  \n",
      "   131     131   \n",
      "    1       1    \n"
     ]
    }
   ],
   "source": [
    "pb = pbound(5)\n",
    "for y in crange(-pb,pb):\n",
    "            for i in range(2):\n",
    "\n",
    "                for s in crange(1,abs(y)):\n",
    "                    if i > 0 and s == 1 : continue\n",
    "                    printnln(' ')\n",
    "\n",
    "                n = pbound(5-abs(y))\n",
    "                for x in crange(-n,n):\n",
    "                    v = 5-abs(y)-abs(x)\n",
    "                    if i > 0 and x == -4 : continue\n",
    "                    printnln(v*2-1)\n",
    "\n",
    "                for s in crange(1,abs(y)):\n",
    "                    printnln(' ')\n",
    "            println()"
   ]
  },
  {
   "cell_type": "markdown",
   "metadata": {},
   "source": [
    "# SOAL 10"
   ]
  },
  {
   "cell_type": "code",
   "execution_count": 17,
   "metadata": {},
   "outputs": [
    {
     "name": "stdout",
     "output_type": "stream",
     "text": [
      "    5       5    \n",
      "   3 3     3 3   \n",
      "  2 2 2   2 2 2  \n",
      " 1 1 1 1 1 1 1 1 \n",
      "1 1 2 1 1 1 2 1 1\n",
      " 1 1 1 1 1 1 1 1 \n",
      "  2 2 2   2 2 2  \n",
      "   3 3     3 3   \n",
      "    5       5    \n"
     ]
    }
   ],
   "source": [
    "pb = pbound(5)\n",
    "for y in crange(-pb,pb):\n",
    "    for i in range(2):\n",
    "        for s in crange(1,abs(y)):\n",
    "            if i > 0 and s == 1 : continue\n",
    "            printnln(' ')\n",
    "        n = pbound(5-abs(y))\n",
    "        for x in crange(-n,n):\n",
    "            v = 5-abs(y)-abs(x)\n",
    "            if i > 0 and x == -4 : continue\n",
    "            if v % 2 == 0:\n",
    "                printnln(' ')\n",
    "            else:\n",
    "                yt = abs(y)+1\n",
    "                xt = (4-abs(x))//2+1\n",
    "                p = max(yt,xt)\n",
    "                printnln(fib(p))\n",
    "        for s in crange(1,abs(y)):\n",
    "            printnln(' ')\n",
    "    println()"
   ]
  },
  {
   "cell_type": "markdown",
   "metadata": {},
   "source": [
    "# TUTORIAL"
   ]
  },
  {
   "cell_type": "code",
   "execution_count": 18,
   "metadata": {},
   "outputs": [
    {
     "name": "stdout",
     "output_type": "stream",
     "text": [
      "    1       1   \n",
      "   131     131  \n",
      "  13531   13531 \n",
      " 1357531 1357531\n",
      "13579753135797531\n",
      " 1357531 1357531\n",
      "  13531   13531 \n",
      "   131     131  \n",
      "    1       1   \n"
     ]
    }
   ],
   "source": [
    "# SOAL 9\n",
    "spasi = ' '\n",
    "for y in crange(1,9):\n",
    "    for w in range(2):\n",
    "        if y <= 5:\n",
    "            for s in crange(1,5-y):\n",
    "                if w > 0 and s == 1 : continue\n",
    "                printnln(spasi)\n",
    "\n",
    "            n = pbound(y)\n",
    "            for x in crange(-n,n):\n",
    "                if w > 0 and x == -4 : continue\n",
    "                v = (y - abs(x)) * 2 -1\n",
    "                printnln(v)\n",
    "                \n",
    "            for s in crange(1,5-y):\n",
    "                if w > 0 and s == 1 : continue\n",
    "                printnln(spasi)\n",
    "        else:\n",
    "            for s in crange(1,y-5):\n",
    "                if w > 0 and s == 1 : continue\n",
    "                printnln(spasi)\n",
    "\n",
    "            t = 5-(y-5)\n",
    "            n = pbound(t)\n",
    "            for x in crange(-n,n):\n",
    "                v = (t - abs(x)) * 2 -1\n",
    "                printnln(v)    \n",
    "            \n",
    "            for s in crange(1,y-5):\n",
    "                if w > 0 and s == 1 : continue\n",
    "                printnln(spasi)\n",
    "    println()"
   ]
  },
  {
   "cell_type": "code",
   "execution_count": 19,
   "metadata": {},
   "outputs": [
    {
     "name": "stdout",
     "output_type": "stream",
     "text": [
      "*       *\n",
      " *     * \n",
      "  *   *  \n",
      "   * *   \n",
      "    *    \n",
      "   * *   \n",
      "  *   *  \n",
      " *     * \n",
      "*       *\n"
     ]
    }
   ],
   "source": [
    "for y in crange(-4,4):\n",
    "    for x in crange(-4,4):\n",
    "        if abs(x) == abs(y):\n",
    "            printnln('*')\n",
    "        else:\n",
    "            printnln(' ')\n",
    "    println()"
   ]
  },
  {
   "cell_type": "code",
   "execution_count": 20,
   "metadata": {},
   "outputs": [
    {
     "name": "stdout",
     "output_type": "stream",
     "text": [
      " \u001b[34m4\u001b[0m \u001b[34m3\u001b[0m \u001b[34m2\u001b[0m \u001b[34m1\u001b[0m \u001b[34m0\u001b[0m \u001b[34m1\u001b[0m \u001b[34m2\u001b[0m \u001b[34m3\u001b[0m \u001b[34m4\u001b[0m \n",
      "\u001b[34m4\u001b[0m \u001b[32m1\u001b[0m \u001b[32m2\u001b[0m \u001b[32m3\u001b[0m \u001b[32m4\u001b[0m \u001b[31m1\u001b[0m \u001b[32m1\u001b[0m \u001b[32m2\u001b[0m \u001b[32m3\u001b[0m \u001b[32m4\u001b[0m \n",
      "\u001b[34m3\u001b[0m \u001b[32m1\u001b[0m \u001b[32m2\u001b[0m \u001b[32m3\u001b[0m \u001b[31m1\u001b[0m \u001b[31m2\u001b[0m \u001b[31m1\u001b[0m \u001b[32m1\u001b[0m \u001b[32m2\u001b[0m \u001b[32m3\u001b[0m \n",
      "\u001b[34m2\u001b[0m \u001b[32m1\u001b[0m \u001b[32m2\u001b[0m \u001b[31m1\u001b[0m \u001b[31m2\u001b[0m \u001b[31m3\u001b[0m \u001b[31m2\u001b[0m \u001b[31m1\u001b[0m \u001b[32m1\u001b[0m \u001b[32m2\u001b[0m \n",
      "\u001b[34m1\u001b[0m \u001b[32m1\u001b[0m \u001b[31m1\u001b[0m \u001b[31m2\u001b[0m \u001b[31m3\u001b[0m \u001b[31m4\u001b[0m \u001b[31m3\u001b[0m \u001b[31m2\u001b[0m \u001b[31m1\u001b[0m \u001b[32m1\u001b[0m \n",
      "\u001b[34m0\u001b[0m \u001b[31m1\u001b[0m \u001b[31m2\u001b[0m \u001b[31m3\u001b[0m \u001b[31m4\u001b[0m \u001b[31m5\u001b[0m \u001b[31m4\u001b[0m \u001b[31m3\u001b[0m \u001b[31m2\u001b[0m \u001b[31m1\u001b[0m \n",
      "\u001b[34m1\u001b[0m \u001b[32m1\u001b[0m \u001b[31m1\u001b[0m \u001b[31m2\u001b[0m \u001b[31m3\u001b[0m \u001b[31m4\u001b[0m \u001b[31m3\u001b[0m \u001b[31m2\u001b[0m \u001b[31m1\u001b[0m \u001b[32m1\u001b[0m \n",
      "\u001b[34m2\u001b[0m \u001b[32m1\u001b[0m \u001b[32m2\u001b[0m \u001b[31m1\u001b[0m \u001b[31m2\u001b[0m \u001b[31m3\u001b[0m \u001b[31m2\u001b[0m \u001b[31m1\u001b[0m \u001b[32m1\u001b[0m \u001b[32m2\u001b[0m \n",
      "\u001b[34m3\u001b[0m \u001b[32m1\u001b[0m \u001b[32m2\u001b[0m \u001b[32m3\u001b[0m \u001b[31m1\u001b[0m \u001b[31m2\u001b[0m \u001b[31m1\u001b[0m \u001b[32m1\u001b[0m \u001b[32m2\u001b[0m \u001b[32m3\u001b[0m \n",
      "\u001b[34m4\u001b[0m \u001b[32m1\u001b[0m \u001b[32m2\u001b[0m \u001b[32m3\u001b[0m \u001b[32m4\u001b[0m \u001b[31m1\u001b[0m \u001b[32m1\u001b[0m \u001b[32m2\u001b[0m \u001b[32m3\u001b[0m \u001b[32m4\u001b[0m \n"
     ]
    }
   ],
   "source": [
    "pb = pbound(5)\n",
    "\n",
    "printnln(' ')\n",
    "for x in crange(-pb,pb):\n",
    "    printnlnB(abs(x))\n",
    "println()\n",
    "for y in crange(-pb,pb):\n",
    "    printnlnB('{}'.format(abs(y)))\n",
    "    \n",
    "    for s in crange(1,abs(y)):\n",
    "        printnlnG(s)\n",
    "            \n",
    "    n = pbound(5-abs(y))\n",
    "    for x in crange(-n,n):\n",
    "        v = 5-abs(y)-abs(x)\n",
    "        printnlnR(v)\n",
    "\n",
    "    for s in crange(1,abs(y)):\n",
    "        printnlnG(s)\n",
    "    println()"
   ]
  },
  {
   "cell_type": "code",
   "execution_count": 21,
   "metadata": {},
   "outputs": [
    {
     "name": "stdout",
     "output_type": "stream",
     "text": [
      " \u001b[34m4\u001b[0m \u001b[34m3\u001b[0m \u001b[34m2\u001b[0m \u001b[34m1\u001b[0m \u001b[34m0\u001b[0m \u001b[34m1\u001b[0m \u001b[34m2\u001b[0m \u001b[34m3\u001b[0m \u001b[34m4\u001b[0m \n",
      "\u001b[34m4\u001b[0m \u001b[32m1\u001b[0m \u001b[32m2\u001b[0m \u001b[32m3\u001b[0m \u001b[32m4\u001b[0m \u001b[31m1\u001b[0m \u001b[32m1\u001b[0m \u001b[32m2\u001b[0m \u001b[32m3\u001b[0m \u001b[32m4\u001b[0m \n",
      "\u001b[34m3\u001b[0m \u001b[32m1\u001b[0m \u001b[32m2\u001b[0m \u001b[32m3\u001b[0m \u001b[31m1\u001b[0m \u001b[31m \u001b[0m \u001b[31m1\u001b[0m \u001b[32m1\u001b[0m \u001b[32m2\u001b[0m \u001b[32m3\u001b[0m \n",
      "\u001b[34m2\u001b[0m \u001b[32m1\u001b[0m \u001b[32m2\u001b[0m \u001b[31m1\u001b[0m \u001b[31m \u001b[0m \u001b[31m3\u001b[0m \u001b[31m \u001b[0m \u001b[31m1\u001b[0m \u001b[32m1\u001b[0m \u001b[32m2\u001b[0m \n",
      "\u001b[34m1\u001b[0m \u001b[32m1\u001b[0m \u001b[31m1\u001b[0m \u001b[31m \u001b[0m \u001b[31m3\u001b[0m \u001b[31m \u001b[0m \u001b[31m3\u001b[0m \u001b[31m \u001b[0m \u001b[31m1\u001b[0m \u001b[32m1\u001b[0m \n",
      "\u001b[34m0\u001b[0m \u001b[31m1\u001b[0m \u001b[31m \u001b[0m \u001b[31m3\u001b[0m \u001b[31m \u001b[0m \u001b[31m5\u001b[0m \u001b[31m \u001b[0m \u001b[31m3\u001b[0m \u001b[31m \u001b[0m \u001b[31m1\u001b[0m \n",
      "\u001b[34m1\u001b[0m \u001b[32m1\u001b[0m \u001b[31m1\u001b[0m \u001b[31m \u001b[0m \u001b[31m3\u001b[0m \u001b[31m \u001b[0m \u001b[31m3\u001b[0m \u001b[31m \u001b[0m \u001b[31m1\u001b[0m \u001b[32m1\u001b[0m \n",
      "\u001b[34m2\u001b[0m \u001b[32m1\u001b[0m \u001b[32m2\u001b[0m \u001b[31m1\u001b[0m \u001b[31m \u001b[0m \u001b[31m3\u001b[0m \u001b[31m \u001b[0m \u001b[31m1\u001b[0m \u001b[32m1\u001b[0m \u001b[32m2\u001b[0m \n",
      "\u001b[34m3\u001b[0m \u001b[32m1\u001b[0m \u001b[32m2\u001b[0m \u001b[32m3\u001b[0m \u001b[31m1\u001b[0m \u001b[31m \u001b[0m \u001b[31m1\u001b[0m \u001b[32m1\u001b[0m \u001b[32m2\u001b[0m \u001b[32m3\u001b[0m \n",
      "\u001b[34m4\u001b[0m \u001b[32m1\u001b[0m \u001b[32m2\u001b[0m \u001b[32m3\u001b[0m \u001b[32m4\u001b[0m \u001b[31m1\u001b[0m \u001b[32m1\u001b[0m \u001b[32m2\u001b[0m \u001b[32m3\u001b[0m \u001b[32m4\u001b[0m \n"
     ]
    }
   ],
   "source": [
    "pb = pbound(5)\n",
    "\n",
    "printnln(' ')\n",
    "for x in crange(-pb,pb):\n",
    "    printnlnB(abs(x))\n",
    "println()\n",
    "for y in crange(-pb,pb):\n",
    "    printnlnB('{}'.format(abs(y)))\n",
    "    \n",
    "    for s in crange(1,abs(y)):\n",
    "        printnlnG(s)\n",
    "            \n",
    "    n = pbound(5-abs(y))\n",
    "    for x in crange(-n,n):\n",
    "        v = 5-abs(y)-abs(x)\n",
    "        if v % 2 == 0:\n",
    "            printnlnR(' ')\n",
    "        else:\n",
    "            printnlnR(v)\n",
    "\n",
    "    for s in crange(1,abs(y)):\n",
    "        printnlnG(s)\n",
    "    println()"
   ]
  },
  {
   "cell_type": "code",
   "execution_count": 24,
   "metadata": {},
   "outputs": [],
   "source": [
    "# list(map(lambda x: abs(x),list(range(-4,5))+list(range(-3,5))))"
   ]
  }
 ],
 "metadata": {
  "kernelspec": {
   "display_name": "Python 3",
   "language": "python",
   "name": "python3"
  },
  "language_info": {
   "codemirror_mode": {
    "name": "ipython",
    "version": 3
   },
   "file_extension": ".py",
   "mimetype": "text/x-python",
   "name": "python",
   "nbconvert_exporter": "python",
   "pygments_lexer": "ipython3",
   "version": "3.6.4"
  }
 },
 "nbformat": 4,
 "nbformat_minor": 2
}
