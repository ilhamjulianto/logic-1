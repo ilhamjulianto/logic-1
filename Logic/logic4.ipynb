{
 "cells": [
  {
   "cell_type": "code",
   "execution_count": 89,
   "metadata": {},
   "outputs": [],
   "source": [
    "from my_custom_functions import *"
   ]
  },
  {
   "cell_type": "markdown",
   "metadata": {},
   "source": [
    "# LOGIC 4\n",
    "# SOAL 1"
   ]
  },
  {
   "cell_type": "code",
   "execution_count": 91,
   "metadata": {},
   "outputs": [],
   "source": [
    "# try-catch?"
   ]
  },
  {
   "cell_type": "markdown",
   "metadata": {},
   "source": [
    "# SOAL 2"
   ]
  },
  {
   "cell_type": "code",
   "execution_count": 92,
   "metadata": {},
   "outputs": [],
   "source": [
    "# try-catch?"
   ]
  },
  {
   "cell_type": "markdown",
   "metadata": {},
   "source": [
    "# Fungsi yang akan dipakai"
   ]
  },
  {
   "cell_type": "code",
   "execution_count": 93,
   "metadata": {},
   "outputs": [],
   "source": [
    "def pyramidCount(i):\n",
    "    return i * 2 - 1"
   ]
  },
  {
   "cell_type": "markdown",
   "metadata": {},
   "source": [
    "# SOAL 3"
   ]
  },
  {
   "cell_type": "code",
   "execution_count": 94,
   "metadata": {},
   "outputs": [
    {
     "name": "stdout",
     "output_type": "stream",
     "text": [
      "    1\n",
      "   123\n",
      "  12345\n",
      " 1234567\n",
      "123456789\n"
     ]
    }
   ],
   "source": [
    "for y in crange(1,5):\n",
    "    for s in crange(1,5-y):\n",
    "        printnln(' ')\n",
    "    for p in crange(1, pyramidCount(y)):\n",
    "        printnln(p)\n",
    "    println()"
   ]
  },
  {
   "cell_type": "markdown",
   "metadata": {},
   "source": [
    "# SOAL 4"
   ]
  },
  {
   "cell_type": "code",
   "execution_count": 95,
   "metadata": {},
   "outputs": [
    {
     "name": "stdout",
     "output_type": "stream",
     "text": [
      "123456789\n",
      "_1234567\n",
      "__12345\n",
      "___123\n",
      "____1\n"
     ]
    }
   ],
   "source": [
    "for y in crange(1,5):\n",
    "    for s in crange(1,y-1):\n",
    "        printnln('_')\n",
    "        \n",
    "    x = pyramidCount(5-(y-1))\n",
    "    for p in crange(1, x):\n",
    "        printnln(p)\n",
    "    println()"
   ]
  },
  {
   "cell_type": "markdown",
   "metadata": {},
   "source": [
    "# SOAL 5"
   ]
  },
  {
   "cell_type": "code",
   "execution_count": 96,
   "metadata": {},
   "outputs": [
    {
     "name": "stdout",
     "output_type": "stream",
     "text": [
      "    1\n",
      "   123\n",
      "  12345\n",
      " 1234567\n",
      "123456789\n",
      " 1234567\n",
      "  12345\n",
      "   123\n",
      "    1\n"
     ]
    }
   ],
   "source": [
    "for y in crange(1,9):\n",
    "    if y <= 5:\n",
    "        for s in crange(1,5-y):\n",
    "            printnln(' ')\n",
    "        for p in crange(1, pyramidCount(y)):\n",
    "            printnln(p)\n",
    "    else:\n",
    "        for s in crange(1,y-5):\n",
    "            printnln(' ')\n",
    "        \n",
    "        x = pyramidCount(5-(y-5))\n",
    "        for p in crange(1, x):\n",
    "            printnln(p)\n",
    "    \n",
    "    println()"
   ]
  },
  {
   "cell_type": "markdown",
   "metadata": {},
   "source": [
    "# Membuat bound untuk bentuk Pyramid dengan crange\n",
    "#### misal pyramid ke 1 maka boundnya adalah 0 karena bentuknya 0\n",
    "#### misal pyramid ke 2 maka boundnya adalah 1 karena bentuknya 101\n",
    "#### misal pyramid ke 3 maka boundnya adalah 2 karena bentuknya 21012"
   ]
  },
  {
   "cell_type": "code",
   "execution_count": 97,
   "metadata": {},
   "outputs": [
    {
     "name": "stdout",
     "output_type": "stream",
     "text": [
      "0\n",
      "1\n",
      "2\n",
      "3\n",
      "4\n"
     ]
    }
   ],
   "source": [
    "def pbound(i):\n",
    "     return i - 1\n",
    "    \n",
    "for i in crange(1,5):\n",
    "    println(pbound(i))"
   ]
  },
  {
   "cell_type": "markdown",
   "metadata": {},
   "source": [
    "# Bentuk pyramid\n",
    "### Hasil crange dengan pbound sudah diabsolutkan"
   ]
  },
  {
   "cell_type": "code",
   "execution_count": 98,
   "metadata": {},
   "outputs": [
    {
     "name": "stdout",
     "output_type": "stream",
     "text": [
      "0\n",
      "101\n",
      "21012\n",
      "3210123\n",
      "432101234\n"
     ]
    }
   ],
   "source": [
    "for i in crange(1,5):\n",
    "    n = pbound(i)\n",
    "    for i in crange(-n,n):\n",
    "        printnln(abs(i))\n",
    "    println()"
   ]
  },
  {
   "cell_type": "markdown",
   "metadata": {},
   "source": [
    "# SOAL 6"
   ]
  },
  {
   "cell_type": "code",
   "execution_count": 99,
   "metadata": {},
   "outputs": [
    {
     "name": "stdout",
     "output_type": "stream",
     "text": [
      "    1\n",
      "   131\n",
      "  13531\n",
      " 1357531\n",
      "135797531\n"
     ]
    }
   ],
   "source": [
    "for y in crange(1,5):\n",
    "    for s in crange(1, 5-y):\n",
    "        printnln(' ')\n",
    "    n = pbound(y)\n",
    "    for x in crange(-n,n):\n",
    "        v = (y - abs(x)) * 2 -1\n",
    "        printnln(v)\n",
    "    println()\n",
    "    "
   ]
  },
  {
   "cell_type": "markdown",
   "metadata": {},
   "source": [
    "# SOAL 7"
   ]
  },
  {
   "cell_type": "code",
   "execution_count": 100,
   "metadata": {},
   "outputs": [
    {
     "name": "stdout",
     "output_type": "stream",
     "text": [
      "135797531\n",
      " 1357531\n",
      "  13531\n",
      "   131\n",
      "    1\n"
     ]
    }
   ],
   "source": [
    "for y in crange(1,5):\n",
    "    for s in crange(1, y-1):\n",
    "        printnln(' ')\n",
    "    \n",
    "    t = 5-(y-1)\n",
    "    n = pbound(t)\n",
    "    for x in crange(-n,n):\n",
    "        v = (t - abs(x)) * 2 -1\n",
    "        printnln(v)\n",
    "    println()\n",
    "    "
   ]
  },
  {
   "cell_type": "markdown",
   "metadata": {},
   "source": [
    "# SOAL 8"
   ]
  },
  {
   "cell_type": "code",
   "execution_count": 101,
   "metadata": {},
   "outputs": [
    {
     "name": "stdout",
     "output_type": "stream",
     "text": [
      "    1\n",
      "   131\n",
      "  13531\n",
      " 1357531\n",
      "135797531\n",
      " 1357531\n",
      "  13531\n",
      "   131\n",
      "    1\n"
     ]
    }
   ],
   "source": [
    "for y in crange(1,9):\n",
    "    if y <= 5:\n",
    "        for s in crange(1,5-y):\n",
    "            printnln(' ')\n",
    "            \n",
    "        n = pbound(y)\n",
    "        for x in crange(-n,n):\n",
    "            v = (y - abs(x)) * 2 -1\n",
    "            printnln(v)\n",
    "    else:\n",
    "        for s in crange(1,y-5):\n",
    "            printnln(' ')\n",
    "\n",
    "        t = 5-(y-5)\n",
    "        n = pbound(t)\n",
    "        for x in crange(-n,n):\n",
    "            v = (t - abs(x)) * 2 -1\n",
    "            printnln(v)    \n",
    "    println()"
   ]
  },
  {
   "cell_type": "code",
   "execution_count": null,
   "metadata": {},
   "outputs": [],
   "source": []
  }
 ],
 "metadata": {
  "kernelspec": {
   "display_name": "Python 3",
   "language": "python",
   "name": "python3"
  },
  "language_info": {
   "codemirror_mode": {
    "name": "ipython",
    "version": 3
   },
   "file_extension": ".py",
   "mimetype": "text/x-python",
   "name": "python",
   "nbconvert_exporter": "python",
   "pygments_lexer": "ipython3",
   "version": "3.6.4"
  }
 },
 "nbformat": 4,
 "nbformat_minor": 2
}
