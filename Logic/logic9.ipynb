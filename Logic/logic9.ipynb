{
 "cells": [
  {
   "cell_type": "code",
   "execution_count": 38,
   "metadata": {},
   "outputs": [],
   "source": [
    "from my_custom_functions import *"
   ]
  },
  {
   "cell_type": "code",
   "execution_count": null,
   "metadata": {},
   "outputs": [],
   "source": [
    "import string\n",
    "alph = string.ascii_uppercase"
   ]
  },
  {
   "cell_type": "markdown",
   "metadata": {},
   "source": [
    "# LOGIC 9\n",
    "# SOAL 1"
   ]
  },
  {
   "cell_type": "code",
   "execution_count": 46,
   "metadata": {},
   "outputs": [
    {
     "name": "stdout",
     "output_type": "stream",
     "text": [
      "-4       4       4\n",
      " -3     3 -3     3 \n",
      "  -2   2   -2   2  \n",
      "   -1 1     -1 1   \n",
      "    0       0    \n",
      "   -1 1     -1 1   \n",
      "  -2   2   -2   2  \n",
      " -3     3 -3     3 \n",
      "-4       4       4\n"
     ]
    }
   ],
   "source": [
    "for y in crange(-4,4):\n",
    "    for l in range(2):\n",
    "        for x in crange(-4,4):\n",
    "            if l > 0 and x == -4:\n",
    "                continue\n",
    "            \n",
    "            if abs(x) == abs(y):\n",
    "                printnln(x)\n",
    "            else:\n",
    "                printnln(' ')\n",
    "    println()"
   ]
  },
  {
   "cell_type": "markdown",
   "metadata": {},
   "source": [
    "# SOAL 2"
   ]
  },
  {
   "cell_type": "code",
   "execution_count": 40,
   "metadata": {},
   "outputs": [
    {
     "name": "stdout",
     "output_type": "stream",
     "text": [
      "4       4       4\n",
      " 3     3 3     3 \n",
      "  2   2   2   2  \n",
      "   1 1     1 1   \n",
      "24680864246808642\n",
      "   1 1     1 1   \n",
      "  2   2   2   2  \n",
      " 3     3 3     3 \n",
      "4       4       4\n"
     ]
    }
   ],
   "source": [
    "for y in crange(-4,4):\n",
    "    for l in range(2):\n",
    "        for x in crange(-4,4):\n",
    "            if l > 0 and x == -4:\n",
    "                continue\n",
    "            \n",
    "            if abs(x) == abs(y):\n",
    "                printnln(abs(x))\n",
    "            elif y == 0:\n",
    "                printnln((5-abs(x))*2)\n",
    "            else:\n",
    "                printnln(' ')\n",
    "    println()"
   ]
  },
  {
   "cell_type": "markdown",
   "metadata": {},
   "source": [
    "# SOAL 3"
   ]
  },
  {
   "cell_type": "code",
   "execution_count": 41,
   "metadata": {},
   "outputs": [
    {
     "name": "stdout",
     "output_type": "stream",
     "text": [
      "0       0       0\n",
      " 1     1 1     1 \n",
      "  2   2   2   2  \n",
      "   3 3     3 3   \n",
      "24684864246848642\n",
      "   3 3     3 3   \n",
      "  2   2   2   2  \n",
      " 1     1 1     1 \n",
      "0       0       0\n"
     ]
    }
   ],
   "source": [
    "for y in crange(-4,4):\n",
    "    for l in range(2):\n",
    "        for x in crange(-4,4):\n",
    "            if l > 0 and x == -4:\n",
    "                continue\n",
    "            \n",
    "            if abs(x) == abs(y):\n",
    "                printnln(4-abs(x))\n",
    "            elif y == 0:\n",
    "                printnln((5-abs(x))*2)\n",
    "            else:\n",
    "                printnln(' ')\n",
    "    println()"
   ]
  },
  {
   "cell_type": "markdown",
   "metadata": {},
   "source": [
    "# SOAL 4"
   ]
  },
  {
   "cell_type": "code",
   "execution_count": 42,
   "metadata": {},
   "outputs": [
    {
     "name": "stdout",
     "output_type": "stream",
     "text": [
      "0+++++++0+++++++0\n",
      "+1     1 1     1+\n",
      "+ 2   2   2   2 +\n",
      "+  3 3     3 3  +\n",
      "24684864246848642\n",
      "+  3 3     3 3  +\n",
      "+ 2   2   2   2 +\n",
      "+1     1 1     1+\n",
      "0+++++++0+++++++0\n"
     ]
    }
   ],
   "source": [
    "for y in crange(-4,4):\n",
    "    a = 0\n",
    "    for l in range(2):\n",
    "        for x in crange(-4,4):\n",
    "            if l > 0 and x == -4:\n",
    "                continue\n",
    "            a += 1\n",
    "            if abs(x) == abs(y):\n",
    "                printnln(4-abs(x))\n",
    "            elif y == 0:\n",
    "                printnln((5-abs(x))*2)\n",
    "            elif (abs(x) == 4 or abs(y) == 4) and (x != 4 or a == 17):\n",
    "                printnln('+')\n",
    "            else:\n",
    "                printnln(' ')\n",
    "    println()"
   ]
  },
  {
   "cell_type": "markdown",
   "metadata": {},
   "source": [
    "# SOAL 5"
   ]
  },
  {
   "cell_type": "code",
   "execution_count": 45,
   "metadata": {},
   "outputs": [
    {
     "name": "stdout",
     "output_type": "stream",
     "text": [
      "4   *   4   *   4\n",
      " 3 * * 3 3 * * 3 \n",
      "  2   2   2   2  \n",
      " * 1 1 * * 1 1 * \n",
      "*   0   *   0   *\n",
      " * 1 1 * * 1 1 * \n",
      "  2   2   2   2  \n",
      " 3 * * 3 3 * * 3 \n",
      "4   *   4   *   4\n"
     ]
    }
   ],
   "source": [
    "for y in crange(-4,4):\n",
    "    for l in range(2):\n",
    "        for x in crange(-4,4):\n",
    "            if l > 0 and x == -4:\n",
    "                continue\n",
    "            \n",
    "            if abs(x) == abs(y):\n",
    "                printnln(abs(x))\n",
    "            elif 4-abs(x) == abs(y):\n",
    "                printnln('*')\n",
    "            else:\n",
    "                printnln(' ')\n",
    "    println()"
   ]
  },
  {
   "cell_type": "code",
   "execution_count": null,
   "metadata": {},
   "outputs": [],
   "source": []
  }
 ],
 "metadata": {
  "kernelspec": {
   "display_name": "Python 3",
   "language": "python",
   "name": "python3"
  },
  "language_info": {
   "codemirror_mode": {
    "name": "ipython",
    "version": 3
   },
   "file_extension": ".py",
   "mimetype": "text/x-python",
   "name": "python",
   "nbconvert_exporter": "python",
   "pygments_lexer": "ipython3",
   "version": "3.6.4"
  }
 },
 "nbformat": 4,
 "nbformat_minor": 2
}
