{
 "cells": [
  {
   "cell_type": "code",
   "execution_count": 1,
   "metadata": {},
   "outputs": [],
   "source": [
    "from my_custom_functions import *"
   ]
  },
  {
   "cell_type": "markdown",
   "metadata": {},
   "source": [
    "![](http://fs1.directupload.net/images/180503/u45ts2vf.jpg)"
   ]
  },
  {
   "cell_type": "code",
   "execution_count": 2,
   "metadata": {},
   "outputs": [],
   "source": [
    "import string\n",
    "alph = string.ascii_uppercase"
   ]
  },
  {
   "cell_type": "code",
   "execution_count": 3,
   "metadata": {},
   "outputs": [
    {
     "name": "stdout",
     "output_type": "stream",
     "text": [
      "0\n",
      "2\n",
      "4\n",
      "8\n",
      "16\n"
     ]
    }
   ],
   "source": [
    "def multiplier(a,b):\n",
    "    if b == 0:\n",
    "        return 0\n",
    "    elif b == 1:\n",
    "        return a\n",
    "    return a * multiplier(a,b-1)\n",
    "\n",
    "for x in range(5):\n",
    "    print(multiplier(2,x))"
   ]
  },
  {
   "cell_type": "markdown",
   "metadata": {},
   "source": [
    "# LOGIC 9\n",
    "# SOAL 1"
   ]
  },
  {
   "cell_type": "code",
   "execution_count": 4,
   "metadata": {},
   "outputs": [
    {
     "name": "stdout",
     "output_type": "stream",
     "text": [
      "\u001b[31m1\u001b[0m \u001b[34m*\u001b[0m \u001b[34m*\u001b[0m \u001b[34m*\u001b[0m \u001b[34m*\u001b[0m \u001b[34m*\u001b[0m \u001b[34m*\u001b[0m \u001b[34m*\u001b[0m \u001b[31m9\u001b[0m \u001b[34m*\u001b[0m \u001b[34m*\u001b[0m \u001b[34m*\u001b[0m \u001b[34m*\u001b[0m \u001b[34m*\u001b[0m \u001b[34m*\u001b[0m \u001b[34m*\u001b[0m \u001b[31m1\u001b[0m \n",
      "\u001b[34m*\u001b[0m \u001b[31m2\u001b[0m \u001b[34m*\u001b[0m \u001b[34m*\u001b[0m \u001b[34m*\u001b[0m \u001b[34m*\u001b[0m \u001b[34m*\u001b[0m \u001b[31m8\u001b[0m \u001b[34m*\u001b[0m \u001b[31m8\u001b[0m \u001b[34m*\u001b[0m \u001b[34m*\u001b[0m \u001b[34m*\u001b[0m \u001b[34m*\u001b[0m \u001b[34m*\u001b[0m \u001b[31m2\u001b[0m \u001b[34m*\u001b[0m \n",
      "\u001b[34m*\u001b[0m \u001b[34m*\u001b[0m \u001b[31m3\u001b[0m \u001b[34m*\u001b[0m \u001b[34m*\u001b[0m \u001b[34m*\u001b[0m \u001b[31m7\u001b[0m \u001b[34m*\u001b[0m \u001b[34m*\u001b[0m \u001b[34m*\u001b[0m \u001b[31m7\u001b[0m \u001b[34m*\u001b[0m \u001b[34m*\u001b[0m \u001b[34m*\u001b[0m \u001b[31m3\u001b[0m \u001b[34m*\u001b[0m \u001b[34m*\u001b[0m \n",
      "\u001b[34m*\u001b[0m \u001b[34m*\u001b[0m \u001b[34m*\u001b[0m \u001b[31m4\u001b[0m \u001b[34m*\u001b[0m \u001b[31m6\u001b[0m \u001b[34m*\u001b[0m \u001b[34m*\u001b[0m \u001b[34m*\u001b[0m \u001b[34m*\u001b[0m \u001b[34m*\u001b[0m \u001b[31m6\u001b[0m \u001b[34m*\u001b[0m \u001b[31m4\u001b[0m \u001b[34m*\u001b[0m \u001b[34m*\u001b[0m \u001b[34m*\u001b[0m \n",
      "\u001b[34m*\u001b[0m \u001b[34m*\u001b[0m \u001b[34m*\u001b[0m \u001b[34m*\u001b[0m \u001b[31m5\u001b[0m \u001b[34m*\u001b[0m \u001b[34m*\u001b[0m \u001b[34m*\u001b[0m \u001b[34m*\u001b[0m \u001b[34m*\u001b[0m \u001b[34m*\u001b[0m \u001b[34m*\u001b[0m \u001b[31m5\u001b[0m \u001b[34m*\u001b[0m \u001b[34m*\u001b[0m \u001b[34m*\u001b[0m \u001b[34m*\u001b[0m \n",
      "\u001b[34m*\u001b[0m \u001b[34m*\u001b[0m \u001b[34m*\u001b[0m \u001b[31m4\u001b[0m \u001b[34m*\u001b[0m \u001b[31m6\u001b[0m \u001b[34m*\u001b[0m \u001b[34m*\u001b[0m \u001b[34m*\u001b[0m \u001b[34m*\u001b[0m \u001b[34m*\u001b[0m \u001b[31m6\u001b[0m \u001b[34m*\u001b[0m \u001b[31m4\u001b[0m \u001b[34m*\u001b[0m \u001b[34m*\u001b[0m \u001b[34m*\u001b[0m \n",
      "\u001b[34m*\u001b[0m \u001b[34m*\u001b[0m \u001b[31m3\u001b[0m \u001b[34m*\u001b[0m \u001b[34m*\u001b[0m \u001b[34m*\u001b[0m \u001b[31m7\u001b[0m \u001b[34m*\u001b[0m \u001b[34m*\u001b[0m \u001b[34m*\u001b[0m \u001b[31m7\u001b[0m \u001b[34m*\u001b[0m \u001b[34m*\u001b[0m \u001b[34m*\u001b[0m \u001b[31m3\u001b[0m \u001b[34m*\u001b[0m \u001b[34m*\u001b[0m \n",
      "\u001b[34m*\u001b[0m \u001b[31m2\u001b[0m \u001b[34m*\u001b[0m \u001b[34m*\u001b[0m \u001b[34m*\u001b[0m \u001b[34m*\u001b[0m \u001b[34m*\u001b[0m \u001b[31m8\u001b[0m \u001b[34m*\u001b[0m \u001b[31m8\u001b[0m \u001b[34m*\u001b[0m \u001b[34m*\u001b[0m \u001b[34m*\u001b[0m \u001b[34m*\u001b[0m \u001b[34m*\u001b[0m \u001b[31m2\u001b[0m \u001b[34m*\u001b[0m \n",
      "\u001b[31m1\u001b[0m \u001b[34m*\u001b[0m \u001b[34m*\u001b[0m \u001b[34m*\u001b[0m \u001b[34m*\u001b[0m \u001b[34m*\u001b[0m \u001b[34m*\u001b[0m \u001b[34m*\u001b[0m \u001b[31m9\u001b[0m \u001b[34m*\u001b[0m \u001b[34m*\u001b[0m \u001b[34m*\u001b[0m \u001b[34m*\u001b[0m \u001b[34m*\u001b[0m \u001b[34m*\u001b[0m \u001b[34m*\u001b[0m \u001b[31m1\u001b[0m \n"
     ]
    }
   ],
   "source": [
    "for y in crange(1,9):\n",
    "    for h in range(2):\n",
    "        for x in crange(1,9) if h % 2 == 0 else reversed(crange(1,9)):\n",
    "            if h > 0 and (x == 1 and h % 2 == 0) or (x == 9 and h % 2 == 1):\n",
    "                continue\n",
    "                \n",
    "            if x == y or x == 9 - (y - 1):\n",
    "                printnlnR(x)\n",
    "            else:\n",
    "                printnlnB('*')\n",
    "    println()"
   ]
  },
  {
   "cell_type": "code",
   "execution_count": 5,
   "metadata": {},
   "outputs": [
    {
     "name": "stdout",
     "output_type": "stream",
     "text": [
      "\u001b[31mA\u001b[0m \u001b[31m_\u001b[0m \u001b[31m_\u001b[0m \u001b[31m_\u001b[0m \u001b[31m_\u001b[0m \u001b[31m_\u001b[0m \u001b[31m_\u001b[0m \u001b[31m_\u001b[0m \u001b[31m0\u001b[0m \u001b[31m_\u001b[0m \u001b[31m_\u001b[0m \u001b[31m_\u001b[0m \u001b[31m_\u001b[0m \u001b[31m_\u001b[0m \u001b[31m_\u001b[0m \u001b[31m_\u001b[0m \u001b[31mA\u001b[0m \n",
      "\u001b[31m_\u001b[0m \u001b[31mB\u001b[0m \u001b[31m_\u001b[0m \u001b[31m_\u001b[0m \u001b[31m_\u001b[0m \u001b[31m_\u001b[0m \u001b[31m_\u001b[0m \u001b[31m2\u001b[0m \u001b[31m_\u001b[0m \u001b[31m2\u001b[0m \u001b[31m_\u001b[0m \u001b[31m_\u001b[0m \u001b[31m_\u001b[0m \u001b[31m_\u001b[0m \u001b[31m_\u001b[0m \u001b[31mB\u001b[0m \u001b[31m_\u001b[0m \n",
      "\u001b[31m_\u001b[0m \u001b[31m_\u001b[0m \u001b[31mC\u001b[0m \u001b[31m_\u001b[0m \u001b[31m_\u001b[0m \u001b[31m_\u001b[0m \u001b[31m4\u001b[0m \u001b[31m_\u001b[0m \u001b[31m_\u001b[0m \u001b[31m_\u001b[0m \u001b[31m4\u001b[0m \u001b[31m_\u001b[0m \u001b[31m_\u001b[0m \u001b[31m_\u001b[0m \u001b[31mC\u001b[0m \u001b[31m_\u001b[0m \u001b[31m_\u001b[0m \n",
      "\u001b[31m_\u001b[0m \u001b[31m_\u001b[0m \u001b[31m_\u001b[0m \u001b[31mD\u001b[0m \u001b[31m_\u001b[0m \u001b[31m8\u001b[0m \u001b[31m_\u001b[0m \u001b[31m_\u001b[0m \u001b[31m_\u001b[0m \u001b[31m_\u001b[0m \u001b[31m_\u001b[0m \u001b[31m8\u001b[0m \u001b[31m_\u001b[0m \u001b[31mD\u001b[0m \u001b[31m_\u001b[0m \u001b[31m_\u001b[0m \u001b[31m_\u001b[0m \n",
      "\u001b[31m_\u001b[0m \u001b[31m_\u001b[0m \u001b[31m_\u001b[0m \u001b[31m_\u001b[0m \u001b[31mE\u001b[0m \u001b[31m_\u001b[0m \u001b[31m_\u001b[0m \u001b[31m_\u001b[0m \u001b[31m_\u001b[0m \u001b[31m_\u001b[0m \u001b[31m_\u001b[0m \u001b[31m_\u001b[0m \u001b[31mE\u001b[0m \u001b[31m_\u001b[0m \u001b[31m_\u001b[0m \u001b[31m_\u001b[0m \u001b[31m_\u001b[0m \n",
      "\u001b[31m_\u001b[0m \u001b[31m_\u001b[0m \u001b[31m_\u001b[0m \u001b[31m8\u001b[0m \u001b[31m_\u001b[0m \u001b[31mD\u001b[0m \u001b[31m_\u001b[0m \u001b[31m_\u001b[0m \u001b[31m_\u001b[0m \u001b[31m_\u001b[0m \u001b[31m_\u001b[0m \u001b[31mD\u001b[0m \u001b[31m_\u001b[0m \u001b[31m8\u001b[0m \u001b[31m_\u001b[0m \u001b[31m_\u001b[0m \u001b[31m_\u001b[0m \n",
      "\u001b[31m_\u001b[0m \u001b[31m_\u001b[0m \u001b[31m4\u001b[0m \u001b[31m_\u001b[0m \u001b[31m_\u001b[0m \u001b[31m_\u001b[0m \u001b[31mC\u001b[0m \u001b[31m_\u001b[0m \u001b[31m_\u001b[0m \u001b[31m_\u001b[0m \u001b[31mC\u001b[0m \u001b[31m_\u001b[0m \u001b[31m_\u001b[0m \u001b[31m_\u001b[0m \u001b[31m4\u001b[0m \u001b[31m_\u001b[0m \u001b[31m_\u001b[0m \n",
      "\u001b[31m_\u001b[0m \u001b[31m2\u001b[0m \u001b[31m_\u001b[0m \u001b[31m_\u001b[0m \u001b[31m_\u001b[0m \u001b[31m_\u001b[0m \u001b[31m_\u001b[0m \u001b[31mB\u001b[0m \u001b[31m_\u001b[0m \u001b[31mB\u001b[0m \u001b[31m_\u001b[0m \u001b[31m_\u001b[0m \u001b[31m_\u001b[0m \u001b[31m_\u001b[0m \u001b[31m_\u001b[0m \u001b[31m2\u001b[0m \u001b[31m_\u001b[0m \n",
      "\u001b[31m0\u001b[0m \u001b[31m_\u001b[0m \u001b[31m_\u001b[0m \u001b[31m_\u001b[0m \u001b[31m_\u001b[0m \u001b[31m_\u001b[0m \u001b[31m_\u001b[0m \u001b[31m_\u001b[0m \u001b[31mA\u001b[0m \u001b[31m_\u001b[0m \u001b[31m_\u001b[0m \u001b[31m_\u001b[0m \u001b[31m_\u001b[0m \u001b[31m_\u001b[0m \u001b[31m_\u001b[0m \u001b[31m_\u001b[0m \u001b[31m0\u001b[0m \n"
     ]
    }
   ],
   "source": [
    "for y in crange(-4,4):\n",
    "    for l in range(2):\n",
    "        for x in crange(-4,4) if l == 0 else reversed(crange(-4,4)) :\n",
    "            if l == 1 and x == 4:\n",
    "                continue\n",
    "            \n",
    "            if abs(x) == abs(y):\n",
    "                v = 4 - abs(x)\n",
    "                if x <= 0 and y <= 0 or x > 0 and y > 0:\n",
    "                    printnlnR(alph[v])\n",
    "                else:\n",
    "                    c = multiplier(2,4-abs(x))\n",
    "                    printnlnR(c)\n",
    "            else:\n",
    "                printnlnR('_')\n",
    "    println()"
   ]
  },
  {
   "cell_type": "markdown",
   "metadata": {},
   "source": [
    "# SOAL 2"
   ]
  },
  {
   "cell_type": "code",
   "execution_count": 6,
   "metadata": {},
   "outputs": [
    {
     "name": "stdout",
     "output_type": "stream",
     "text": [
      "\u001b[31mA\u001b[0m \u001b[31m_\u001b[0m \u001b[31m_\u001b[0m \u001b[31m_\u001b[0m \u001b[31m_\u001b[0m \u001b[31m_\u001b[0m \u001b[31m_\u001b[0m \u001b[31m_\u001b[0m \u001b[31m0\u001b[0m \u001b[31m_\u001b[0m \u001b[31m_\u001b[0m \u001b[31m_\u001b[0m \u001b[31m_\u001b[0m \u001b[31m_\u001b[0m \u001b[31m_\u001b[0m \u001b[31m_\u001b[0m \u001b[31mA\u001b[0m \n",
      "\u001b[31m_\u001b[0m \u001b[31mB\u001b[0m \u001b[31m_\u001b[0m \u001b[31m_\u001b[0m \u001b[31m_\u001b[0m \u001b[31m_\u001b[0m \u001b[31m_\u001b[0m \u001b[31m3\u001b[0m \u001b[31m_\u001b[0m \u001b[31m3\u001b[0m \u001b[31m_\u001b[0m \u001b[31m_\u001b[0m \u001b[31m_\u001b[0m \u001b[31m_\u001b[0m \u001b[31m_\u001b[0m \u001b[31mB\u001b[0m \u001b[31m_\u001b[0m \n",
      "\u001b[31m_\u001b[0m \u001b[31m_\u001b[0m \u001b[31mC\u001b[0m \u001b[31m_\u001b[0m \u001b[31m_\u001b[0m \u001b[31m_\u001b[0m \u001b[31m9\u001b[0m \u001b[31m_\u001b[0m \u001b[31m_\u001b[0m \u001b[31m_\u001b[0m \u001b[31m9\u001b[0m \u001b[31m_\u001b[0m \u001b[31m_\u001b[0m \u001b[31m_\u001b[0m \u001b[31mC\u001b[0m \u001b[31m_\u001b[0m \u001b[31m_\u001b[0m \n",
      "\u001b[31m_\u001b[0m \u001b[31m_\u001b[0m \u001b[31m_\u001b[0m \u001b[31mD\u001b[0m \u001b[31m_\u001b[0m \u001b[31m27\u001b[0m \u001b[31m_\u001b[0m \u001b[31m_\u001b[0m \u001b[31m_\u001b[0m \u001b[31m_\u001b[0m \u001b[31m_\u001b[0m \u001b[31m27\u001b[0m \u001b[31m_\u001b[0m \u001b[31mD\u001b[0m \u001b[31m_\u001b[0m \u001b[31m_\u001b[0m \u001b[31m_\u001b[0m \n",
      "\u001b[32m0\u001b[0m \u001b[32m2\u001b[0m \u001b[32m4\u001b[0m \u001b[32m8\u001b[0m \u001b[31mE\u001b[0m \u001b[32m8\u001b[0m \u001b[32m4\u001b[0m \u001b[32m2\u001b[0m \u001b[32m0\u001b[0m \u001b[32m2\u001b[0m \u001b[32m4\u001b[0m \u001b[32m8\u001b[0m \u001b[31mE\u001b[0m \u001b[32m8\u001b[0m \u001b[32m4\u001b[0m \u001b[32m2\u001b[0m \u001b[32m0\u001b[0m \n",
      "\u001b[31m_\u001b[0m \u001b[31m_\u001b[0m \u001b[31m_\u001b[0m \u001b[31m27\u001b[0m \u001b[31m_\u001b[0m \u001b[31mD\u001b[0m \u001b[31m_\u001b[0m \u001b[31m_\u001b[0m \u001b[31m_\u001b[0m \u001b[31m_\u001b[0m \u001b[31m_\u001b[0m \u001b[31mD\u001b[0m \u001b[31m_\u001b[0m \u001b[31m27\u001b[0m \u001b[31m_\u001b[0m \u001b[31m_\u001b[0m \u001b[31m_\u001b[0m \n",
      "\u001b[31m_\u001b[0m \u001b[31m_\u001b[0m \u001b[31m9\u001b[0m \u001b[31m_\u001b[0m \u001b[31m_\u001b[0m \u001b[31m_\u001b[0m \u001b[31mC\u001b[0m \u001b[31m_\u001b[0m \u001b[31m_\u001b[0m \u001b[31m_\u001b[0m \u001b[31mC\u001b[0m \u001b[31m_\u001b[0m \u001b[31m_\u001b[0m \u001b[31m_\u001b[0m \u001b[31m9\u001b[0m \u001b[31m_\u001b[0m \u001b[31m_\u001b[0m \n",
      "\u001b[31m_\u001b[0m \u001b[31m3\u001b[0m \u001b[31m_\u001b[0m \u001b[31m_\u001b[0m \u001b[31m_\u001b[0m \u001b[31m_\u001b[0m \u001b[31m_\u001b[0m \u001b[31mB\u001b[0m \u001b[31m_\u001b[0m \u001b[31mB\u001b[0m \u001b[31m_\u001b[0m \u001b[31m_\u001b[0m \u001b[31m_\u001b[0m \u001b[31m_\u001b[0m \u001b[31m_\u001b[0m \u001b[31m3\u001b[0m \u001b[31m_\u001b[0m \n",
      "\u001b[31m0\u001b[0m \u001b[31m_\u001b[0m \u001b[31m_\u001b[0m \u001b[31m_\u001b[0m \u001b[31m_\u001b[0m \u001b[31m_\u001b[0m \u001b[31m_\u001b[0m \u001b[31m_\u001b[0m \u001b[31mA\u001b[0m \u001b[31m_\u001b[0m \u001b[31m_\u001b[0m \u001b[31m_\u001b[0m \u001b[31m_\u001b[0m \u001b[31m_\u001b[0m \u001b[31m_\u001b[0m \u001b[31m_\u001b[0m \u001b[31m0\u001b[0m \n"
     ]
    }
   ],
   "source": [
    "for y in crange(-4,4):\n",
    "    for l in range(2):\n",
    "        for x in crange(-4,4) if l == 0 else reversed(crange(-4,4)) :\n",
    "            if l == 1 and x == 4:\n",
    "                continue\n",
    "            \n",
    "            if abs(x) == abs(y):\n",
    "                v = 4 - abs(x)\n",
    "                if x <= 0 and y <= 0 or x > 0 and y > 0:\n",
    "                    printnlnR(alph[v])\n",
    "                else:\n",
    "                    c = multiplier(3,4-abs(x))\n",
    "                    printnlnR(c)\n",
    "            elif y == 0:\n",
    "                c = multiplier(2,4-abs(x))\n",
    "                printnlnG(c)\n",
    "            else:\n",
    "                printnlnR('_')\n",
    "    println()"
   ]
  },
  {
   "cell_type": "markdown",
   "metadata": {},
   "source": [
    "# SOAL 3"
   ]
  },
  {
   "cell_type": "code",
   "execution_count": 7,
   "metadata": {},
   "outputs": [
    {
     "name": "stdout",
     "output_type": "stream",
     "text": [
      "\u001b[31mA\u001b[0m \u001b[31m \u001b[0m \u001b[31m \u001b[0m \u001b[31m \u001b[0m \u001b[31m \u001b[0m \u001b[31m \u001b[0m \u001b[31m \u001b[0m \u001b[31m \u001b[0m \u001b[31m0\u001b[0m \u001b[31m \u001b[0m \u001b[31m \u001b[0m \u001b[31m \u001b[0m \u001b[31m \u001b[0m \u001b[31m \u001b[0m \u001b[31m \u001b[0m \u001b[31m \u001b[0m \u001b[31mA\u001b[0m \n",
      "\u001b[34m*\u001b[0m \u001b[31mB\u001b[0m \u001b[31m \u001b[0m \u001b[31m \u001b[0m \u001b[31m \u001b[0m \u001b[31m \u001b[0m \u001b[31m \u001b[0m \u001b[31m3\u001b[0m \u001b[34m*\u001b[0m \u001b[31m3\u001b[0m \u001b[31m \u001b[0m \u001b[31m \u001b[0m \u001b[31m \u001b[0m \u001b[31m \u001b[0m \u001b[31m \u001b[0m \u001b[31mB\u001b[0m \u001b[34m*\u001b[0m \n",
      "\u001b[34m*\u001b[0m \u001b[34m*\u001b[0m \u001b[31mC\u001b[0m \u001b[31m \u001b[0m \u001b[31m \u001b[0m \u001b[31m \u001b[0m \u001b[31m9\u001b[0m \u001b[34m*\u001b[0m \u001b[34m*\u001b[0m \u001b[34m*\u001b[0m \u001b[31m9\u001b[0m \u001b[31m \u001b[0m \u001b[31m \u001b[0m \u001b[31m \u001b[0m \u001b[31mC\u001b[0m \u001b[34m*\u001b[0m \u001b[34m*\u001b[0m \n",
      "\u001b[34m*\u001b[0m \u001b[34m*\u001b[0m \u001b[34m*\u001b[0m \u001b[31mD\u001b[0m \u001b[31m \u001b[0m \u001b[31m27\u001b[0m \u001b[34m*\u001b[0m \u001b[34m*\u001b[0m \u001b[34m*\u001b[0m \u001b[34m*\u001b[0m \u001b[34m*\u001b[0m \u001b[31m27\u001b[0m \u001b[31m \u001b[0m \u001b[31mD\u001b[0m \u001b[34m*\u001b[0m \u001b[34m*\u001b[0m \u001b[34m*\u001b[0m \n",
      "\u001b[31m0\u001b[0m \u001b[31m2\u001b[0m \u001b[31m4\u001b[0m \u001b[31m8\u001b[0m \u001b[31mE\u001b[0m \u001b[31m8\u001b[0m \u001b[31m4\u001b[0m \u001b[31m2\u001b[0m \u001b[31m0\u001b[0m \u001b[31m2\u001b[0m \u001b[31m4\u001b[0m \u001b[31m8\u001b[0m \u001b[31mE\u001b[0m \u001b[31m8\u001b[0m \u001b[31m4\u001b[0m \u001b[31m2\u001b[0m \u001b[31m0\u001b[0m \n",
      "\u001b[34m*\u001b[0m \u001b[34m*\u001b[0m \u001b[34m*\u001b[0m \u001b[31m27\u001b[0m \u001b[31m \u001b[0m \u001b[31mD\u001b[0m \u001b[34m*\u001b[0m \u001b[34m*\u001b[0m \u001b[34m*\u001b[0m \u001b[34m*\u001b[0m \u001b[34m*\u001b[0m \u001b[31mD\u001b[0m \u001b[31m \u001b[0m \u001b[31m27\u001b[0m \u001b[34m*\u001b[0m \u001b[34m*\u001b[0m \u001b[34m*\u001b[0m \n",
      "\u001b[34m*\u001b[0m \u001b[34m*\u001b[0m \u001b[31m9\u001b[0m \u001b[31m \u001b[0m \u001b[31m \u001b[0m \u001b[31m \u001b[0m \u001b[31mC\u001b[0m \u001b[34m*\u001b[0m \u001b[34m*\u001b[0m \u001b[34m*\u001b[0m \u001b[31mC\u001b[0m \u001b[31m \u001b[0m \u001b[31m \u001b[0m \u001b[31m \u001b[0m \u001b[31m9\u001b[0m \u001b[34m*\u001b[0m \u001b[34m*\u001b[0m \n",
      "\u001b[34m*\u001b[0m \u001b[31m3\u001b[0m \u001b[31m \u001b[0m \u001b[31m \u001b[0m \u001b[31m \u001b[0m \u001b[31m \u001b[0m \u001b[31m \u001b[0m \u001b[31mB\u001b[0m \u001b[34m*\u001b[0m \u001b[31mB\u001b[0m \u001b[31m \u001b[0m \u001b[31m \u001b[0m \u001b[31m \u001b[0m \u001b[31m \u001b[0m \u001b[31m \u001b[0m \u001b[31m3\u001b[0m \u001b[34m*\u001b[0m \n",
      "\u001b[31m0\u001b[0m \u001b[31m \u001b[0m \u001b[31m \u001b[0m \u001b[31m \u001b[0m \u001b[31m \u001b[0m \u001b[31m \u001b[0m \u001b[31m \u001b[0m \u001b[31m \u001b[0m \u001b[31mA\u001b[0m \u001b[31m \u001b[0m \u001b[31m \u001b[0m \u001b[31m \u001b[0m \u001b[31m \u001b[0m \u001b[31m \u001b[0m \u001b[31m \u001b[0m \u001b[31m \u001b[0m \u001b[31m0\u001b[0m \n"
     ]
    }
   ],
   "source": [
    "for y in crange(-4,4):\n",
    "    for l in range(2):\n",
    "        for x in crange(-4,4) if l == 0 else reversed(crange(-4,4)) :\n",
    "            if l == 1 and x == 4:\n",
    "                continue\n",
    "            \n",
    "            if abs(x) == abs(y):\n",
    "                v = 4 - abs(x)\n",
    "                if x <= 0 and y <= 0 or x > 0 and y > 0:\n",
    "                    printnlnR(alph[v])\n",
    "                else:\n",
    "                    c = multiplier(3,4-abs(x))\n",
    "                    printnlnR(c)\n",
    "            elif y == 0:\n",
    "                c = multiplier(2,4-abs(x))\n",
    "                printnlnR(c)\n",
    "            elif abs(x) > abs(y):\n",
    "                printnlnB('*')\n",
    "            else:\n",
    "                printnlnR(' ')\n",
    "    println()"
   ]
  },
  {
   "cell_type": "markdown",
   "metadata": {},
   "source": [
    "# SOAL 4"
   ]
  },
  {
   "cell_type": "code",
   "execution_count": 8,
   "metadata": {},
   "outputs": [
    {
     "name": "stdout",
     "output_type": "stream",
     "text": [
      "\u001b[31mA\u001b[0m \u001b[34m+\u001b[0m \u001b[34m+\u001b[0m \u001b[34m+\u001b[0m \u001b[34m+\u001b[0m \u001b[34m+\u001b[0m \u001b[34m+\u001b[0m \u001b[34m+\u001b[0m \u001b[31m0\u001b[0m \u001b[34m+\u001b[0m \u001b[34m+\u001b[0m \u001b[34m+\u001b[0m \u001b[34m+\u001b[0m \u001b[34m+\u001b[0m \u001b[34m+\u001b[0m \u001b[34m+\u001b[0m \u001b[31mA\u001b[0m \n",
      "\u001b[34m+\u001b[0m \u001b[31mB\u001b[0m \u001b[31m \u001b[0m \u001b[31m \u001b[0m \u001b[31m \u001b[0m \u001b[31m \u001b[0m \u001b[31m \u001b[0m \u001b[31m3\u001b[0m \u001b[31m \u001b[0m \u001b[31m3\u001b[0m \u001b[31m \u001b[0m \u001b[31m \u001b[0m \u001b[31m \u001b[0m \u001b[31m \u001b[0m \u001b[31m \u001b[0m \u001b[31mB\u001b[0m \u001b[34m+\u001b[0m \n",
      "\u001b[34m+\u001b[0m \u001b[31m \u001b[0m \u001b[31mC\u001b[0m \u001b[31m \u001b[0m \u001b[31m \u001b[0m \u001b[31m \u001b[0m \u001b[31m9\u001b[0m \u001b[31m \u001b[0m \u001b[31m \u001b[0m \u001b[31m \u001b[0m \u001b[31m9\u001b[0m \u001b[31m \u001b[0m \u001b[31m \u001b[0m \u001b[31m \u001b[0m \u001b[31mC\u001b[0m \u001b[31m \u001b[0m \u001b[34m+\u001b[0m \n",
      "\u001b[34m+\u001b[0m \u001b[31m \u001b[0m \u001b[31m \u001b[0m \u001b[31mD\u001b[0m \u001b[31m \u001b[0m \u001b[31m27\u001b[0m \u001b[31m \u001b[0m \u001b[31m \u001b[0m \u001b[31m \u001b[0m \u001b[31m \u001b[0m \u001b[31m \u001b[0m \u001b[31m27\u001b[0m \u001b[31m \u001b[0m \u001b[31mD\u001b[0m \u001b[31m \u001b[0m \u001b[31m \u001b[0m \u001b[34m+\u001b[0m \n",
      "\u001b[32m0\u001b[0m \u001b[32m2\u001b[0m \u001b[32m4\u001b[0m \u001b[32m8\u001b[0m \u001b[31mE\u001b[0m \u001b[32m8\u001b[0m \u001b[32m4\u001b[0m \u001b[32m2\u001b[0m \u001b[32m0\u001b[0m \u001b[32m2\u001b[0m \u001b[32m4\u001b[0m \u001b[32m8\u001b[0m \u001b[31mE\u001b[0m \u001b[32m8\u001b[0m \u001b[32m4\u001b[0m \u001b[32m2\u001b[0m \u001b[32m0\u001b[0m \n",
      "\u001b[34m+\u001b[0m \u001b[31m \u001b[0m \u001b[31m \u001b[0m \u001b[31m27\u001b[0m \u001b[31m \u001b[0m \u001b[31mD\u001b[0m \u001b[31m \u001b[0m \u001b[31m \u001b[0m \u001b[31m \u001b[0m \u001b[31m \u001b[0m \u001b[31m \u001b[0m \u001b[31mD\u001b[0m \u001b[31m \u001b[0m \u001b[31m27\u001b[0m \u001b[31m \u001b[0m \u001b[31m \u001b[0m \u001b[34m+\u001b[0m \n",
      "\u001b[34m+\u001b[0m \u001b[31m \u001b[0m \u001b[31m9\u001b[0m \u001b[31m \u001b[0m \u001b[31m \u001b[0m \u001b[31m \u001b[0m \u001b[31mC\u001b[0m \u001b[31m \u001b[0m \u001b[31m \u001b[0m \u001b[31m \u001b[0m \u001b[31mC\u001b[0m \u001b[31m \u001b[0m \u001b[31m \u001b[0m \u001b[31m \u001b[0m \u001b[31m9\u001b[0m \u001b[31m \u001b[0m \u001b[34m+\u001b[0m \n",
      "\u001b[34m+\u001b[0m \u001b[31m3\u001b[0m \u001b[31m \u001b[0m \u001b[31m \u001b[0m \u001b[31m \u001b[0m \u001b[31m \u001b[0m \u001b[31m \u001b[0m \u001b[31mB\u001b[0m \u001b[31m \u001b[0m \u001b[31mB\u001b[0m \u001b[31m \u001b[0m \u001b[31m \u001b[0m \u001b[31m \u001b[0m \u001b[31m \u001b[0m \u001b[31m \u001b[0m \u001b[31m3\u001b[0m \u001b[34m+\u001b[0m \n",
      "\u001b[31m0\u001b[0m \u001b[34m+\u001b[0m \u001b[34m+\u001b[0m \u001b[34m+\u001b[0m \u001b[34m+\u001b[0m \u001b[34m+\u001b[0m \u001b[34m+\u001b[0m \u001b[34m+\u001b[0m \u001b[31mA\u001b[0m \u001b[34m+\u001b[0m \u001b[34m+\u001b[0m \u001b[34m+\u001b[0m \u001b[34m+\u001b[0m \u001b[34m+\u001b[0m \u001b[34m+\u001b[0m \u001b[34m+\u001b[0m \u001b[31m0\u001b[0m \n"
     ]
    }
   ],
   "source": [
    "for y in crange(-4,4):\n",
    "    for l in range(2):\n",
    "        for x in crange(-4,4) if l == 0 else reversed(crange(-4,4)) :\n",
    "            if l == 1 and x == 4:\n",
    "                continue\n",
    "            \n",
    "            if abs(x) == abs(y):\n",
    "                v = 4 - abs(x)\n",
    "                if x <= 0 and y <= 0 or x > 0 and y > 0:\n",
    "                    printnlnR(alph[v])\n",
    "                else:\n",
    "                    c = multiplier(3,4-abs(x))\n",
    "                    printnlnR(c)\n",
    "            elif y == 0:\n",
    "                c = multiplier(2,4-abs(x))\n",
    "                printnlnG(c)\n",
    "            elif x == -4 or abs(y) == 4:\n",
    "                printnlnB('+')\n",
    "            else:\n",
    "                printnlnR(' ')\n",
    "    println()"
   ]
  },
  {
   "cell_type": "markdown",
   "metadata": {},
   "source": [
    "# SOAL 5"
   ]
  },
  {
   "cell_type": "code",
   "execution_count": 9,
   "metadata": {},
   "outputs": [
    {
     "name": "stdout",
     "output_type": "stream",
     "text": [
      "\u001b[31mA\u001b[0m \u001b[31m \u001b[0m \u001b[31m \u001b[0m \u001b[31m \u001b[0m \u001b[34m*\u001b[0m \u001b[31m \u001b[0m \u001b[31m \u001b[0m \u001b[31m \u001b[0m \u001b[31m0\u001b[0m \u001b[31m \u001b[0m \u001b[31m \u001b[0m \u001b[31m \u001b[0m \u001b[34m*\u001b[0m \u001b[31m \u001b[0m \u001b[31m \u001b[0m \u001b[31m \u001b[0m \u001b[31mA\u001b[0m \n",
      "\u001b[31m \u001b[0m \u001b[31mB\u001b[0m \u001b[31m \u001b[0m \u001b[34m*\u001b[0m \u001b[31m \u001b[0m \u001b[34m*\u001b[0m \u001b[31m \u001b[0m \u001b[31m3\u001b[0m \u001b[31m \u001b[0m \u001b[31m3\u001b[0m \u001b[31m \u001b[0m \u001b[34m*\u001b[0m \u001b[31m \u001b[0m \u001b[34m*\u001b[0m \u001b[31m \u001b[0m \u001b[31mB\u001b[0m \u001b[31m \u001b[0m \n",
      "\u001b[31m \u001b[0m \u001b[31m \u001b[0m \u001b[31mC\u001b[0m \u001b[31m \u001b[0m \u001b[31m \u001b[0m \u001b[31m \u001b[0m \u001b[31m9\u001b[0m \u001b[31m \u001b[0m \u001b[31m \u001b[0m \u001b[31m \u001b[0m \u001b[31m9\u001b[0m \u001b[31m \u001b[0m \u001b[31m \u001b[0m \u001b[31m \u001b[0m \u001b[31mC\u001b[0m \u001b[31m \u001b[0m \u001b[31m \u001b[0m \n",
      "\u001b[31m \u001b[0m \u001b[34m*\u001b[0m \u001b[31m \u001b[0m \u001b[31mD\u001b[0m \u001b[31m \u001b[0m \u001b[31m27\u001b[0m \u001b[31m \u001b[0m \u001b[34m*\u001b[0m \u001b[31m \u001b[0m \u001b[34m*\u001b[0m \u001b[31m \u001b[0m \u001b[31m27\u001b[0m \u001b[31m \u001b[0m \u001b[31mD\u001b[0m \u001b[31m \u001b[0m \u001b[34m*\u001b[0m \u001b[31m \u001b[0m \n",
      "\u001b[31m0\u001b[0m \u001b[31m2\u001b[0m \u001b[31m4\u001b[0m \u001b[31m8\u001b[0m \u001b[31mE\u001b[0m \u001b[31m8\u001b[0m \u001b[31m4\u001b[0m \u001b[31m2\u001b[0m \u001b[31m0\u001b[0m \u001b[31m2\u001b[0m \u001b[31m4\u001b[0m \u001b[31m8\u001b[0m \u001b[31mE\u001b[0m \u001b[31m8\u001b[0m \u001b[31m4\u001b[0m \u001b[31m2\u001b[0m \u001b[31m0\u001b[0m \n",
      "\u001b[31m \u001b[0m \u001b[34m*\u001b[0m \u001b[31m \u001b[0m \u001b[31m27\u001b[0m \u001b[31m \u001b[0m \u001b[31mD\u001b[0m \u001b[31m \u001b[0m \u001b[34m*\u001b[0m \u001b[31m \u001b[0m \u001b[34m*\u001b[0m \u001b[31m \u001b[0m \u001b[31mD\u001b[0m \u001b[31m \u001b[0m \u001b[31m27\u001b[0m \u001b[31m \u001b[0m \u001b[34m*\u001b[0m \u001b[31m \u001b[0m \n",
      "\u001b[31m \u001b[0m \u001b[31m \u001b[0m \u001b[31m9\u001b[0m \u001b[31m \u001b[0m \u001b[31m \u001b[0m \u001b[31m \u001b[0m \u001b[31mC\u001b[0m \u001b[31m \u001b[0m \u001b[31m \u001b[0m \u001b[31m \u001b[0m \u001b[31mC\u001b[0m \u001b[31m \u001b[0m \u001b[31m \u001b[0m \u001b[31m \u001b[0m \u001b[31m9\u001b[0m \u001b[31m \u001b[0m \u001b[31m \u001b[0m \n",
      "\u001b[31m \u001b[0m \u001b[31m3\u001b[0m \u001b[31m \u001b[0m \u001b[34m*\u001b[0m \u001b[31m \u001b[0m \u001b[34m*\u001b[0m \u001b[31m \u001b[0m \u001b[31mB\u001b[0m \u001b[31m \u001b[0m \u001b[31mB\u001b[0m \u001b[31m \u001b[0m \u001b[34m*\u001b[0m \u001b[31m \u001b[0m \u001b[34m*\u001b[0m \u001b[31m \u001b[0m \u001b[31m3\u001b[0m \u001b[31m \u001b[0m \n",
      "\u001b[31m0\u001b[0m \u001b[31m \u001b[0m \u001b[31m \u001b[0m \u001b[31m \u001b[0m \u001b[34m*\u001b[0m \u001b[31m \u001b[0m \u001b[31m \u001b[0m \u001b[31m \u001b[0m \u001b[31mA\u001b[0m \u001b[31m \u001b[0m \u001b[31m \u001b[0m \u001b[31m \u001b[0m \u001b[34m*\u001b[0m \u001b[31m \u001b[0m \u001b[31m \u001b[0m \u001b[31m \u001b[0m \u001b[31m0\u001b[0m \n"
     ]
    }
   ],
   "source": [
    "for y in crange(-4,4):\n",
    "    for l in range(2):\n",
    "        for x in crange(-4,4) if l == 0 else reversed(crange(-4,4)) :\n",
    "            if l == 1 and x == 4:\n",
    "                continue\n",
    "            \n",
    "            if abs(x) == abs(y):\n",
    "                v = 4 - abs(x)\n",
    "                if x <= 0 and y <= 0 or x > 0 and y > 0:\n",
    "                    printnlnR(alph[v])\n",
    "                else:\n",
    "                    c = multiplier(3,4-abs(x))\n",
    "                    printnlnR(c)\n",
    "            elif y == 0:\n",
    "                c = multiplier(2,4-abs(x))\n",
    "                printnlnR(c)\n",
    "            elif 4-abs(x) == abs(y):\n",
    "                printnlnB('*')\n",
    "            else:\n",
    "                printnlnR(' ')\n",
    "    println()"
   ]
  },
  {
   "cell_type": "code",
   "execution_count": null,
   "metadata": {},
   "outputs": [],
   "source": []
  }
 ],
 "metadata": {
  "kernelspec": {
   "display_name": "Python 3",
   "language": "python",
   "name": "python3"
  },
  "language_info": {
   "codemirror_mode": {
    "name": "ipython",
    "version": 3
   },
   "file_extension": ".py",
   "mimetype": "text/x-python",
   "name": "python",
   "nbconvert_exporter": "python",
   "pygments_lexer": "ipython3",
   "version": "3.6.4"
  }
 },
 "nbformat": 4,
 "nbformat_minor": 2
}
