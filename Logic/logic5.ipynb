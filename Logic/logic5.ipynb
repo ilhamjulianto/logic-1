{
 "cells": [
  {
   "cell_type": "code",
   "execution_count": 1,
   "metadata": {},
   "outputs": [],
   "source": [
    "from my_custom_functions import *"
   ]
  },
  {
   "cell_type": "markdown",
   "metadata": {},
   "source": [
    "![](http://fs5.directupload.net/images/180503/5ht7dguc.jpg)"
   ]
  },
  {
   "cell_type": "code",
   "execution_count": 2,
   "metadata": {},
   "outputs": [],
   "source": [
    "def printnln(a=''):\n",
    "    print(a,end=' ')"
   ]
  },
  {
   "cell_type": "markdown",
   "metadata": {},
   "source": [
    "# LOGIC 5\n",
    "\n",
    "## Fungsi untuk menentukan jumlah kolom per lapis kotak"
   ]
  },
  {
   "cell_type": "code",
   "execution_count": 3,
   "metadata": {},
   "outputs": [
    {
     "name": "stdout",
     "output_type": "stream",
     "text": [
      "1\n",
      "3\n",
      "6\n",
      "10\n",
      "15\n"
     ]
    }
   ],
   "source": [
    "def total(i):\n",
    "    return i*(i+1)//2\n",
    "\n",
    "for c in crange(1,5):\n",
    "    print(total(c))"
   ]
  },
  {
   "cell_type": "markdown",
   "metadata": {},
   "source": [
    "# SOAL 1"
   ]
  },
  {
   "cell_type": "code",
   "execution_count": 4,
   "metadata": {},
   "outputs": [
    {
     "name": "stdout",
     "output_type": "stream",
     "text": [
      "* \n",
      "_ * * \n",
      "_ * * \n",
      "_ _ _ * * * \n",
      "_ _ _ * * * \n",
      "_ _ _ * * * \n",
      "_ _ _ _ _ _ * * * * \n",
      "_ _ _ _ _ _ * * * * \n",
      "_ _ _ _ _ _ * * * * \n",
      "_ _ _ _ _ _ * * * * \n"
     ]
    }
   ],
   "source": [
    "for j in crange(1,4):\n",
    "    for s in crange(1,j):\n",
    "        for s in crange(0,total(j-1)-1):\n",
    "            printnln('_')\n",
    "        for s in crange(1,j):\n",
    "            printnln('*')\n",
    "        println()"
   ]
  },
  {
   "cell_type": "code",
   "execution_count": 5,
   "metadata": {},
   "outputs": [
    {
     "name": "stdout",
     "output_type": "stream",
     "text": [
      "1 * \n",
      "2 _ * * \n",
      "2 _ * * \n",
      "3 _ _ _ * * * \n",
      "3 _ _ _ * * * \n",
      "3 _ _ _ * * * \n",
      "4 _ _ _ _ _ _ * * * * \n",
      "4 _ _ _ _ _ _ * * * * \n",
      "4 _ _ _ _ _ _ * * * * \n",
      "4 _ _ _ _ _ _ * * * * \n"
     ]
    }
   ],
   "source": [
    "def spasi(n):\n",
    "    return n*(n+1)//2\n",
    "\n",
    "for z in crange(1,4):\n",
    "    for y in crange(1,z):\n",
    "        printnln(z)\n",
    "        for s in crange(1,spasi(z-1)):\n",
    "            printnln('_')\n",
    "        for x in crange(1,z):\n",
    "            printnln('*')\n",
    "        println()"
   ]
  },
  {
   "cell_type": "markdown",
   "metadata": {},
   "source": [
    "# SOAL 2"
   ]
  },
  {
   "cell_type": "code",
   "execution_count": 6,
   "metadata": {},
   "outputs": [
    {
     "name": "stdout",
     "output_type": "stream",
     "text": [
      "                  * \n",
      "              * * \n",
      "              * * \n",
      "        * * * \n",
      "        * * * \n",
      "        * * * \n",
      "* * * * \n",
      "* * * * \n",
      "* * * * \n",
      "* * * * \n"
     ]
    }
   ],
   "source": [
    "for j in crange(1,4):\n",
    "    for s in crange(1,j):\n",
    "        for s in crange(0,total(4)-total(j)-1):\n",
    "            printnln(' ')\n",
    "        for s in crange(1,j):\n",
    "            printnln('*')\n",
    "        println()"
   ]
  },
  {
   "cell_type": "code",
   "execution_count": 7,
   "metadata": {},
   "outputs": [
    {
     "name": "stdout",
     "output_type": "stream",
     "text": [
      "                  * \n",
      "              * * \n",
      "              * * \n",
      "        * * * \n",
      "        * * * \n",
      "        * * * \n",
      "* * * * \n",
      "* * * * \n",
      "* * * * \n",
      "* * * * \n"
     ]
    }
   ],
   "source": [
    "for j in crange(1,4):\n",
    "    for s in crange(1,j):\n",
    "        for s in crange(1,total(4)-total(j)):\n",
    "            printnln(' ')\n",
    "        for s in crange(1,j):\n",
    "            printnln('*')\n",
    "        println()"
   ]
  },
  {
   "cell_type": "code",
   "execution_count": 8,
   "metadata": {},
   "outputs": [
    {
     "name": "stdout",
     "output_type": "stream",
     "text": [
      "1\n",
      "3\n",
      "6\n",
      "10\n"
     ]
    }
   ],
   "source": [
    "for j in crange(1,4):\n",
    "    print(total(j))"
   ]
  },
  {
   "cell_type": "markdown",
   "metadata": {},
   "source": [
    "## Fungsi penghitung jumlah kolom lapis piramid "
   ]
  },
  {
   "cell_type": "code",
   "execution_count": 9,
   "metadata": {},
   "outputs": [],
   "source": [
    "def pyramid(i):\n",
    "    return i * 2 - 1\n",
    "\n",
    "def totalPyramid(i): \n",
    "    return i * i"
   ]
  },
  {
   "cell_type": "markdown",
   "metadata": {},
   "source": [
    "# SOAL 3"
   ]
  },
  {
   "cell_type": "code",
   "execution_count": 10,
   "metadata": {},
   "outputs": [
    {
     "name": "stdout",
     "output_type": "stream",
     "text": [
      "* \n",
      "_   * \n",
      "_ * * * \n",
      "_ _ _ _     * \n",
      "_ _ _ _   * * * \n",
      "_ _ _ _ * * * * * \n",
      "_ _ _ _ _ _ _ _ _       * \n",
      "_ _ _ _ _ _ _ _ _     * * * \n",
      "_ _ _ _ _ _ _ _ _   * * * * * \n",
      "_ _ _ _ _ _ _ _ _ * * * * * * * \n"
     ]
    }
   ],
   "source": [
    "for j in crange(1,4):\n",
    "    for x in crange(1,j):\n",
    "        for s in crange(1,totalPyramid(j)-pyramid(j)):\n",
    "            printnln('_')\n",
    "        for s in crange(0,j-x-1):\n",
    "            printnln(' ')\n",
    "        for s in crange(1,pyramid(x)):\n",
    "            printnln('*')\n",
    "        println()"
   ]
  },
  {
   "cell_type": "markdown",
   "metadata": {},
   "source": [
    "# SOAL 4"
   ]
  },
  {
   "cell_type": "code",
   "execution_count": 11,
   "metadata": {},
   "outputs": [
    {
     "name": "stdout",
     "output_type": "stream",
     "text": [
      "_ _ _ _ _ _ _ _ _ _ _ _ _ _ _ * \n",
      "_ _ _ _ _ _ _ _ _ _ _ _   * \n",
      "_ _ _ _ _ _ _ _ _ _ _ _ * * * \n",
      "_ _ _ _ _ _ _     * \n",
      "_ _ _ _ _ _ _   * * * \n",
      "_ _ _ _ _ _ _ * * * * * \n",
      "      * \n",
      "    * * * \n",
      "  * * * * * \n",
      "* * * * * * * \n"
     ]
    }
   ],
   "source": [
    "for j in crange(1,4):\n",
    "    for x in crange(1,j):\n",
    "        for s in crange(1,totalPyramid(4)-totalPyramid(j)):\n",
    "            printnln('_')\n",
    "        for s in crange(1,j-x):\n",
    "            printnln(' ')\n",
    "        for s in crange(1,pyramid(x)):\n",
    "            printnln('*')\n",
    "        println()"
   ]
  },
  {
   "cell_type": "markdown",
   "metadata": {},
   "source": [
    "# SOAL 5"
   ]
  },
  {
   "cell_type": "code",
   "execution_count": 12,
   "metadata": {},
   "outputs": [
    {
     "name": "stdout",
     "output_type": "stream",
     "text": [
      "_ _ _ _ _ _ _ _ _ _ _ _ _ _ _ * \n",
      "_ _ _ _ _ _ _ _ _ _ _ _ * * * \n",
      "_ _ _ _ _ _ _ _ _ _ _ _   * \n",
      "_ _ _ _ _ _ _ * * * * * \n",
      "_ _ _ _ _ _ _   * * * \n",
      "_ _ _ _ _ _ _     * \n",
      "* * * * * * * \n",
      "  * * * * * \n",
      "    * * * \n",
      "      * \n"
     ]
    }
   ],
   "source": [
    "for j in crange(1,4):\n",
    "    for x in reversed(crange(1,j)):\n",
    "        for s in crange(1,totalPyramid(4)-totalPyramid(j)):\n",
    "            printnln('_')\n",
    "        for s in crange(1,j-x):\n",
    "            printnln(' ')\n",
    "        for s in crange(1,pyramid(x)):\n",
    "            printnln('*')\n",
    "        println()"
   ]
  },
  {
   "cell_type": "markdown",
   "metadata": {},
   "source": [
    "# SOAL 6"
   ]
  },
  {
   "cell_type": "code",
   "execution_count": 13,
   "metadata": {},
   "outputs": [
    {
     "name": "stdout",
     "output_type": "stream",
     "text": [
      "1 \n",
      "  1 2 \n",
      "  3 4 \n",
      "      1 2 3 \n",
      "      4 5 6 \n",
      "      7 8 9 \n",
      "            1 2 3 4 \n",
      "            5 6 7 8 \n",
      "            9 10 11 12 \n",
      "            13 14 15 16 \n"
     ]
    }
   ],
   "source": [
    "for j in crange(1,4):\n",
    "    for y in crange(1,j):\n",
    "        for s in crange(0,total(j)-j-1):\n",
    "            printnln(' ')\n",
    "        for x in crange(1,j):\n",
    "            n = x + ((y - 1) * j)\n",
    "            printnln(n)\n",
    "        println()"
   ]
  },
  {
   "cell_type": "markdown",
   "metadata": {},
   "source": [
    "# SOAL 7"
   ]
  },
  {
   "cell_type": "code",
   "execution_count": 14,
   "metadata": {},
   "outputs": [
    {
     "name": "stdout",
     "output_type": "stream",
     "text": [
      "                  1 \n",
      "              1 2 \n",
      "              3 4 \n",
      "        1 2 3 \n",
      "        4 5 6 \n",
      "        7 8 9 \n",
      "1 2 3 4 \n",
      "5 6 7 8 \n",
      "9 10 11 12 \n",
      "13 14 15 16 \n"
     ]
    }
   ],
   "source": [
    "for j in crange(1,4):\n",
    "    for y in crange(1,j):\n",
    "        for s in crange(0,total(4)-total(j)-1):\n",
    "            printnln(' ')\n",
    "        for x in crange(1,j):\n",
    "            n = x + ((y - 1) * j)\n",
    "            printnln(n)\n",
    "        println()"
   ]
  },
  {
   "cell_type": "markdown",
   "metadata": {},
   "source": [
    "# SOAL 8"
   ]
  },
  {
   "cell_type": "code",
   "execution_count": 15,
   "metadata": {},
   "outputs": [
    {
     "name": "stdout",
     "output_type": "stream",
     "text": [
      "4\n",
      "16\n",
      "64\n",
      "256\n"
     ]
    }
   ],
   "source": [
    "for i in range(2,10,2):\n",
    "    print(2**i)"
   ]
  },
  {
   "cell_type": "code",
   "execution_count": null,
   "metadata": {},
   "outputs": [],
   "source": []
  },
  {
   "cell_type": "code",
   "execution_count": 16,
   "metadata": {},
   "outputs": [
    {
     "name": "stdout",
     "output_type": "stream",
     "text": [
      "1 \n",
      "- 1 2 \n",
      "- 4 3 \n",
      "- - - 1 2 3 \n",
      "- - - 6 5 4 \n",
      "- - - 7 8 9 \n",
      "- - - - - - 1 2 3 4 \n",
      "- - - - - - 8 7 6 5 \n",
      "- - - - - - 9 10 11 12 \n",
      "- - - - - - 16 15 14 13 \n",
      "- - - - - - - - - - 1 2 3 4 5 \n",
      "- - - - - - - - - - 10 9 8 7 6 \n",
      "- - - - - - - - - - 11 12 13 14 15 \n",
      "- - - - - - - - - - 20 19 18 17 16 \n",
      "- - - - - - - - - - 21 22 23 24 25 \n",
      "- - - - - - - - - - - - - - - 1 2 3 4 5 6 \n",
      "- - - - - - - - - - - - - - - 12 11 10 9 8 7 \n",
      "- - - - - - - - - - - - - - - 13 14 15 16 17 18 \n",
      "- - - - - - - - - - - - - - - 24 23 22 21 20 19 \n",
      "- - - - - - - - - - - - - - - 25 26 27 28 29 30 \n",
      "- - - - - - - - - - - - - - - 36 35 34 33 32 31 \n"
     ]
    }
   ],
   "source": [
    "for j in crange(1,6):\n",
    "    for t in crange(1,j):\n",
    "        for s in crange(1,total(j-1)):\n",
    "            printnln('-')\n",
    "        for x in crange(1,j) if t % 2 != 0  else reversed(crange(1,j)):\n",
    "            n = x + ((t - 1) * j)\n",
    "            printnln(n)\n",
    "        println()"
   ]
  },
  {
   "cell_type": "code",
   "execution_count": 17,
   "metadata": {},
   "outputs": [
    {
     "name": "stdout",
     "output_type": "stream",
     "text": [
      "1 2 3 \n",
      "4 5 6 \n",
      "7 8 9 \n"
     ]
    }
   ],
   "source": [
    "for y in crange(1,3):\n",
    "    for x in crange(1,3):\n",
    "        printnln(x+((y-1)*3))\n",
    "    println()"
   ]
  },
  {
   "cell_type": "markdown",
   "metadata": {},
   "source": [
    "# SOAL 9"
   ]
  },
  {
   "cell_type": "code",
   "execution_count": 18,
   "metadata": {},
   "outputs": [
    {
     "name": "stdout",
     "output_type": "stream",
     "text": [
      "        * \n",
      "        * \n",
      "      * * * \n",
      "        * \n",
      "      * * * \n",
      "    * * * * * \n",
      "        * \n",
      "      * * * \n",
      "    * * * * * \n",
      "  * * * * * * * \n"
     ]
    }
   ],
   "source": [
    "for y in crange(1,4):\n",
    "    for t in crange(1,y):\n",
    "        p = pcount(t)\n",
    "\n",
    "        t = 4 - p // 2\n",
    "        for s in crange(1,t):\n",
    "            printnln(' ')\n",
    "            \n",
    "        for x in crange(1,p):\n",
    "            printnln('*')\n",
    "        println()"
   ]
  },
  {
   "cell_type": "markdown",
   "metadata": {},
   "source": [
    "# SOAL 10"
   ]
  },
  {
   "cell_type": "code",
   "execution_count": 19,
   "metadata": {},
   "outputs": [
    {
     "name": "stdout",
     "output_type": "stream",
     "text": [
      "        1 \n",
      "        1 \n",
      "      1 2 3 \n",
      "        1 \n",
      "      3 5 7 \n",
      "    9 11 13 15 17 \n",
      "        1 \n",
      "      1 2 3 \n",
      "    5 8 13 21 34 \n",
      "  55 89 144 233 377 610 987 \n"
     ]
    }
   ],
   "source": [
    "for y in crange(1,4):\n",
    "    c = 0\n",
    "    for t in crange(1,y):\n",
    "        p = pcount(t)\n",
    "\n",
    "        t = 4-p//2\n",
    "        for s in crange(1,t):\n",
    "            printnln(' ')\n",
    "            \n",
    "        for x in crange(1,p):\n",
    "            c += 1\n",
    "            if y % 2 == 0:\n",
    "                printnln(fib(c))\n",
    "            else:\n",
    "                printnln(c*2-1)\n",
    "        println()"
   ]
  },
  {
   "cell_type": "markdown",
   "metadata": {},
   "source": [
    "# TUTORIAL"
   ]
  },
  {
   "cell_type": "code",
   "execution_count": 20,
   "metadata": {},
   "outputs": [
    {
     "name": "stdout",
     "output_type": "stream",
     "text": [
      "1< 1 \n",
      "2< - 1 2 \n",
      "2< - 4 3 \n",
      "3< - - - 1 2 3 \n",
      "3< - - - 6 5 4 \n",
      "3< - - - 7 8 9 \n",
      "4< - - - - - - 1 2 3 4 \n",
      "4< - - - - - - 8 7 6 5 \n",
      "4< - - - - - - 9 10 11 12 \n",
      "4< - - - - - - 16 15 14 13 \n"
     ]
    }
   ],
   "source": [
    "for j in crange(1,4):\n",
    "    n = 0\n",
    "    for t in crange(1,j):\n",
    "        printnln('{}<'.format(j))\n",
    "        \n",
    "        for s in crange(0,total(j)-j-1):\n",
    "            printnln('-')\n",
    "            \n",
    "        for x in crange(1,j) if t % 2 != 0  else reversed(crange(1,j)):\n",
    "            v = x+(j*(t-1))\n",
    "            printnln(v)\n",
    "        println()"
   ]
  },
  {
   "cell_type": "code",
   "execution_count": null,
   "metadata": {},
   "outputs": [],
   "source": []
  }
 ],
 "metadata": {
  "kernelspec": {
   "display_name": "Python 3",
   "language": "python",
   "name": "python3"
  },
  "language_info": {
   "codemirror_mode": {
    "name": "ipython",
    "version": 3
   },
   "file_extension": ".py",
   "mimetype": "text/x-python",
   "name": "python",
   "nbconvert_exporter": "python",
   "pygments_lexer": "ipython3",
   "version": "3.6.4"
  }
 },
 "nbformat": 4,
 "nbformat_minor": 2
}
