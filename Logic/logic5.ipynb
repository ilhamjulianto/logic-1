{
 "cells": [
  {
   "cell_type": "code",
   "execution_count": 64,
   "metadata": {},
   "outputs": [],
   "source": [
    "# menjalankan functions.ipynb agar bisa memanggil fungsi2 didalamnya\n",
    "# %run functions.ipynb\n",
    "\n",
    "# Closed Range\n",
    "def crange(a,b):\n",
    "    return range(a,b+1)\n",
    "\n",
    "# Print tanpa buat baris baru\n",
    "def printnln(a=''):\n",
    "    print(a, end='')\n",
    "\n",
    "# Print dengan baris baru\n",
    "def println(a=''):\n",
    "    print(a)\n",
    "    \n",
    "def pbound(i):\n",
    "     return i - 1"
   ]
  },
  {
   "cell_type": "markdown",
   "metadata": {},
   "source": [
    "# LOGIC 5\n",
    "\n",
    "## Fungsi untuk menentukan jumlah kolom per lapis kotak"
   ]
  },
  {
   "cell_type": "code",
   "execution_count": 81,
   "metadata": {},
   "outputs": [
    {
     "name": "stdout",
     "output_type": "stream",
     "text": [
      "1\n",
      "3\n",
      "6\n",
      "10\n",
      "15\n"
     ]
    }
   ],
   "source": [
    "def total(i):\n",
    "    return int(i*(i+1)/2)\n",
    "\n",
    "for c in crange(1,5):\n",
    "    print(total(c))"
   ]
  },
  {
   "cell_type": "markdown",
   "metadata": {},
   "source": [
    "# SOAL 1"
   ]
  },
  {
   "cell_type": "code",
   "execution_count": 67,
   "metadata": {},
   "outputs": [
    {
     "name": "stdout",
     "output_type": "stream",
     "text": [
      "*\n",
      " **\n",
      " **\n",
      "   ***\n",
      "   ***\n",
      "   ***\n",
      "      ****\n",
      "      ****\n",
      "      ****\n",
      "      ****\n"
     ]
    }
   ],
   "source": [
    "for j in crange(1,4):\n",
    "    for s in crange(1,j):\n",
    "        for s in crange(0,total(j)-j-1):\n",
    "            printnln(' ')\n",
    "        for s in crange(1,j):\n",
    "            printnln('*')\n",
    "        println()"
   ]
  },
  {
   "cell_type": "markdown",
   "metadata": {},
   "source": [
    "# SOAL 2"
   ]
  },
  {
   "cell_type": "code",
   "execution_count": 68,
   "metadata": {},
   "outputs": [
    {
     "name": "stdout",
     "output_type": "stream",
     "text": [
      "         *\n",
      "       **\n",
      "       **\n",
      "    ***\n",
      "    ***\n",
      "    ***\n",
      "****\n",
      "****\n",
      "****\n",
      "****\n"
     ]
    }
   ],
   "source": [
    "for j in crange(1,4):\n",
    "    for s in crange(1,j):\n",
    "        for s in crange(0,total(4)-total(j)-1):\n",
    "            printnln(' ')\n",
    "        for s in crange(1,j):\n",
    "            printnln('*')\n",
    "        println()"
   ]
  },
  {
   "cell_type": "markdown",
   "metadata": {},
   "source": [
    "## Fungsi penghitung jumlah kolom lapis piramid "
   ]
  },
  {
   "cell_type": "code",
   "execution_count": 69,
   "metadata": {},
   "outputs": [],
   "source": [
    "def pyramid(i):\n",
    "    return i * 2 - 1\n",
    "\n",
    "def totalPyramid(i): \n",
    "    return i * i"
   ]
  },
  {
   "cell_type": "markdown",
   "metadata": {},
   "source": [
    "# SOAL 3"
   ]
  },
  {
   "cell_type": "code",
   "execution_count": 70,
   "metadata": {},
   "outputs": [
    {
     "name": "stdout",
     "output_type": "stream",
     "text": [
      "*\n",
      "_ *\n",
      "_***\n",
      "____  *\n",
      "____ ***\n",
      "____*****\n",
      "_________   *\n",
      "_________  ***\n",
      "_________ *****\n",
      "_________*******\n"
     ]
    }
   ],
   "source": [
    "for j in crange(1,4):\n",
    "    for x in crange(1,j):\n",
    "        for s in crange(0,totalPyramid(j)-pyramid(j)-1):\n",
    "            printnln('_')\n",
    "        for s in crange(0,j-x-1):\n",
    "            printnln(' ')\n",
    "        for s in crange(1,pyramid(x)):\n",
    "            printnln('*')\n",
    "        println()"
   ]
  },
  {
   "cell_type": "markdown",
   "metadata": {},
   "source": [
    "# SOAL 4"
   ]
  },
  {
   "cell_type": "code",
   "execution_count": 80,
   "metadata": {},
   "outputs": [
    {
     "name": "stdout",
     "output_type": "stream",
     "text": [
      "_______________*\n",
      "____________ *\n",
      "____________***\n",
      "_______  *\n",
      "_______ ***\n",
      "_______*****\n",
      "   *\n",
      "  ***\n",
      " *****\n",
      "*******\n"
     ]
    }
   ],
   "source": [
    "for j in crange(1,4):\n",
    "    for x in crange(1,j):\n",
    "        for s in crange(0,totalPyramid(4)-totalPyramid(j)-1):\n",
    "            printnln('_')\n",
    "        for s in crange(0,j-x-1):\n",
    "            printnln(' ')\n",
    "        for s in crange(1,pyramid(x)):\n",
    "            printnln('*')\n",
    "        println()"
   ]
  },
  {
   "cell_type": "markdown",
   "metadata": {},
   "source": [
    "# SOAL 5"
   ]
  },
  {
   "cell_type": "code",
   "execution_count": 76,
   "metadata": {},
   "outputs": [
    {
     "name": "stdout",
     "output_type": "stream",
     "text": [
      "*\n",
      "_***\n",
      "_ *\n",
      "____*****\n",
      "____ ***\n",
      "____  *\n",
      "_________*******\n",
      "_________ *****\n",
      "_________  ***\n",
      "_________   *\n"
     ]
    }
   ],
   "source": [
    "for j in crange(1,4):\n",
    "    for x in reversed(crange(1,j)):\n",
    "        for s in crange(0,totalPyramid(j)-pyramid(j)-1):\n",
    "            printnln('_')\n",
    "        for s in crange(0,j-x-1):\n",
    "            printnln(' ')\n",
    "        for s in crange(1,pyramid(x)):\n",
    "            printnln('*')\n",
    "        println()"
   ]
  },
  {
   "cell_type": "markdown",
   "metadata": {},
   "source": [
    "# SOAL 6"
   ]
  },
  {
   "cell_type": "code",
   "execution_count": 86,
   "metadata": {},
   "outputs": [
    {
     "name": "stdout",
     "output_type": "stream",
     "text": [
      "1\n",
      " 12\n",
      " 34\n",
      "   123\n",
      "   456\n",
      "   789\n",
      "      1234\n",
      "      5678\n",
      "      9101112\n",
      "      13141516\n"
     ]
    }
   ],
   "source": [
    "for j in crange(1,4):\n",
    "    n = 1\n",
    "    for s in crange(1,j):\n",
    "        for s in crange(0,total(j)-j-1):\n",
    "            printnln(' ')\n",
    "        for s in crange(1,j):\n",
    "            printnln(n)\n",
    "            n+=1\n",
    "        println()"
   ]
  },
  {
   "cell_type": "markdown",
   "metadata": {},
   "source": [
    "# SOAL 7"
   ]
  },
  {
   "cell_type": "code",
   "execution_count": 87,
   "metadata": {},
   "outputs": [
    {
     "name": "stdout",
     "output_type": "stream",
     "text": [
      "         1\n",
      "       12\n",
      "       34\n",
      "    123\n",
      "    456\n",
      "    789\n",
      "1234\n",
      "5678\n",
      "9101112\n",
      "13141516\n"
     ]
    }
   ],
   "source": [
    "for j in crange(1,4):\n",
    "    n = 1\n",
    "    for s in crange(1,j):\n",
    "        for s in crange(0,total(4)-total(j)-1):\n",
    "            printnln(' ')\n",
    "        for s in crange(1,j):\n",
    "            printnln(n)\n",
    "            n+=1\n",
    "        println()"
   ]
  },
  {
   "cell_type": "code",
   "execution_count": null,
   "metadata": {},
   "outputs": [],
   "source": []
  }
 ],
 "metadata": {
  "kernelspec": {
   "display_name": "Python 3",
   "language": "python",
   "name": "python3"
  },
  "language_info": {
   "codemirror_mode": {
    "name": "ipython",
    "version": 3
   },
   "file_extension": ".py",
   "mimetype": "text/x-python",
   "name": "python",
   "nbconvert_exporter": "python",
   "pygments_lexer": "ipython3",
   "version": "3.6.4"
  }
 },
 "nbformat": 4,
 "nbformat_minor": 2
}
