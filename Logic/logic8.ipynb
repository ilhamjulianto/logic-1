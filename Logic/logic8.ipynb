{
 "cells": [
  {
   "cell_type": "code",
   "execution_count": 41,
   "metadata": {},
   "outputs": [],
   "source": [
    "from my_custom_functions import *"
   ]
  },
  {
   "cell_type": "markdown",
   "metadata": {},
   "source": [
    "# SOAL 1"
   ]
  },
  {
   "cell_type": "markdown",
   "metadata": {},
   "source": [
    "# SOAL 2"
   ]
  },
  {
   "cell_type": "markdown",
   "metadata": {},
   "source": [
    "# SOAL 3"
   ]
  },
  {
   "cell_type": "markdown",
   "metadata": {},
   "source": [
    "# SOAL 4"
   ]
  },
  {
   "cell_type": "markdown",
   "metadata": {},
   "source": [
    "# SOAL 5"
   ]
  },
  {
   "cell_type": "code",
   "execution_count": 70,
   "metadata": {},
   "outputs": [
    {
     "name": "stdout",
     "output_type": "stream",
     "text": [
      "\u001b[31m_\u001b[0m \u001b[31m_\u001b[0m \u001b[31m_\u001b[0m \u001b[31m_\u001b[0m \u001b[31m_\u001b[0m \u001b[31m_\u001b[0m \u001b[31mG\u001b[0m \u001b[31m_\u001b[0m \u001b[31m_\u001b[0m \u001b[31m_\u001b[0m \u001b[31m_\u001b[0m \u001b[31m_\u001b[0m \u001b[31m_\u001b[0m \n",
      "\u001b[31m_\u001b[0m \u001b[31m_\u001b[0m \u001b[31m_\u001b[0m \u001b[31m_\u001b[0m \u001b[31m_\u001b[0m \u001b[31mF\u001b[0m \u001b[31m_\u001b[0m \u001b[31mF\u001b[0m \u001b[31m_\u001b[0m \u001b[31m_\u001b[0m \u001b[31m_\u001b[0m \u001b[31m_\u001b[0m \u001b[31m_\u001b[0m \n",
      "\u001b[31m_\u001b[0m \u001b[31m_\u001b[0m \u001b[31m_\u001b[0m \u001b[31m_\u001b[0m \u001b[31mE\u001b[0m \u001b[31m_\u001b[0m \u001b[31m_\u001b[0m \u001b[31m_\u001b[0m \u001b[31mE\u001b[0m \u001b[31m_\u001b[0m \u001b[31m_\u001b[0m \u001b[31m_\u001b[0m \u001b[31m_\u001b[0m \n",
      "\u001b[31m_\u001b[0m \u001b[31m_\u001b[0m \u001b[31m_\u001b[0m \u001b[31mD\u001b[0m \u001b[31m_\u001b[0m \u001b[31m_\u001b[0m \u001b[31m_\u001b[0m \u001b[31m_\u001b[0m \u001b[31m_\u001b[0m \u001b[31mD\u001b[0m \u001b[31m_\u001b[0m \u001b[31m_\u001b[0m \u001b[31m_\u001b[0m \n",
      "\u001b[31m_\u001b[0m \u001b[31m_\u001b[0m \u001b[31mC\u001b[0m \u001b[31m_\u001b[0m \u001b[31m_\u001b[0m \u001b[31m_\u001b[0m \u001b[31m_\u001b[0m \u001b[31m_\u001b[0m \u001b[31m_\u001b[0m \u001b[31m_\u001b[0m \u001b[31mC\u001b[0m \u001b[31m_\u001b[0m \u001b[31m_\u001b[0m \n",
      "\u001b[31m_\u001b[0m \u001b[31mB\u001b[0m \u001b[31m_\u001b[0m \u001b[31m_\u001b[0m \u001b[31m_\u001b[0m \u001b[31m_\u001b[0m \u001b[31m_\u001b[0m \u001b[31m_\u001b[0m \u001b[31m_\u001b[0m \u001b[31m_\u001b[0m \u001b[31m_\u001b[0m \u001b[31mB\u001b[0m \u001b[31m_\u001b[0m \n",
      "\u001b[31mA\u001b[0m \u001b[31m_\u001b[0m \u001b[31m_\u001b[0m \u001b[31m_\u001b[0m \u001b[31m_\u001b[0m \u001b[31m_\u001b[0m \u001b[31m_\u001b[0m \u001b[31m_\u001b[0m \u001b[31m_\u001b[0m \u001b[31m_\u001b[0m \u001b[31m_\u001b[0m \u001b[31m_\u001b[0m \u001b[31mA\u001b[0m \n"
     ]
    }
   ],
   "source": [
    "import string\n",
    "alph = string.ascii_uppercase\n",
    "\n",
    "for y in crange(0,6):\n",
    "    for x in crange(-6,6):\n",
    "        if y == abs(x):\n",
    "            i = 6-abs(x)\n",
    "            printnlnR(alph[i])\n",
    "        else:\n",
    "            printnlnR('_')\n",
    "    println()"
   ]
  },
  {
   "cell_type": "markdown",
   "metadata": {},
   "source": [
    "# SOAL 6"
   ]
  },
  {
   "cell_type": "code",
   "execution_count": 42,
   "metadata": {},
   "outputs": [
    {
     "name": "stdout",
     "output_type": "stream",
     "text": [
      "\u001b[31m1\u001b[0m \u001b[31m3\u001b[0m \u001b[31m5\u001b[0m \n",
      "\u001b[32m1\u001b[0m \u001b[31m7\u001b[0m \u001b[31m9\u001b[0m \u001b[31m11\u001b[0m \n",
      "\u001b[32m1\u001b[0m \u001b[32m2\u001b[0m \u001b[31m13\u001b[0m \u001b[31m15\u001b[0m \u001b[31m17\u001b[0m \n",
      "\u001b[32m1\u001b[0m \u001b[32m2\u001b[0m \u001b[32m3\u001b[0m \u001b[31m19\u001b[0m \u001b[31m21\u001b[0m \u001b[31m23\u001b[0m \n",
      "\u001b[32m1\u001b[0m \u001b[32m2\u001b[0m \u001b[32m3\u001b[0m \u001b[32m4\u001b[0m \u001b[31m25\u001b[0m \u001b[31m27\u001b[0m \u001b[31m29\u001b[0m \n",
      "\u001b[32m1\u001b[0m \u001b[32m2\u001b[0m \u001b[32m3\u001b[0m \u001b[31m31\u001b[0m \u001b[31m33\u001b[0m \u001b[31m35\u001b[0m \n",
      "\u001b[32m1\u001b[0m \u001b[32m2\u001b[0m \u001b[31m37\u001b[0m \u001b[31m39\u001b[0m \u001b[31m41\u001b[0m \n",
      "\u001b[32m1\u001b[0m \u001b[31m43\u001b[0m \u001b[31m45\u001b[0m \u001b[31m47\u001b[0m \n",
      "\u001b[31m49\u001b[0m \u001b[31m51\u001b[0m \u001b[31m53\u001b[0m \n"
     ]
    }
   ],
   "source": [
    "pb = pbound(5)\n",
    "\n",
    "n = 0\n",
    "for y in crange(-pb,pb):\n",
    "    \n",
    "    for s in crange(1,4-abs(y)):\n",
    "        printnlnG(s)\n",
    "            \n",
    "    for x in crange(1,3):\n",
    "        n += 1\n",
    "        printnlnR(n*2-1)\n",
    "        \n",
    "    println()"
   ]
  },
  {
   "cell_type": "markdown",
   "metadata": {},
   "source": [
    "# SOAL 7"
   ]
  },
  {
   "cell_type": "code",
   "execution_count": 43,
   "metadata": {},
   "outputs": [
    {
     "name": "stdout",
     "output_type": "stream",
     "text": [
      "\u001b[32m1\u001b[0m \u001b[32m2\u001b[0m \u001b[32m3\u001b[0m \u001b[32m4\u001b[0m \u001b[31m4\u001b[0m \u001b[31m2\u001b[0m \u001b[31m0\u001b[0m \n",
      "\u001b[32m1\u001b[0m \u001b[32m2\u001b[0m \u001b[32m3\u001b[0m \u001b[31m10\u001b[0m \u001b[31m8\u001b[0m \u001b[31m6\u001b[0m \n",
      "\u001b[32m1\u001b[0m \u001b[32m2\u001b[0m \u001b[31m16\u001b[0m \u001b[31m14\u001b[0m \u001b[31m12\u001b[0m \n",
      "\u001b[32m1\u001b[0m \u001b[31m22\u001b[0m \u001b[31m20\u001b[0m \u001b[31m18\u001b[0m \n",
      "\u001b[31m28\u001b[0m \u001b[31m26\u001b[0m \u001b[31m24\u001b[0m \n",
      "\u001b[32m1\u001b[0m \u001b[31m34\u001b[0m \u001b[31m32\u001b[0m \u001b[31m30\u001b[0m \n",
      "\u001b[32m1\u001b[0m \u001b[32m2\u001b[0m \u001b[31m40\u001b[0m \u001b[31m38\u001b[0m \u001b[31m36\u001b[0m \n",
      "\u001b[32m1\u001b[0m \u001b[32m2\u001b[0m \u001b[32m3\u001b[0m \u001b[31m46\u001b[0m \u001b[31m44\u001b[0m \u001b[31m42\u001b[0m \n",
      "\u001b[32m1\u001b[0m \u001b[32m2\u001b[0m \u001b[32m3\u001b[0m \u001b[32m4\u001b[0m \u001b[31m52\u001b[0m \u001b[31m50\u001b[0m \u001b[31m48\u001b[0m \n"
     ]
    }
   ],
   "source": [
    "pb = pbound(5)\n",
    "\n",
    "c = 0\n",
    "for y in crange(-pb,pb):\n",
    "    \n",
    "    c += 1\n",
    "    for s in crange(1,abs(y)):\n",
    "        printnlnG(s)\n",
    "    \n",
    "    n = c * 3\n",
    "    for x in crange(1,3):\n",
    "        n -= 1\n",
    "        printnlnR(n*2)\n",
    "        \n",
    "    println()"
   ]
  },
  {
   "cell_type": "markdown",
   "metadata": {},
   "source": [
    "# SOAL 8"
   ]
  },
  {
   "cell_type": "code",
   "execution_count": 44,
   "metadata": {},
   "outputs": [
    {
     "name": "stdout",
     "output_type": "stream",
     "text": [
      "\u001b[31m1\u001b[0m \u001b[32m_\u001b[0m \u001b[32m_\u001b[0m \u001b[32m_\u001b[0m \u001b[32m_\u001b[0m \u001b[32m_\u001b[0m \u001b[32m_\u001b[0m \u001b[32m_\u001b[0m \u001b[31m1\u001b[0m  \n",
      "\u001b[31m1\u001b[0m \u001b[31m2\u001b[0m \u001b[32m_\u001b[0m \u001b[32m_\u001b[0m \u001b[32m_\u001b[0m \u001b[32m_\u001b[0m \u001b[32m_\u001b[0m \u001b[31m2\u001b[0m \u001b[31m1\u001b[0m  \n",
      "\u001b[31m1\u001b[0m \u001b[31m2\u001b[0m \u001b[31m3\u001b[0m \u001b[32m_\u001b[0m \u001b[32m_\u001b[0m \u001b[32m_\u001b[0m \u001b[31m3\u001b[0m \u001b[31m2\u001b[0m \u001b[31m1\u001b[0m  \n",
      "\u001b[31m1\u001b[0m \u001b[31m2\u001b[0m \u001b[31m3\u001b[0m \u001b[31m4\u001b[0m \u001b[32m_\u001b[0m \u001b[31m4\u001b[0m \u001b[31m3\u001b[0m \u001b[31m2\u001b[0m \u001b[31m1\u001b[0m  \n",
      "\u001b[31m1\u001b[0m \u001b[31m2\u001b[0m \u001b[31m3\u001b[0m \u001b[31m4\u001b[0m \u001b[31m5\u001b[0m \u001b[31m4\u001b[0m \u001b[31m3\u001b[0m \u001b[31m2\u001b[0m \u001b[31m1\u001b[0m  \n",
      "\u001b[31m1\u001b[0m \u001b[31m2\u001b[0m \u001b[31m3\u001b[0m \u001b[31m4\u001b[0m \u001b[31m5\u001b[0m \u001b[31m4\u001b[0m \u001b[31m3\u001b[0m \u001b[31m2\u001b[0m \u001b[31m1\u001b[0m  \n",
      "\u001b[31m1\u001b[0m \u001b[31m2\u001b[0m \u001b[31m3\u001b[0m \u001b[31m4\u001b[0m \u001b[31m5\u001b[0m \u001b[31m4\u001b[0m \u001b[31m3\u001b[0m \u001b[31m2\u001b[0m \u001b[31m1\u001b[0m  \n"
     ]
    }
   ],
   "source": [
    "for y in crange(1,7):\n",
    "    for x in crange(-4,4):\n",
    "        c = 5 - abs(x)\n",
    "        if c >= y + 1 and y < 5:\n",
    "            printnlnG('_')\n",
    "        else:\n",
    "            printnlnR(c)\n",
    "    println(' ')"
   ]
  },
  {
   "cell_type": "code",
   "execution_count": 45,
   "metadata": {},
   "outputs": [
    {
     "name": "stdout",
     "output_type": "stream",
     "text": [
      "\u001b[32m1\u001b[0m \u001b[31m1\u001b[0m \u001b[32m_\u001b[0m \u001b[32m_\u001b[0m \u001b[32m_\u001b[0m \u001b[32m_\u001b[0m  \n",
      "\u001b[32m2\u001b[0m \u001b[31m1\u001b[0m \u001b[31m2\u001b[0m \u001b[32m_\u001b[0m \u001b[32m_\u001b[0m \u001b[32m_\u001b[0m  \n",
      "\u001b[32m3\u001b[0m \u001b[31m1\u001b[0m \u001b[31m2\u001b[0m \u001b[31m3\u001b[0m \u001b[32m_\u001b[0m \u001b[32m_\u001b[0m  \n",
      "\u001b[32m4\u001b[0m \u001b[31m1\u001b[0m \u001b[31m2\u001b[0m \u001b[31m3\u001b[0m \u001b[31m4\u001b[0m \u001b[32m_\u001b[0m  \n",
      "\u001b[32m5\u001b[0m \u001b[31m1\u001b[0m \u001b[31m2\u001b[0m \u001b[31m3\u001b[0m \u001b[31m4\u001b[0m \u001b[31m5\u001b[0m  \n",
      "\u001b[32m6\u001b[0m \u001b[31m1\u001b[0m \u001b[31m2\u001b[0m \u001b[31m3\u001b[0m \u001b[31m4\u001b[0m \u001b[31m5\u001b[0m  \n",
      "\u001b[32m7\u001b[0m \u001b[31m1\u001b[0m \u001b[31m2\u001b[0m \u001b[31m3\u001b[0m \u001b[31m4\u001b[0m \u001b[31m5\u001b[0m  \n"
     ]
    }
   ],
   "source": [
    "for y in crange(1,7):\n",
    "    printnlnG(y)\n",
    "    for x in crange(-4,4):\n",
    "        if x > 0: break\n",
    "            \n",
    "        c = 5 - abs(x)\n",
    "        if c > y and y < 5:\n",
    "            printnlnG('_')\n",
    "        else:\n",
    "            printnlnR(c)\n",
    "    println(' ')"
   ]
  },
  {
   "cell_type": "code",
   "execution_count": 54,
   "metadata": {},
   "outputs": [],
   "source": [
    "def sprint(v='  '):\n",
    "    printnlnG(v)\n",
    "def cprint(a):\n",
    "    printnlnR(str(a).zfill(2))"
   ]
  },
  {
   "cell_type": "code",
   "execution_count": 93,
   "metadata": {},
   "outputs": [
    {
     "name": "stdout",
     "output_type": "stream",
     "text": [
      "  \u001b[32m1\u001b[0m \u001b[32m2\u001b[0m \u001b[32m3\u001b[0m \u001b[32m4\u001b[0m \u001b[32m5\u001b[0m \n",
      "\u001b[32m1\u001b[0m \u001b[31m01\u001b[0m \u001b[32m  \u001b[0m \u001b[32m  \u001b[0m \u001b[32m  \u001b[0m \u001b[32m  \u001b[0m \u001b[32m  \u001b[0m \u001b[32m  \u001b[0m \u001b[32m  \u001b[0m \u001b[31m01\u001b[0m  \n",
      "\u001b[32m2\u001b[0m \u001b[31m01\u001b[0m \u001b[31m02\u001b[0m \u001b[32m  \u001b[0m \u001b[32m  \u001b[0m \u001b[32m  \u001b[0m \u001b[32m  \u001b[0m \u001b[32m  \u001b[0m \u001b[31m02\u001b[0m \u001b[31m01\u001b[0m  \n",
      "\u001b[32m3\u001b[0m \u001b[31m01\u001b[0m \u001b[31m02\u001b[0m \u001b[31m03\u001b[0m \u001b[32m  \u001b[0m \u001b[32m  \u001b[0m \u001b[32m  \u001b[0m \u001b[31m03\u001b[0m \u001b[31m02\u001b[0m \u001b[31m01\u001b[0m  \n",
      "\u001b[32m4\u001b[0m \u001b[32m  \u001b[0m \u001b[31m02\u001b[0m \u001b[31m03\u001b[0m \u001b[31m04\u001b[0m \u001b[32m  \u001b[0m \u001b[31m04\u001b[0m \u001b[31m03\u001b[0m \u001b[31m02\u001b[0m \u001b[32m  \u001b[0m  \n",
      "\u001b[32m5\u001b[0m \u001b[32m  \u001b[0m \u001b[32m  \u001b[0m \u001b[31m03\u001b[0m \u001b[31m04\u001b[0m \u001b[31m05\u001b[0m \u001b[31m04\u001b[0m \u001b[31m03\u001b[0m \u001b[32m  \u001b[0m \u001b[32m  \u001b[0m  \n",
      "\u001b[32m6\u001b[0m \u001b[32m  \u001b[0m \u001b[32m  \u001b[0m \u001b[32m  \u001b[0m \u001b[31m04\u001b[0m \u001b[31m05\u001b[0m \u001b[31m04\u001b[0m \u001b[32m  \u001b[0m \u001b[32m  \u001b[0m \u001b[32m  \u001b[0m  \n",
      "\u001b[32m7\u001b[0m \u001b[32m  \u001b[0m \u001b[32m  \u001b[0m \u001b[32m  \u001b[0m \u001b[32m  \u001b[0m \u001b[31m05\u001b[0m \u001b[32m  \u001b[0m \u001b[32m  \u001b[0m \u001b[32m  \u001b[0m \u001b[32m  \u001b[0m  \n"
     ]
    }
   ],
   "source": [
    "printnln('  ')\n",
    "for r in crange(-4,0):\n",
    "    printnlnG(5-abs(r))\n",
    "println()\n",
    "for y in crange(1,7):\n",
    "    printnlnG(y)\n",
    "    for x in crange(-4,4):\n",
    "#         if x > 0: break\n",
    "            \n",
    "        c = 5 - abs(x)\n",
    "        if c > y and y < 5 or y > 3 and c * y < y * (y-2) :\n",
    "            sprint('  ')\n",
    "        else:\n",
    "            cprint((c*1))\n",
    "    println(' ')"
   ]
  },
  {
   "cell_type": "code",
   "execution_count": 47,
   "metadata": {},
   "outputs": [
    {
     "name": "stdout",
     "output_type": "stream",
     "text": [
      "\u001b[31m0\u001b[0m \u001b[31m1\u001b[0m \u001b[31m2\u001b[0m \u001b[31m3\u001b[0m \u001b[31m4\u001b[0m \u001b[31m1\u001b[0m \u001b[31m2\u001b[0m \u001b[31m3\u001b[0m \u001b[31m4\u001b[0m \n",
      "\u001b[31m0\u001b[0m \u001b[31m1\u001b[0m \u001b[31m2\u001b[0m \u001b[31m3\u001b[0m \u001b[31m4\u001b[0m \u001b[31m1\u001b[0m \u001b[31m2\u001b[0m \u001b[31m3\u001b[0m \u001b[31m4\u001b[0m \n",
      "\u001b[31m0\u001b[0m \u001b[31m1\u001b[0m \u001b[31m2\u001b[0m \u001b[31m3\u001b[0m \u001b[31m4\u001b[0m \u001b[31m1\u001b[0m \u001b[31m2\u001b[0m \u001b[31m3\u001b[0m \u001b[31m4\u001b[0m \n",
      "\u001b[31m0\u001b[0m \u001b[31m1\u001b[0m \u001b[31m2\u001b[0m \u001b[31m3\u001b[0m \u001b[31m4\u001b[0m \u001b[31m1\u001b[0m \u001b[31m2\u001b[0m \u001b[31m3\u001b[0m \u001b[31m4\u001b[0m \n",
      "\u001b[31m0\u001b[0m \u001b[31m1\u001b[0m \u001b[31m2\u001b[0m \u001b[31m3\u001b[0m \u001b[31m4\u001b[0m \u001b[31m1\u001b[0m \u001b[31m2\u001b[0m \u001b[31m3\u001b[0m \u001b[31m4\u001b[0m \n",
      "\u001b[31m0\u001b[0m \u001b[31m1\u001b[0m \u001b[31m2\u001b[0m \u001b[31m3\u001b[0m \u001b[31m4\u001b[0m \u001b[31m1\u001b[0m \u001b[31m2\u001b[0m \u001b[31m3\u001b[0m \u001b[31m4\u001b[0m \n",
      "\u001b[31m0\u001b[0m \u001b[31m1\u001b[0m \u001b[31m2\u001b[0m \u001b[31m3\u001b[0m \u001b[31m4\u001b[0m \u001b[31m1\u001b[0m \u001b[31m2\u001b[0m \u001b[31m3\u001b[0m \u001b[31m4\u001b[0m \n"
     ]
    }
   ],
   "source": [
    "for y in range(7):\n",
    "    for h in range(2):\n",
    "        a = 0 if h == 0 else 1\n",
    "        for x in crange(a, 4):\n",
    "            printnlnR(x)\n",
    "    println()"
   ]
  },
  {
   "cell_type": "code",
   "execution_count": 94,
   "metadata": {},
   "outputs": [
    {
     "name": "stdout",
     "output_type": "stream",
     "text": [
      "\u001b[31m4\u001b[0m \u001b[31m3\u001b[0m \u001b[31m2\u001b[0m \u001b[31m1\u001b[0m \u001b[31m0\u001b[0m \u001b[31m1\u001b[0m \u001b[31m2\u001b[0m \u001b[31m3\u001b[0m \u001b[31m4\u001b[0m \n",
      "\u001b[31m4\u001b[0m \u001b[31m3\u001b[0m \u001b[31m2\u001b[0m \u001b[31m1\u001b[0m \u001b[31m0\u001b[0m \u001b[31m1\u001b[0m \u001b[31m2\u001b[0m \u001b[31m3\u001b[0m \u001b[31m4\u001b[0m \n",
      "\u001b[31m4\u001b[0m \u001b[31m3\u001b[0m \u001b[31m2\u001b[0m \u001b[31m1\u001b[0m \u001b[31m0\u001b[0m \u001b[31m1\u001b[0m \u001b[31m2\u001b[0m \u001b[31m3\u001b[0m \u001b[31m4\u001b[0m \n",
      "\u001b[31m \u001b[0m \u001b[31m3\u001b[0m \u001b[31m2\u001b[0m \u001b[31m1\u001b[0m \u001b[31m0\u001b[0m \u001b[31m1\u001b[0m \u001b[31m2\u001b[0m \u001b[31m3\u001b[0m \n",
      "\u001b[31m \u001b[0m \u001b[31m \u001b[0m \u001b[31m2\u001b[0m \u001b[31m1\u001b[0m \u001b[31m0\u001b[0m \u001b[31m1\u001b[0m \u001b[31m2\u001b[0m \n",
      "\u001b[31m \u001b[0m \u001b[31m \u001b[0m \u001b[31m \u001b[0m \u001b[31m1\u001b[0m \u001b[31m0\u001b[0m \u001b[31m1\u001b[0m \n",
      "\u001b[31m \u001b[0m \u001b[31m \u001b[0m \u001b[31m \u001b[0m \u001b[31m \u001b[0m \u001b[31m0\u001b[0m \n"
     ]
    }
   ],
   "source": [
    "for y in crange(0,6):\n",
    "    if y >=3:\n",
    "        for s in crange(0,y-3):\n",
    "            printnlnR(' ')\n",
    "    \n",
    "    b = 4 if y < 3 else 4-(y-2)\n",
    "    for x in crange(-b,b):\n",
    "        printnlnR(abs(x))\n",
    "    println()"
   ]
  },
  {
   "cell_type": "markdown",
   "metadata": {},
   "source": [
    "# SOAL 9"
   ]
  },
  {
   "cell_type": "markdown",
   "metadata": {},
   "source": [
    "# SOAL 10"
   ]
  },
  {
   "cell_type": "code",
   "execution_count": 72,
   "metadata": {},
   "outputs": [
    {
     "name": "stdout",
     "output_type": "stream",
     "text": [
      "\u001b[31mA\u001b[0m \u001b[31m_\u001b[0m \u001b[31m_\u001b[0m \u001b[31m_\u001b[0m \u001b[31m_\u001b[0m \u001b[31m_\u001b[0m \u001b[31m_\u001b[0m \u001b[31m_\u001b[0m \u001b[31m_\u001b[0m \u001b[31m_\u001b[0m \u001b[31m_\u001b[0m \u001b[31m_\u001b[0m \u001b[31mA\u001b[0m \n",
      "\u001b[31m_\u001b[0m \u001b[31mB\u001b[0m \u001b[31m_\u001b[0m \u001b[31m_\u001b[0m \u001b[31m_\u001b[0m \u001b[31m_\u001b[0m \u001b[31m_\u001b[0m \u001b[31m_\u001b[0m \u001b[31m_\u001b[0m \u001b[31m_\u001b[0m \u001b[31m_\u001b[0m \u001b[31mB\u001b[0m \u001b[31m_\u001b[0m \n",
      "\u001b[31m_\u001b[0m \u001b[31m_\u001b[0m \u001b[31mC\u001b[0m \u001b[31m_\u001b[0m \u001b[31m_\u001b[0m \u001b[31m_\u001b[0m \u001b[31m_\u001b[0m \u001b[31m_\u001b[0m \u001b[31m_\u001b[0m \u001b[31m_\u001b[0m \u001b[31mC\u001b[0m \u001b[31m_\u001b[0m \u001b[31m_\u001b[0m \n",
      "\u001b[31m_\u001b[0m \u001b[31m_\u001b[0m \u001b[31m_\u001b[0m \u001b[31mD\u001b[0m \u001b[31m_\u001b[0m \u001b[31m_\u001b[0m \u001b[31m_\u001b[0m \u001b[31m_\u001b[0m \u001b[31m_\u001b[0m \u001b[31mD\u001b[0m \u001b[31m_\u001b[0m \u001b[31m_\u001b[0m \u001b[31m_\u001b[0m \n",
      "\u001b[31m_\u001b[0m \u001b[31m_\u001b[0m \u001b[31m_\u001b[0m \u001b[31m_\u001b[0m \u001b[31mE\u001b[0m \u001b[31m_\u001b[0m \u001b[31m_\u001b[0m \u001b[31m_\u001b[0m \u001b[31mE\u001b[0m \u001b[31m_\u001b[0m \u001b[31m_\u001b[0m \u001b[31m_\u001b[0m \u001b[31m_\u001b[0m \n",
      "\u001b[31m_\u001b[0m \u001b[31m_\u001b[0m \u001b[31m_\u001b[0m \u001b[31m_\u001b[0m \u001b[31m_\u001b[0m \u001b[31mF\u001b[0m \u001b[31m_\u001b[0m \u001b[31mF\u001b[0m \u001b[31m_\u001b[0m \u001b[31m_\u001b[0m \u001b[31m_\u001b[0m \u001b[31m_\u001b[0m \u001b[31m_\u001b[0m \n",
      "\u001b[31m_\u001b[0m \u001b[31m_\u001b[0m \u001b[31m_\u001b[0m \u001b[31m_\u001b[0m \u001b[31m_\u001b[0m \u001b[31m_\u001b[0m \u001b[31mG\u001b[0m \u001b[31m_\u001b[0m \u001b[31m_\u001b[0m \u001b[31m_\u001b[0m \u001b[31m_\u001b[0m \u001b[31m_\u001b[0m \u001b[31m_\u001b[0m \n"
     ]
    }
   ],
   "source": [
    "import string\n",
    "alph = string.ascii_uppercase\n",
    "\n",
    "for y in crange(0,6):\n",
    "    for x in crange(-6,6):\n",
    "        if y == 6-abs(x):\n",
    "            i = 6-abs(x)\n",
    "            printnlnR(alph[i])\n",
    "        else:\n",
    "            printnlnR('_')\n",
    "    println()"
   ]
  },
  {
   "cell_type": "code",
   "execution_count": null,
   "metadata": {},
   "outputs": [],
   "source": []
  }
 ],
 "metadata": {
  "kernelspec": {
   "display_name": "Python 3",
   "language": "python",
   "name": "python3"
  },
  "language_info": {
   "codemirror_mode": {
    "name": "ipython",
    "version": 3
   },
   "file_extension": ".py",
   "mimetype": "text/x-python",
   "name": "python",
   "nbconvert_exporter": "python",
   "pygments_lexer": "ipython3",
   "version": "3.6.4"
  }
 },
 "nbformat": 4,
 "nbformat_minor": 2
}
