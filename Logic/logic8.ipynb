{
 "cells": [
  {
   "cell_type": "code",
   "execution_count": 1,
   "metadata": {},
   "outputs": [],
   "source": [
    "from my_custom_functions import *"
   ]
  },
  {
   "cell_type": "markdown",
   "metadata": {},
   "source": [
    "![](http://fs5.directupload.net/images/180503/hzn782lb.jpg)"
   ]
  },
  {
   "cell_type": "markdown",
   "metadata": {},
   "source": [
    "# LOGIC 8\n",
    "# SOAL 1"
   ]
  },
  {
   "cell_type": "code",
   "execution_count": 2,
   "metadata": {},
   "outputs": [
    {
     "name": "stdout",
     "output_type": "stream",
     "text": [
      "\u001b[31m \u001b[0m \u001b[31m \u001b[0m \u001b[31m \u001b[0m \u001b[32m1\u001b[0m \n",
      "\u001b[31m \u001b[0m \u001b[31m \u001b[0m \u001b[32m1\u001b[0m \u001b[31m1\u001b[0m \n",
      "\u001b[31m \u001b[0m \u001b[32m1\u001b[0m \u001b[34m*\u001b[0m \u001b[31m2\u001b[0m \n",
      "\u001b[32m1\u001b[0m \u001b[34m*\u001b[0m \u001b[34m*\u001b[0m \u001b[31m3\u001b[0m \n",
      "\u001b[31m \u001b[0m \u001b[32m1\u001b[0m \u001b[34m*\u001b[0m \u001b[31m2\u001b[0m \n",
      "\u001b[31m \u001b[0m \u001b[31m \u001b[0m \u001b[32m1\u001b[0m \u001b[31m1\u001b[0m \n",
      "\u001b[31m \u001b[0m \u001b[31m \u001b[0m \u001b[31m \u001b[0m \u001b[32m1\u001b[0m \n",
      "\u001b[31m \u001b[0m \u001b[31m \u001b[0m \u001b[32m1\u001b[0m \u001b[31m1\u001b[0m \n",
      "\u001b[31m \u001b[0m \u001b[32m1\u001b[0m \u001b[34m*\u001b[0m \u001b[31m2\u001b[0m \n",
      "\u001b[32m1\u001b[0m \u001b[34m*\u001b[0m \u001b[34m*\u001b[0m \u001b[31m3\u001b[0m \n",
      "\u001b[31m \u001b[0m \u001b[32m1\u001b[0m \u001b[34m*\u001b[0m \u001b[31m2\u001b[0m \n",
      "\u001b[31m \u001b[0m \u001b[31m \u001b[0m \u001b[32m1\u001b[0m \u001b[31m1\u001b[0m \n",
      "\u001b[31m \u001b[0m \u001b[31m \u001b[0m \u001b[31m \u001b[0m \u001b[32m1\u001b[0m \n"
     ]
    }
   ],
   "source": [
    "for v in crange(1,2):\n",
    "    for y in crange(-3,3):\n",
    "        if y == -3 and v == 2:\n",
    "            continue\n",
    "            \n",
    "        for s in crange(1,abs(y)):\n",
    "            printnlnR(' ')\n",
    "        for x in crange(1,4-abs(y)):\n",
    "            if x == 1:\n",
    "                printnlnG(1)\n",
    "            elif x == 4 - abs(y):\n",
    "                printnlnR(fib(x))\n",
    "            else:\n",
    "                printnlnB('*')\n",
    "        println()"
   ]
  },
  {
   "cell_type": "markdown",
   "metadata": {},
   "source": [
    "# SOAL 2"
   ]
  },
  {
   "cell_type": "code",
   "execution_count": 3,
   "metadata": {},
   "outputs": [
    {
     "name": "stdout",
     "output_type": "stream",
     "text": [
      "\u001b[32m1\u001b[0m \n",
      "\u001b[31m1\u001b[0m \u001b[32m1\u001b[0m \n",
      "\u001b[31m2\u001b[0m \u001b[34m*\u001b[0m \u001b[32m1\u001b[0m \n",
      "\u001b[31m3\u001b[0m \u001b[34m*\u001b[0m \u001b[34m*\u001b[0m \u001b[32m1\u001b[0m \n",
      "\u001b[31m2\u001b[0m \u001b[34m*\u001b[0m \u001b[32m1\u001b[0m \n",
      "\u001b[31m1\u001b[0m \u001b[32m1\u001b[0m \n",
      "\u001b[32m1\u001b[0m \n",
      "\u001b[31m1\u001b[0m \u001b[32m1\u001b[0m \n",
      "\u001b[31m2\u001b[0m \u001b[34m*\u001b[0m \u001b[32m1\u001b[0m \n",
      "\u001b[31m3\u001b[0m \u001b[34m*\u001b[0m \u001b[34m*\u001b[0m \u001b[32m1\u001b[0m \n",
      "\u001b[31m2\u001b[0m \u001b[34m*\u001b[0m \u001b[32m1\u001b[0m \n",
      "\u001b[31m1\u001b[0m \u001b[32m1\u001b[0m \n",
      "\u001b[32m1\u001b[0m \n"
     ]
    }
   ],
   "source": [
    "for v in crange(1,2):\n",
    "    for y in crange(-3,3):\n",
    "        if y == -3 and v == 2:\n",
    "            continue\n",
    "            \n",
    "        for x in reversed(crange(1,4-abs(y))):\n",
    "            if x == 1:\n",
    "                printnlnG(1)\n",
    "            elif x == 4 - abs(y):\n",
    "                printnlnR(fib(x))\n",
    "            else:\n",
    "                printnlnB('*')\n",
    "        println()"
   ]
  },
  {
   "cell_type": "markdown",
   "metadata": {},
   "source": [
    "# SOAL 3"
   ]
  },
  {
   "cell_type": "code",
   "execution_count": 4,
   "metadata": {},
   "outputs": [
    {
     "name": "stdout",
     "output_type": "stream",
     "text": [
      "\u001b[34m3\u001b[0m \u001b[32m \u001b[0m \u001b[32m \u001b[0m \u001b[32m \u001b[0m \u001b[31m1\u001b[0m \u001b[31m \u001b[0m \u001b[31m \u001b[0m \u001b[31m \u001b[0m \n",
      "\u001b[34m2\u001b[0m \u001b[32m \u001b[0m \u001b[32m \u001b[0m \u001b[31m1\u001b[0m \u001b[34m1\u001b[0m \u001b[31m1\u001b[0m \u001b[31m \u001b[0m \u001b[31m \u001b[0m \n",
      "\u001b[34m1\u001b[0m \u001b[32m \u001b[0m \u001b[31m1\u001b[0m \u001b[31m*\u001b[0m \u001b[34m2\u001b[0m \u001b[31m*\u001b[0m \u001b[31m1\u001b[0m \u001b[31m \u001b[0m \n",
      "\u001b[34m0\u001b[0m \u001b[31m1\u001b[0m \u001b[31m*\u001b[0m \u001b[31m*\u001b[0m \u001b[34m3\u001b[0m \u001b[31m*\u001b[0m \u001b[31m*\u001b[0m \u001b[31m1\u001b[0m \n",
      "\u001b[34m1\u001b[0m \u001b[32m \u001b[0m \u001b[31m1\u001b[0m \u001b[31m*\u001b[0m \u001b[34m2\u001b[0m \u001b[31m*\u001b[0m \u001b[31m1\u001b[0m \u001b[31m \u001b[0m \n",
      "\u001b[34m2\u001b[0m \u001b[32m \u001b[0m \u001b[32m \u001b[0m \u001b[31m1\u001b[0m \u001b[34m1\u001b[0m \u001b[31m1\u001b[0m \u001b[31m \u001b[0m \u001b[31m \u001b[0m \n",
      "\u001b[34m3\u001b[0m \u001b[32m \u001b[0m \u001b[32m \u001b[0m \u001b[32m \u001b[0m \u001b[31m1\u001b[0m \u001b[31m \u001b[0m \u001b[31m \u001b[0m \u001b[31m \u001b[0m \n",
      "\u001b[34m2\u001b[0m \u001b[32m \u001b[0m \u001b[32m \u001b[0m \u001b[31m1\u001b[0m \u001b[34m1\u001b[0m \u001b[31m1\u001b[0m \u001b[31m \u001b[0m \u001b[31m \u001b[0m \n",
      "\u001b[34m1\u001b[0m \u001b[32m \u001b[0m \u001b[31m1\u001b[0m \u001b[31m*\u001b[0m \u001b[34m2\u001b[0m \u001b[31m*\u001b[0m \u001b[31m1\u001b[0m \u001b[31m \u001b[0m \n",
      "\u001b[34m0\u001b[0m \u001b[31m1\u001b[0m \u001b[31m*\u001b[0m \u001b[31m*\u001b[0m \u001b[34m3\u001b[0m \u001b[31m*\u001b[0m \u001b[31m*\u001b[0m \u001b[31m1\u001b[0m \n",
      "\u001b[34m1\u001b[0m \u001b[32m \u001b[0m \u001b[31m1\u001b[0m \u001b[31m*\u001b[0m \u001b[34m2\u001b[0m \u001b[31m*\u001b[0m \u001b[31m1\u001b[0m \u001b[31m \u001b[0m \n",
      "\u001b[34m2\u001b[0m \u001b[32m \u001b[0m \u001b[32m \u001b[0m \u001b[31m1\u001b[0m \u001b[34m1\u001b[0m \u001b[31m1\u001b[0m \u001b[31m \u001b[0m \u001b[31m \u001b[0m \n",
      "\u001b[34m3\u001b[0m \u001b[32m \u001b[0m \u001b[32m \u001b[0m \u001b[32m \u001b[0m \u001b[31m1\u001b[0m \u001b[31m \u001b[0m \u001b[31m \u001b[0m \u001b[31m \u001b[0m \n"
     ]
    }
   ],
   "source": [
    "for v in crange(1,2):\n",
    "    for y in crange(-3,3):\n",
    "        if y == -3 and v == 2:\n",
    "            continue\n",
    "        printnlnB(abs(y))\n",
    "        \n",
    "        for s in crange(1,abs(y)):\n",
    "            printnlnG(' ')\n",
    "        xpb = 3-abs(y)\n",
    "        for x in crange(-xpb,xpb):\n",
    "            if xpb-abs(x) == 0:\n",
    "                printnlnR('1')\n",
    "            elif abs(x) == 0:\n",
    "                printnlnB(fib(4-abs(y)))\n",
    "            else:\n",
    "                printnlnR('*')\n",
    "        for s in crange(1,abs(y)):\n",
    "            printnlnR(' ')\n",
    "        println()"
   ]
  },
  {
   "cell_type": "markdown",
   "metadata": {},
   "source": [
    "# SOAL 4"
   ]
  },
  {
   "cell_type": "code",
   "execution_count": 5,
   "metadata": {},
   "outputs": [
    {
     "name": "stdout",
     "output_type": "stream",
     "text": [
      "\u001b[34m3\u001b[0m \u001b[32m \u001b[0m \u001b[32m \u001b[0m \u001b[32m \u001b[0m \u001b[31m1\u001b[0m \u001b[31m \u001b[0m \u001b[31m \u001b[0m \u001b[31m \u001b[0m \u001b[32m \u001b[0m \u001b[32m \u001b[0m \u001b[31m1\u001b[0m \u001b[31m \u001b[0m \u001b[31m \u001b[0m \n",
      "\u001b[34m2\u001b[0m \u001b[32m \u001b[0m \u001b[32m \u001b[0m \u001b[31m1\u001b[0m \u001b[31m \u001b[0m \u001b[31m1\u001b[0m \u001b[31m \u001b[0m \u001b[31m \u001b[0m \u001b[32m \u001b[0m \u001b[31m1\u001b[0m \u001b[31m \u001b[0m \u001b[31m1\u001b[0m \u001b[31m \u001b[0m \n",
      "\u001b[34m1\u001b[0m \u001b[32m \u001b[0m \u001b[31m1\u001b[0m \u001b[31m \u001b[0m \u001b[31m \u001b[0m \u001b[31m \u001b[0m \u001b[31m1\u001b[0m \u001b[31m \u001b[0m \u001b[31m1\u001b[0m \u001b[31m \u001b[0m \u001b[31m \u001b[0m \u001b[31m \u001b[0m \u001b[31m1\u001b[0m \n",
      "\u001b[34m0\u001b[0m \u001b[31m1\u001b[0m \u001b[34m1\u001b[0m \u001b[34m2\u001b[0m \u001b[34m3\u001b[0m \u001b[34m2\u001b[0m \u001b[34m1\u001b[0m \u001b[31m1\u001b[0m \u001b[34m1\u001b[0m \u001b[34m2\u001b[0m \u001b[34m3\u001b[0m \u001b[34m2\u001b[0m \u001b[34m1\u001b[0m \u001b[31m1\u001b[0m \n",
      "\u001b[34m1\u001b[0m \u001b[32m \u001b[0m \u001b[31m1\u001b[0m \u001b[31m \u001b[0m \u001b[31m \u001b[0m \u001b[31m \u001b[0m \u001b[31m1\u001b[0m \u001b[31m \u001b[0m \u001b[31m1\u001b[0m \u001b[31m \u001b[0m \u001b[31m \u001b[0m \u001b[31m \u001b[0m \u001b[31m1\u001b[0m \n",
      "\u001b[34m2\u001b[0m \u001b[32m \u001b[0m \u001b[32m \u001b[0m \u001b[31m1\u001b[0m \u001b[31m \u001b[0m \u001b[31m1\u001b[0m \u001b[31m \u001b[0m \u001b[31m \u001b[0m \u001b[32m \u001b[0m \u001b[31m1\u001b[0m \u001b[31m \u001b[0m \u001b[31m1\u001b[0m \u001b[31m \u001b[0m \n",
      "\u001b[34m3\u001b[0m \u001b[32m \u001b[0m \u001b[32m \u001b[0m \u001b[32m \u001b[0m \u001b[31m1\u001b[0m \u001b[31m \u001b[0m \u001b[31m \u001b[0m \u001b[31m \u001b[0m \u001b[32m \u001b[0m \u001b[32m \u001b[0m \u001b[31m1\u001b[0m \u001b[31m \u001b[0m \u001b[31m \u001b[0m \n"
     ]
    }
   ],
   "source": [
    "    for y in crange(-3,3):\n",
    "        printnlnB(abs(y))\n",
    "        for v in crange(1,2):\n",
    "\n",
    "            for s in crange(1,abs(y)):\n",
    "                if s == 1 and v == 2:\n",
    "                    continue\n",
    "                printnlnG(' ')\n",
    "            xpb = 3-abs(y)\n",
    "            for x in crange(-xpb,xpb):\n",
    "                if x == -3 and v == 2:\n",
    "                    continue\n",
    "                if xpb-abs(x) == 0:\n",
    "                    printnlnR('1')\n",
    "                elif abs(y) == 0:\n",
    "                    printnlnB(fib(4-abs(x)))\n",
    "                else:\n",
    "                    printnlnR(' ')\n",
    "            for s in crange(1,abs(y)):\n",
    "                if s == 1 and v == 2:\n",
    "                    continue\n",
    "                printnlnR(' ')\n",
    "        println()"
   ]
  },
  {
   "cell_type": "markdown",
   "metadata": {},
   "source": [
    "# SOAL 5"
   ]
  },
  {
   "cell_type": "code",
   "execution_count": 6,
   "metadata": {},
   "outputs": [
    {
     "name": "stdout",
     "output_type": "stream",
     "text": [
      "\u001b[31m_\u001b[0m \u001b[31m_\u001b[0m \u001b[31m_\u001b[0m \u001b[31m_\u001b[0m \u001b[31m_\u001b[0m \u001b[31m_\u001b[0m \u001b[31mG\u001b[0m \u001b[31m_\u001b[0m \u001b[31m_\u001b[0m \u001b[31m_\u001b[0m \u001b[31m_\u001b[0m \u001b[31m_\u001b[0m \u001b[31m_\u001b[0m \n",
      "\u001b[31m_\u001b[0m \u001b[31m_\u001b[0m \u001b[31m_\u001b[0m \u001b[31m_\u001b[0m \u001b[31m_\u001b[0m \u001b[31mF\u001b[0m \u001b[31m_\u001b[0m \u001b[31mF\u001b[0m \u001b[31m_\u001b[0m \u001b[31m_\u001b[0m \u001b[31m_\u001b[0m \u001b[31m_\u001b[0m \u001b[31m_\u001b[0m \n",
      "\u001b[31m_\u001b[0m \u001b[31m_\u001b[0m \u001b[31m_\u001b[0m \u001b[31m_\u001b[0m \u001b[31mE\u001b[0m \u001b[31m_\u001b[0m \u001b[31m_\u001b[0m \u001b[31m_\u001b[0m \u001b[31mE\u001b[0m \u001b[31m_\u001b[0m \u001b[31m_\u001b[0m \u001b[31m_\u001b[0m \u001b[31m_\u001b[0m \n",
      "\u001b[31m_\u001b[0m \u001b[31m_\u001b[0m \u001b[31m_\u001b[0m \u001b[31mD\u001b[0m \u001b[31m_\u001b[0m \u001b[31m_\u001b[0m \u001b[31m_\u001b[0m \u001b[31m_\u001b[0m \u001b[31m_\u001b[0m \u001b[31mD\u001b[0m \u001b[31m_\u001b[0m \u001b[31m_\u001b[0m \u001b[31m_\u001b[0m \n",
      "\u001b[31m_\u001b[0m \u001b[31m_\u001b[0m \u001b[31mC\u001b[0m \u001b[31m_\u001b[0m \u001b[31m_\u001b[0m \u001b[31m_\u001b[0m \u001b[31m_\u001b[0m \u001b[31m_\u001b[0m \u001b[31m_\u001b[0m \u001b[31m_\u001b[0m \u001b[31mC\u001b[0m \u001b[31m_\u001b[0m \u001b[31m_\u001b[0m \n",
      "\u001b[31m_\u001b[0m \u001b[31mB\u001b[0m \u001b[31m_\u001b[0m \u001b[31m_\u001b[0m \u001b[31m_\u001b[0m \u001b[31m_\u001b[0m \u001b[31m_\u001b[0m \u001b[31m_\u001b[0m \u001b[31m_\u001b[0m \u001b[31m_\u001b[0m \u001b[31m_\u001b[0m \u001b[31mB\u001b[0m \u001b[31m_\u001b[0m \n",
      "\u001b[31mA\u001b[0m \u001b[31m_\u001b[0m \u001b[31m_\u001b[0m \u001b[31m_\u001b[0m \u001b[31m_\u001b[0m \u001b[31m_\u001b[0m \u001b[31m_\u001b[0m \u001b[31m_\u001b[0m \u001b[31m_\u001b[0m \u001b[31m_\u001b[0m \u001b[31m_\u001b[0m \u001b[31m_\u001b[0m \u001b[31mA\u001b[0m \n"
     ]
    }
   ],
   "source": [
    "import string\n",
    "alph = string.ascii_uppercase\n",
    "\n",
    "for y in crange(0,6):\n",
    "    for x in crange(-6,6):\n",
    "        if y == abs(x):\n",
    "            i = 6-abs(x)\n",
    "            printnlnR(alph[i])\n",
    "        else:\n",
    "            printnlnR('_')\n",
    "    println()"
   ]
  },
  {
   "cell_type": "markdown",
   "metadata": {},
   "source": [
    "# SOAL 6"
   ]
  },
  {
   "cell_type": "code",
   "execution_count": 7,
   "metadata": {},
   "outputs": [
    {
     "name": "stdout",
     "output_type": "stream",
     "text": [
      "\u001b[31m1\u001b[0m \u001b[31m3\u001b[0m \u001b[31m5\u001b[0m \n",
      "\u001b[32m1\u001b[0m \u001b[31m7\u001b[0m \u001b[31m9\u001b[0m \u001b[31m11\u001b[0m \n",
      "\u001b[32m1\u001b[0m \u001b[32m2\u001b[0m \u001b[31m13\u001b[0m \u001b[31m15\u001b[0m \u001b[31m17\u001b[0m \n",
      "\u001b[32m1\u001b[0m \u001b[32m2\u001b[0m \u001b[32m3\u001b[0m \u001b[31m19\u001b[0m \u001b[31m21\u001b[0m \u001b[31m23\u001b[0m \n",
      "\u001b[32m1\u001b[0m \u001b[32m2\u001b[0m \u001b[32m3\u001b[0m \u001b[32m4\u001b[0m \u001b[31m25\u001b[0m \u001b[31m27\u001b[0m \u001b[31m29\u001b[0m \n",
      "\u001b[32m1\u001b[0m \u001b[32m2\u001b[0m \u001b[32m3\u001b[0m \u001b[31m31\u001b[0m \u001b[31m33\u001b[0m \u001b[31m35\u001b[0m \n",
      "\u001b[32m1\u001b[0m \u001b[32m2\u001b[0m \u001b[31m37\u001b[0m \u001b[31m39\u001b[0m \u001b[31m41\u001b[0m \n",
      "\u001b[32m1\u001b[0m \u001b[31m43\u001b[0m \u001b[31m45\u001b[0m \u001b[31m47\u001b[0m \n",
      "\u001b[31m49\u001b[0m \u001b[31m51\u001b[0m \u001b[31m53\u001b[0m \n"
     ]
    }
   ],
   "source": [
    "pb = pbound(5)\n",
    "\n",
    "n = 0\n",
    "for y in crange(-pb,pb):\n",
    "    \n",
    "    for s in crange(1,4-abs(y)):\n",
    "        printnlnG(s)\n",
    "            \n",
    "    for x in crange(1,3):\n",
    "        n += 1\n",
    "        printnlnR(n*2-1)\n",
    "        \n",
    "    println()"
   ]
  },
  {
   "cell_type": "markdown",
   "metadata": {},
   "source": [
    "# SOAL 7"
   ]
  },
  {
   "cell_type": "code",
   "execution_count": 8,
   "metadata": {},
   "outputs": [
    {
     "name": "stdout",
     "output_type": "stream",
     "text": [
      "\u001b[32m1\u001b[0m \u001b[32m2\u001b[0m \u001b[32m3\u001b[0m \u001b[32m4\u001b[0m \u001b[31m4\u001b[0m \u001b[31m2\u001b[0m \u001b[31m0\u001b[0m \n",
      "\u001b[32m1\u001b[0m \u001b[32m2\u001b[0m \u001b[32m3\u001b[0m \u001b[31m10\u001b[0m \u001b[31m8\u001b[0m \u001b[31m6\u001b[0m \n",
      "\u001b[32m1\u001b[0m \u001b[32m2\u001b[0m \u001b[31m16\u001b[0m \u001b[31m14\u001b[0m \u001b[31m12\u001b[0m \n",
      "\u001b[32m1\u001b[0m \u001b[31m22\u001b[0m \u001b[31m20\u001b[0m \u001b[31m18\u001b[0m \n",
      "\u001b[31m28\u001b[0m \u001b[31m26\u001b[0m \u001b[31m24\u001b[0m \n",
      "\u001b[32m1\u001b[0m \u001b[31m34\u001b[0m \u001b[31m32\u001b[0m \u001b[31m30\u001b[0m \n",
      "\u001b[32m1\u001b[0m \u001b[32m2\u001b[0m \u001b[31m40\u001b[0m \u001b[31m38\u001b[0m \u001b[31m36\u001b[0m \n",
      "\u001b[32m1\u001b[0m \u001b[32m2\u001b[0m \u001b[32m3\u001b[0m \u001b[31m46\u001b[0m \u001b[31m44\u001b[0m \u001b[31m42\u001b[0m \n",
      "\u001b[32m1\u001b[0m \u001b[32m2\u001b[0m \u001b[32m3\u001b[0m \u001b[32m4\u001b[0m \u001b[31m52\u001b[0m \u001b[31m50\u001b[0m \u001b[31m48\u001b[0m \n"
     ]
    }
   ],
   "source": [
    "pb = pbound(5)\n",
    "\n",
    "c = 0\n",
    "for y in crange(-pb,pb):\n",
    "    \n",
    "    c += 1\n",
    "    for s in crange(1,abs(y)):\n",
    "        printnlnG(s)\n",
    "    \n",
    "    n = c * 3\n",
    "    for x in crange(1,3):\n",
    "        n -= 1\n",
    "        printnlnR(n*2)\n",
    "        \n",
    "    println()"
   ]
  },
  {
   "cell_type": "markdown",
   "metadata": {},
   "source": [
    "# SOAL 8"
   ]
  },
  {
   "cell_type": "code",
   "execution_count": 9,
   "metadata": {},
   "outputs": [
    {
     "name": "stdout",
     "output_type": "stream",
     "text": [
      "\u001b[31m1\u001b[0m \u001b[32m_\u001b[0m \u001b[32m_\u001b[0m \u001b[32m_\u001b[0m \u001b[32m_\u001b[0m \u001b[32m_\u001b[0m \u001b[32m_\u001b[0m \u001b[32m_\u001b[0m \u001b[31m1\u001b[0m  \n",
      "\u001b[31m1\u001b[0m \u001b[31m2\u001b[0m \u001b[32m_\u001b[0m \u001b[32m_\u001b[0m \u001b[32m_\u001b[0m \u001b[32m_\u001b[0m \u001b[32m_\u001b[0m \u001b[31m2\u001b[0m \u001b[31m1\u001b[0m  \n",
      "\u001b[31m1\u001b[0m \u001b[31m2\u001b[0m \u001b[31m3\u001b[0m \u001b[32m_\u001b[0m \u001b[32m_\u001b[0m \u001b[32m_\u001b[0m \u001b[31m3\u001b[0m \u001b[31m2\u001b[0m \u001b[31m1\u001b[0m  \n",
      "\u001b[31m1\u001b[0m \u001b[31m2\u001b[0m \u001b[31m3\u001b[0m \u001b[31m4\u001b[0m \u001b[32m_\u001b[0m \u001b[31m4\u001b[0m \u001b[31m3\u001b[0m \u001b[31m2\u001b[0m \u001b[31m1\u001b[0m  \n",
      "\u001b[31m1\u001b[0m \u001b[31m2\u001b[0m \u001b[31m3\u001b[0m \u001b[31m4\u001b[0m \u001b[31m5\u001b[0m \u001b[31m4\u001b[0m \u001b[31m3\u001b[0m \u001b[31m2\u001b[0m \u001b[31m1\u001b[0m  \n",
      "\u001b[31m1\u001b[0m \u001b[31m2\u001b[0m \u001b[31m3\u001b[0m \u001b[31m4\u001b[0m \u001b[31m5\u001b[0m \u001b[31m4\u001b[0m \u001b[31m3\u001b[0m \u001b[31m2\u001b[0m \u001b[31m1\u001b[0m  \n",
      "\u001b[31m1\u001b[0m \u001b[31m2\u001b[0m \u001b[31m3\u001b[0m \u001b[31m4\u001b[0m \u001b[31m5\u001b[0m \u001b[31m4\u001b[0m \u001b[31m3\u001b[0m \u001b[31m2\u001b[0m \u001b[31m1\u001b[0m  \n"
     ]
    }
   ],
   "source": [
    "for y in crange(1,7):\n",
    "    for x in crange(-4,4):\n",
    "        c = 5 - abs(x)\n",
    "        if c >= y + 1 and y < 5:\n",
    "            printnlnG('_')\n",
    "        else:\n",
    "            printnlnR(c)\n",
    "    println(' ')"
   ]
  },
  {
   "cell_type": "code",
   "execution_count": 10,
   "metadata": {},
   "outputs": [
    {
     "name": "stdout",
     "output_type": "stream",
     "text": [
      "\u001b[32m1\u001b[0m \u001b[31m1\u001b[0m \u001b[32m_\u001b[0m \u001b[32m_\u001b[0m \u001b[32m_\u001b[0m \u001b[32m_\u001b[0m  \n",
      "\u001b[32m2\u001b[0m \u001b[31m1\u001b[0m \u001b[31m2\u001b[0m \u001b[32m_\u001b[0m \u001b[32m_\u001b[0m \u001b[32m_\u001b[0m  \n",
      "\u001b[32m3\u001b[0m \u001b[31m1\u001b[0m \u001b[31m2\u001b[0m \u001b[31m3\u001b[0m \u001b[32m_\u001b[0m \u001b[32m_\u001b[0m  \n",
      "\u001b[32m4\u001b[0m \u001b[31m1\u001b[0m \u001b[31m2\u001b[0m \u001b[31m3\u001b[0m \u001b[31m4\u001b[0m \u001b[32m_\u001b[0m  \n",
      "\u001b[32m5\u001b[0m \u001b[31m1\u001b[0m \u001b[31m2\u001b[0m \u001b[31m3\u001b[0m \u001b[31m4\u001b[0m \u001b[31m5\u001b[0m  \n",
      "\u001b[32m6\u001b[0m \u001b[31m1\u001b[0m \u001b[31m2\u001b[0m \u001b[31m3\u001b[0m \u001b[31m4\u001b[0m \u001b[31m5\u001b[0m  \n",
      "\u001b[32m7\u001b[0m \u001b[31m1\u001b[0m \u001b[31m2\u001b[0m \u001b[31m3\u001b[0m \u001b[31m4\u001b[0m \u001b[31m5\u001b[0m  \n"
     ]
    }
   ],
   "source": [
    "for y in crange(1,7):\n",
    "    printnlnG(y)\n",
    "    for x in crange(-4,4):\n",
    "        if x > 0: break\n",
    "            \n",
    "        c = 5 - abs(x)\n",
    "        if c > y and y < 5:\n",
    "            printnlnG('_')\n",
    "        else:\n",
    "            printnlnR(c)\n",
    "    println(' ')"
   ]
  },
  {
   "cell_type": "code",
   "execution_count": 11,
   "metadata": {},
   "outputs": [],
   "source": [
    "def sprint(v='  '):\n",
    "    printnlnG(v)\n",
    "def cprint(a):\n",
    "    printnlnR(str(a).zfill(2))"
   ]
  },
  {
   "cell_type": "code",
   "execution_count": 12,
   "metadata": {},
   "outputs": [
    {
     "name": "stdout",
     "output_type": "stream",
     "text": [
      "  \u001b[32m1\u001b[0m \u001b[32m2\u001b[0m \u001b[32m3\u001b[0m \u001b[32m4\u001b[0m \u001b[32m5\u001b[0m \n",
      "\u001b[32m1\u001b[0m \u001b[31m01\u001b[0m \u001b[32m  \u001b[0m \u001b[32m  \u001b[0m \u001b[32m  \u001b[0m \u001b[32m  \u001b[0m \u001b[32m  \u001b[0m \u001b[32m  \u001b[0m \u001b[32m  \u001b[0m \u001b[31m01\u001b[0m  \n",
      "\u001b[32m2\u001b[0m \u001b[31m01\u001b[0m \u001b[31m02\u001b[0m \u001b[32m  \u001b[0m \u001b[32m  \u001b[0m \u001b[32m  \u001b[0m \u001b[32m  \u001b[0m \u001b[32m  \u001b[0m \u001b[31m02\u001b[0m \u001b[31m01\u001b[0m  \n",
      "\u001b[32m3\u001b[0m \u001b[31m01\u001b[0m \u001b[31m02\u001b[0m \u001b[31m03\u001b[0m \u001b[32m  \u001b[0m \u001b[32m  \u001b[0m \u001b[32m  \u001b[0m \u001b[31m03\u001b[0m \u001b[31m02\u001b[0m \u001b[31m01\u001b[0m  \n",
      "\u001b[32m4\u001b[0m \u001b[32m  \u001b[0m \u001b[31m02\u001b[0m \u001b[31m03\u001b[0m \u001b[31m04\u001b[0m \u001b[32m  \u001b[0m \u001b[31m04\u001b[0m \u001b[31m03\u001b[0m \u001b[31m02\u001b[0m \u001b[32m  \u001b[0m  \n",
      "\u001b[32m5\u001b[0m \u001b[32m  \u001b[0m \u001b[32m  \u001b[0m \u001b[31m03\u001b[0m \u001b[31m04\u001b[0m \u001b[31m05\u001b[0m \u001b[31m04\u001b[0m \u001b[31m03\u001b[0m \u001b[32m  \u001b[0m \u001b[32m  \u001b[0m  \n",
      "\u001b[32m6\u001b[0m \u001b[32m  \u001b[0m \u001b[32m  \u001b[0m \u001b[32m  \u001b[0m \u001b[31m04\u001b[0m \u001b[31m05\u001b[0m \u001b[31m04\u001b[0m \u001b[32m  \u001b[0m \u001b[32m  \u001b[0m \u001b[32m  \u001b[0m  \n",
      "\u001b[32m7\u001b[0m \u001b[32m  \u001b[0m \u001b[32m  \u001b[0m \u001b[32m  \u001b[0m \u001b[32m  \u001b[0m \u001b[31m05\u001b[0m \u001b[32m  \u001b[0m \u001b[32m  \u001b[0m \u001b[32m  \u001b[0m \u001b[32m  \u001b[0m  \n"
     ]
    }
   ],
   "source": [
    "printnln('  ')\n",
    "for r in crange(-4,0):\n",
    "    printnlnG(5-abs(r))\n",
    "println()\n",
    "for y in crange(1,7):\n",
    "    printnlnG(y)\n",
    "    for x in crange(-4,4):\n",
    "#         if x > 0: break\n",
    "            \n",
    "        c = 5 - abs(x)\n",
    "        if c > y and y < 5 or y > 3 and c * y < y * (y-2) :\n",
    "            sprint('  ')\n",
    "        else:\n",
    "            cprint((c*1))\n",
    "    println(' ')"
   ]
  },
  {
   "cell_type": "code",
   "execution_count": 13,
   "metadata": {},
   "outputs": [
    {
     "name": "stdout",
     "output_type": "stream",
     "text": [
      "\u001b[31m0\u001b[0m \u001b[31m1\u001b[0m \u001b[31m2\u001b[0m \u001b[31m3\u001b[0m \u001b[31m4\u001b[0m \u001b[31m1\u001b[0m \u001b[31m2\u001b[0m \u001b[31m3\u001b[0m \u001b[31m4\u001b[0m \n",
      "\u001b[31m0\u001b[0m \u001b[31m1\u001b[0m \u001b[31m2\u001b[0m \u001b[31m3\u001b[0m \u001b[31m4\u001b[0m \u001b[31m1\u001b[0m \u001b[31m2\u001b[0m \u001b[31m3\u001b[0m \u001b[31m4\u001b[0m \n",
      "\u001b[31m0\u001b[0m \u001b[31m1\u001b[0m \u001b[31m2\u001b[0m \u001b[31m3\u001b[0m \u001b[31m4\u001b[0m \u001b[31m1\u001b[0m \u001b[31m2\u001b[0m \u001b[31m3\u001b[0m \u001b[31m4\u001b[0m \n",
      "\u001b[31m0\u001b[0m \u001b[31m1\u001b[0m \u001b[31m2\u001b[0m \u001b[31m3\u001b[0m \u001b[31m4\u001b[0m \u001b[31m1\u001b[0m \u001b[31m2\u001b[0m \u001b[31m3\u001b[0m \u001b[31m4\u001b[0m \n",
      "\u001b[31m0\u001b[0m \u001b[31m1\u001b[0m \u001b[31m2\u001b[0m \u001b[31m3\u001b[0m \u001b[31m4\u001b[0m \u001b[31m1\u001b[0m \u001b[31m2\u001b[0m \u001b[31m3\u001b[0m \u001b[31m4\u001b[0m \n",
      "\u001b[31m0\u001b[0m \u001b[31m1\u001b[0m \u001b[31m2\u001b[0m \u001b[31m3\u001b[0m \u001b[31m4\u001b[0m \u001b[31m1\u001b[0m \u001b[31m2\u001b[0m \u001b[31m3\u001b[0m \u001b[31m4\u001b[0m \n",
      "\u001b[31m0\u001b[0m \u001b[31m1\u001b[0m \u001b[31m2\u001b[0m \u001b[31m3\u001b[0m \u001b[31m4\u001b[0m \u001b[31m1\u001b[0m \u001b[31m2\u001b[0m \u001b[31m3\u001b[0m \u001b[31m4\u001b[0m \n"
     ]
    }
   ],
   "source": [
    "for y in range(7):\n",
    "    for h in range(2):\n",
    "        a = 0 if h == 0 else 1\n",
    "        for x in crange(a, 4):\n",
    "            printnlnR(x)\n",
    "    println()"
   ]
  },
  {
   "cell_type": "code",
   "execution_count": 14,
   "metadata": {},
   "outputs": [
    {
     "name": "stdout",
     "output_type": "stream",
     "text": [
      "\u001b[31m4\u001b[0m \u001b[31m3\u001b[0m \u001b[31m2\u001b[0m \u001b[31m1\u001b[0m \u001b[31m0\u001b[0m \u001b[31m1\u001b[0m \u001b[31m2\u001b[0m \u001b[31m3\u001b[0m \u001b[31m4\u001b[0m \n",
      "\u001b[31m4\u001b[0m \u001b[31m3\u001b[0m \u001b[31m2\u001b[0m \u001b[31m1\u001b[0m \u001b[31m0\u001b[0m \u001b[31m1\u001b[0m \u001b[31m2\u001b[0m \u001b[31m3\u001b[0m \u001b[31m4\u001b[0m \n",
      "\u001b[31m4\u001b[0m \u001b[31m3\u001b[0m \u001b[31m2\u001b[0m \u001b[31m1\u001b[0m \u001b[31m0\u001b[0m \u001b[31m1\u001b[0m \u001b[31m2\u001b[0m \u001b[31m3\u001b[0m \u001b[31m4\u001b[0m \n",
      "\u001b[31m \u001b[0m \u001b[31m3\u001b[0m \u001b[31m2\u001b[0m \u001b[31m1\u001b[0m \u001b[31m0\u001b[0m \u001b[31m1\u001b[0m \u001b[31m2\u001b[0m \u001b[31m3\u001b[0m \n",
      "\u001b[31m \u001b[0m \u001b[31m \u001b[0m \u001b[31m2\u001b[0m \u001b[31m1\u001b[0m \u001b[31m0\u001b[0m \u001b[31m1\u001b[0m \u001b[31m2\u001b[0m \n",
      "\u001b[31m \u001b[0m \u001b[31m \u001b[0m \u001b[31m \u001b[0m \u001b[31m1\u001b[0m \u001b[31m0\u001b[0m \u001b[31m1\u001b[0m \n",
      "\u001b[31m \u001b[0m \u001b[31m \u001b[0m \u001b[31m \u001b[0m \u001b[31m \u001b[0m \u001b[31m0\u001b[0m \n"
     ]
    }
   ],
   "source": [
    "for y in crange(0,6):\n",
    "    if y >=3:\n",
    "        for s in crange(0,y-3):\n",
    "            printnlnR(' ')\n",
    "    \n",
    "    b = 4 if y < 3 else 4-(y-2)\n",
    "    for x in crange(-b,b):\n",
    "        printnlnR(abs(x))\n",
    "    println()"
   ]
  },
  {
   "cell_type": "markdown",
   "metadata": {},
   "source": [
    "# SOAL 9"
   ]
  },
  {
   "cell_type": "markdown",
   "metadata": {},
   "source": [
    "# SOAL 10"
   ]
  },
  {
   "cell_type": "code",
   "execution_count": 15,
   "metadata": {},
   "outputs": [
    {
     "name": "stdout",
     "output_type": "stream",
     "text": [
      "\u001b[31mA\u001b[0m \u001b[31m_\u001b[0m \u001b[31m_\u001b[0m \u001b[31m_\u001b[0m \u001b[31m_\u001b[0m \u001b[31m_\u001b[0m \u001b[31m_\u001b[0m \u001b[31m_\u001b[0m \u001b[31m_\u001b[0m \u001b[31m_\u001b[0m \u001b[31m_\u001b[0m \u001b[31m_\u001b[0m \u001b[31mA\u001b[0m \n",
      "\u001b[31m_\u001b[0m \u001b[31mB\u001b[0m \u001b[31m_\u001b[0m \u001b[31m_\u001b[0m \u001b[31m_\u001b[0m \u001b[31m_\u001b[0m \u001b[31m_\u001b[0m \u001b[31m_\u001b[0m \u001b[31m_\u001b[0m \u001b[31m_\u001b[0m \u001b[31m_\u001b[0m \u001b[31mB\u001b[0m \u001b[31m_\u001b[0m \n",
      "\u001b[31m_\u001b[0m \u001b[31m_\u001b[0m \u001b[31mC\u001b[0m \u001b[31m_\u001b[0m \u001b[31m_\u001b[0m \u001b[31m_\u001b[0m \u001b[31m_\u001b[0m \u001b[31m_\u001b[0m \u001b[31m_\u001b[0m \u001b[31m_\u001b[0m \u001b[31mC\u001b[0m \u001b[31m_\u001b[0m \u001b[31m_\u001b[0m \n",
      "\u001b[31m_\u001b[0m \u001b[31m_\u001b[0m \u001b[31m_\u001b[0m \u001b[31mD\u001b[0m \u001b[31m_\u001b[0m \u001b[31m_\u001b[0m \u001b[31m_\u001b[0m \u001b[31m_\u001b[0m \u001b[31m_\u001b[0m \u001b[31mD\u001b[0m \u001b[31m_\u001b[0m \u001b[31m_\u001b[0m \u001b[31m_\u001b[0m \n",
      "\u001b[31m_\u001b[0m \u001b[31m_\u001b[0m \u001b[31m_\u001b[0m \u001b[31m_\u001b[0m \u001b[31mE\u001b[0m \u001b[31m_\u001b[0m \u001b[31m_\u001b[0m \u001b[31m_\u001b[0m \u001b[31mE\u001b[0m \u001b[31m_\u001b[0m \u001b[31m_\u001b[0m \u001b[31m_\u001b[0m \u001b[31m_\u001b[0m \n",
      "\u001b[31m_\u001b[0m \u001b[31m_\u001b[0m \u001b[31m_\u001b[0m \u001b[31m_\u001b[0m \u001b[31m_\u001b[0m \u001b[31mF\u001b[0m \u001b[31m_\u001b[0m \u001b[31mF\u001b[0m \u001b[31m_\u001b[0m \u001b[31m_\u001b[0m \u001b[31m_\u001b[0m \u001b[31m_\u001b[0m \u001b[31m_\u001b[0m \n",
      "\u001b[31m_\u001b[0m \u001b[31m_\u001b[0m \u001b[31m_\u001b[0m \u001b[31m_\u001b[0m \u001b[31m_\u001b[0m \u001b[31m_\u001b[0m \u001b[31mG\u001b[0m \u001b[31m_\u001b[0m \u001b[31m_\u001b[0m \u001b[31m_\u001b[0m \u001b[31m_\u001b[0m \u001b[31m_\u001b[0m \u001b[31m_\u001b[0m \n"
     ]
    }
   ],
   "source": [
    "import string\n",
    "alph = string.ascii_uppercase\n",
    "\n",
    "for y in crange(0,6):\n",
    "    for x in crange(-6,6):\n",
    "        if y == 6-abs(x):\n",
    "            i = 6-abs(x)\n",
    "            printnlnR(alph[i])\n",
    "        else:\n",
    "            printnlnR('_')\n",
    "    println()"
   ]
  },
  {
   "cell_type": "code",
   "execution_count": null,
   "metadata": {},
   "outputs": [],
   "source": []
  }
 ],
 "metadata": {
  "kernelspec": {
   "display_name": "Python 3",
   "language": "python",
   "name": "python3"
  },
  "language_info": {
   "codemirror_mode": {
    "name": "ipython",
    "version": 3
   },
   "file_extension": ".py",
   "mimetype": "text/x-python",
   "name": "python",
   "nbconvert_exporter": "python",
   "pygments_lexer": "ipython3",
   "version": "3.6.4"
  }
 },
 "nbformat": 4,
 "nbformat_minor": 2
}
