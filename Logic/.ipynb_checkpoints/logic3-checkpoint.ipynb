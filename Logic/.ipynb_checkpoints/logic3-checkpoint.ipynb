{
 "cells": [
  {
   "cell_type": "code",
   "execution_count": 1,
   "metadata": {},
   "outputs": [
    {
     "data": {
      "text/plain": [
       "<function max>"
      ]
     },
     "execution_count": 1,
     "metadata": {},
     "output_type": "execute_result"
    }
   ],
   "source": [
    "# menjalankan functions.ipynb agar bisa memanggil fungsi2 didalamnya\n",
    "# %run functions.ipynb\n",
    "\n",
    "# Closed Range\n",
    "def crange(a,b):\n",
    "    return range(a,b+1)\n",
    "\n",
    "# Print tanpa buat baris baru\n",
    "def printnln(a):\n",
    "    print(a, end='')\n",
    "\n",
    "# Print dengan baris baru\n",
    "def println(a):\n",
    "    print(a)"
   ]
  },
  {
   "cell_type": "markdown",
   "metadata": {},
   "source": [
    "# SOAL 1\n",
    "### Fibonacci 2"
   ]
  },
  {
   "cell_type": "code",
   "execution_count": 40,
   "metadata": {},
   "outputs": [
    {
     "name": "stdout",
     "output_type": "stream",
     "text": [
      "0\n",
      "1\n",
      "1\n",
      "2\n",
      "3\n",
      "5\n",
      "8\n",
      "13\n",
      "21\n"
     ]
    }
   ],
   "source": [
    "# FIBONACCI\n",
    "\n",
    "def fib(i):\n",
    "    if i < 2:\n",
    "        return i\n",
    "    else:\n",
    "        return fib(i - 1) + fib(i - 2)\n",
    "    \n",
    "for i in range(9):\n",
    "    print(fib(i))"
   ]
  },
  {
   "cell_type": "markdown",
   "metadata": {},
   "source": [
    "# SOAL 2\n",
    "### Fibonacci 3"
   ]
  },
  {
   "cell_type": "code",
   "execution_count": 41,
   "metadata": {},
   "outputs": [
    {
     "name": "stdout",
     "output_type": "stream",
     "text": [
      "1\n",
      "1\n",
      "1\n",
      "3\n",
      "5\n",
      "9\n",
      "17\n",
      "31\n",
      "57\n"
     ]
    }
   ],
   "source": [
    "def fib3(i):\n",
    "    if i < 3:\n",
    "        return 1\n",
    "    else:\n",
    "        return fib3(i - 1) + fib3(i - 2) + fib3(i - 3)\n",
    "    \n",
    "    \n",
    "for i in range(9):\n",
    "    print(fib3(i))"
   ]
  },
  {
   "cell_type": "markdown",
   "metadata": {},
   "source": [
    "# SOAL 3\n",
    "### FPB"
   ]
  },
  {
   "cell_type": "code",
   "execution_count": 42,
   "metadata": {},
   "outputs": [
    {
     "name": "stdout",
     "output_type": "stream",
     "text": [
      "4\n"
     ]
    }
   ],
   "source": [
    "def fpb(a,b):\n",
    "    if b == 0: \n",
    "        return a\n",
    "    else:\n",
    "        return fpb(b, a % b)\n",
    "    \n",
    "print(fpb(12,8))"
   ]
  },
  {
   "cell_type": "markdown",
   "metadata": {},
   "source": [
    "# SOAL 4\n",
    "### KPK"
   ]
  },
  {
   "cell_type": "code",
   "execution_count": 43,
   "metadata": {},
   "outputs": [
    {
     "name": "stdout",
     "output_type": "stream",
     "text": [
      "24\n"
     ]
    }
   ],
   "source": [
    "def kpk(a,b):\n",
    "    lcm = (a*b)/fpb(a,b)\n",
    "    return int(lcm)\n",
    "\n",
    "print(kpk(12,24))"
   ]
  },
  {
   "cell_type": "markdown",
   "metadata": {},
   "source": [
    "# SOAL 6"
   ]
  },
  {
   "cell_type": "code",
   "execution_count": 44,
   "metadata": {},
   "outputs": [
    {
     "name": "stdout",
     "output_type": "stream",
     "text": [
      "1AAAAAAA16\n",
      "D3AAAAA14B\n",
      "DD5AAA12BB\n",
      "DDD7A10BBB\n",
      "DDDD9BBBB\n",
      "DDD6C11BBB\n",
      "DD4CCC13BB\n",
      "D2CCCCC15B\n",
      "0CCCCCCC17\n"
     ]
    }
   ],
   "source": [
    "for y in crange(1,9):\n",
    "    for x in crange(1,9):\n",
    "        if x == y:\n",
    "            v = x * 2 - 1\n",
    "            printnln(v)\n",
    "        elif x == 9 - (y - 1) :\n",
    "            v = x * 2 - 2\n",
    "            printnln(v)\n",
    "        elif x > y and x < 9 - (y - 1):\n",
    "            printnln('A')\n",
    "        elif y < x and y > 9 - (x - 1):\n",
    "            printnln('B')\n",
    "        elif x < y and x > 9 - (y - 1):\n",
    "            printnln('C')\n",
    "        elif y > x and y < 9 - (x - 1):\n",
    "            printnln('D')\n",
    "        else:\n",
    "            printnln(' ')\n",
    "    println()"
   ]
  },
  {
   "cell_type": "markdown",
   "metadata": {},
   "source": [
    "# Konsep untuk soal 7 - 10 adalah dengan (-n...n)"
   ]
  },
  {
   "cell_type": "code",
   "execution_count": 45,
   "metadata": {},
   "outputs": [
    {
     "name": "stdout",
     "output_type": "stream",
     "text": [
      "432101234\n",
      "432101234\n",
      "432101234\n",
      "432101234\n",
      "432101234\n",
      "432101234\n",
      "432101234\n",
      "432101234\n",
      "432101234\n",
      "\n",
      "\n",
      "444444444\n",
      "333333333\n",
      "222222222\n",
      "111111111\n",
      "000000000\n",
      "111111111\n",
      "222222222\n",
      "333333333\n",
      "444444444\n"
     ]
    }
   ],
   "source": [
    "for y in crange(-4,4):\n",
    "    for x in crange(-4,4):\n",
    "        printnln(abs(x))\n",
    "    println()\n",
    "    \n",
    "println()\n",
    "println()\n",
    "\n",
    "for y in crange(-4,4):\n",
    "    for x in crange(-4,4):\n",
    "        printnln(abs(y))\n",
    "    println()"
   ]
  },
  {
   "cell_type": "markdown",
   "metadata": {},
   "source": [
    "# SOAL 7"
   ]
  },
  {
   "cell_type": "code",
   "execution_count": 46,
   "metadata": {},
   "outputs": [
    {
     "name": "stdout",
     "output_type": "stream",
     "text": [
      "111111111\n",
      "122222221\n",
      "123333321\n",
      "123444321\n",
      "123454321\n",
      "123444321\n",
      "123333321\n",
      "122222221\n",
      "111111111\n"
     ]
    }
   ],
   "source": [
    "for y in crange(-4,4):\n",
    "    for x in crange(-4,4):\n",
    "        v = 5 - max(abs(x),abs(y))\n",
    "        printnln(v)\n",
    "    println()"
   ]
  },
  {
   "cell_type": "markdown",
   "metadata": {},
   "source": [
    "# SOAL 8"
   ]
  },
  {
   "cell_type": "code",
   "execution_count": 47,
   "metadata": {},
   "outputs": [
    {
     "name": "stdout",
     "output_type": "stream",
     "text": [
      "111111111\n",
      "1       1\n",
      "1 33333 1\n",
      "1 3   3 1\n",
      "1 3 5 3 1\n",
      "1 3   3 1\n",
      "1 33333 1\n",
      "1       1\n",
      "111111111\n"
     ]
    }
   ],
   "source": [
    "for y in crange(-4,4):\n",
    "    for x in crange(-4,4):\n",
    "        v = 5 - max(abs(x),abs(y))\n",
    "        if v % 2 == 0:\n",
    "            printnln(' ')\n",
    "        else:\n",
    "            printnln(v)\n",
    "    println()"
   ]
  },
  {
   "cell_type": "markdown",
   "metadata": {},
   "source": [
    "# SOAL 9"
   ]
  },
  {
   "cell_type": "code",
   "execution_count": 48,
   "metadata": {},
   "outputs": [
    {
     "name": "stdout",
     "output_type": "stream",
     "text": [
      "111111111\n",
      "1       1\n",
      "1 11111 1\n",
      "1 1   1 1\n",
      "1 1 2 1 1\n",
      "1 1   1 1\n",
      "1 11111 1\n",
      "1       1\n",
      "111111111\n"
     ]
    }
   ],
   "source": [
    "for y in crange(-4,4):\n",
    "    for x in crange(-4,4):\n",
    "        v = 5 - max(abs(y), abs(x))\n",
    "        if v % 2 == 0:\n",
    "            printnln(' ')\n",
    "        else:\n",
    "            c = int((v + 1)/2)\n",
    "            printnln(fib(c))\n",
    "    println()"
   ]
  },
  {
   "cell_type": "code",
   "execution_count": 49,
   "metadata": {},
   "outputs": [],
   "source": [
    "import string\n",
    "alph = string.ascii_uppercase"
   ]
  },
  {
   "cell_type": "markdown",
   "metadata": {},
   "source": [
    "# SOAL 10"
   ]
  },
  {
   "cell_type": "code",
   "execution_count": 50,
   "metadata": {},
   "outputs": [
    {
     "name": "stdout",
     "output_type": "stream",
     "text": [
      "111111111\n",
      "1AAAAAAA1\n",
      "1A11111A1\n",
      "1A1BBB1A1\n",
      "1A1B2B1A1\n",
      "1A1BBB1A1\n",
      "1A11111A1\n",
      "1AAAAAAA1\n",
      "111111111\n"
     ]
    }
   ],
   "source": [
    "for y in crange(-4,4):\n",
    "    for x in crange(-4,4):\n",
    "        v = 5 - max(abs(y), abs(x))\n",
    "        if v % 2 == 0:\n",
    "            c = int((v + 1)/2) - 1\n",
    "            printnln(alph[c])\n",
    "        else:\n",
    "            c = int((v + 1)/2)\n",
    "            printnln(fib(c))\n",
    "#             printnln(' ')\n",
    "    println()"
   ]
  },
  {
   "cell_type": "code",
   "execution_count": null,
   "metadata": {},
   "outputs": [],
   "source": []
  }
 ],
 "metadata": {
  "kernelspec": {
   "display_name": "Python 3",
   "language": "python",
   "name": "python3"
  },
  "language_info": {
   "codemirror_mode": {
    "name": "ipython",
    "version": 3
   },
   "file_extension": ".py",
   "mimetype": "text/x-python",
   "name": "python",
   "nbconvert_exporter": "python",
   "pygments_lexer": "ipython3",
   "version": "3.6.4"
  }
 },
 "nbformat": 4,
 "nbformat_minor": 2
}
