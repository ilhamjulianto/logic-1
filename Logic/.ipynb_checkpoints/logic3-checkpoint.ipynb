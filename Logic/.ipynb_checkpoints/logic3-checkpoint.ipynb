{
 "cells": [
  {
   "cell_type": "code",
   "execution_count": 1,
   "metadata": {},
   "outputs": [],
   "source": [
    "from my_custom_functions import *"
   ]
  },
  {
   "cell_type": "markdown",
   "metadata": {},
   "source": [
    "![](http://fs1.directupload.net/images/180503/pjfcsy4q.jpg)"
   ]
  },
  {
   "cell_type": "markdown",
   "metadata": {},
   "source": [
    "# LOGIC 3\n",
    "# SOAL 1\n",
    "### Fibonacci 2"
   ]
  },
  {
   "cell_type": "code",
   "execution_count": 25,
   "metadata": {},
   "outputs": [
    {
     "name": "stdout",
     "output_type": "stream",
     "text": [
      "0\n",
      "1\n",
      "1\n",
      "2\n",
      "3\n",
      "5\n",
      "8\n",
      "13\n",
      "21\n"
     ]
    }
   ],
   "source": [
    "# FIBONACCI\n",
    "\n",
    "def fib(i):\n",
    "    if i < 2:\n",
    "        return i\n",
    "    else:\n",
    "        return fib(i - 1) + fib(i - 2)\n",
    "    \n",
    "for i in range(9):\n",
    "    print(fib(i))"
   ]
  },
  {
   "cell_type": "markdown",
   "metadata": {},
   "source": [
    "# SOAL 2\n",
    "### Fibonacci 3"
   ]
  },
  {
   "cell_type": "code",
   "execution_count": 26,
   "metadata": {},
   "outputs": [
    {
     "name": "stdout",
     "output_type": "stream",
     "text": [
      "1\n",
      "1\n",
      "1\n",
      "3\n",
      "5\n",
      "9\n",
      "17\n",
      "31\n",
      "57\n"
     ]
    }
   ],
   "source": [
    "def fib3(i):\n",
    "    if i < 3:\n",
    "        return 1\n",
    "    else:\n",
    "        return fib3(i - 1) + fib3(i - 2) + fib3(i - 3)\n",
    "    \n",
    "    \n",
    "for i in range(9):\n",
    "    print(fib3(i))"
   ]
  },
  {
   "cell_type": "markdown",
   "metadata": {},
   "source": [
    "# SOAL 3\n",
    "### FPB"
   ]
  },
  {
   "cell_type": "code",
   "execution_count": 27,
   "metadata": {},
   "outputs": [
    {
     "name": "stdout",
     "output_type": "stream",
     "text": [
      "4\n"
     ]
    }
   ],
   "source": [
    "def fpb(a,b):\n",
    "    if b == 0: \n",
    "        return a\n",
    "    else:\n",
    "        return fpb(b, a % b)\n",
    "    \n",
    "print(fpb(12,8))"
   ]
  },
  {
   "cell_type": "markdown",
   "metadata": {},
   "source": [
    "# SOAL 4\n",
    "### KPK"
   ]
  },
  {
   "cell_type": "code",
   "execution_count": 28,
   "metadata": {},
   "outputs": [
    {
     "name": "stdout",
     "output_type": "stream",
     "text": [
      "24\n"
     ]
    }
   ],
   "source": [
    "def kpk(a,b):\n",
    "    lcm = (a*b)/fpb(a,b)\n",
    "    return int(lcm)\n",
    "\n",
    "print(kpk(12,24))"
   ]
  },
  {
   "cell_type": "markdown",
   "metadata": {},
   "source": [
    "# SOAL 6"
   ]
  },
  {
   "cell_type": "code",
   "execution_count": 29,
   "metadata": {},
   "outputs": [
    {
     "name": "stdout",
     "output_type": "stream",
     "text": [
      "1 A A A A A A A 16 \n",
      "D 3 A A A A A 14 B \n",
      "D D 5 A A A 12 B B \n",
      "D D D 7 A 10 B B B \n",
      "D D D D 9 B B B B \n",
      "D D D 6 C 11 B B B \n",
      "D D 4 C C C 13 B B \n",
      "D 2 C C C C C 15 B \n",
      "0 C C C C C C C 17 \n"
     ]
    }
   ],
   "source": [
    "for y in crange(1,9):\n",
    "    for x in crange(1,9):\n",
    "        if x == y:\n",
    "            v = x * 2 - 1\n",
    "            printnln(v)\n",
    "        elif x == 9 - (y - 1) :\n",
    "            v = x * 2 - 2\n",
    "            printnln(v)\n",
    "        elif x > y and x < 9 - (y - 1):\n",
    "            printnln('A')\n",
    "        elif y < x and y > 9 - (x - 1):\n",
    "            printnln('B')\n",
    "        elif x < y and x > 9 - (y - 1):\n",
    "            printnln('C')\n",
    "        elif y > x and y < 9 - (x - 1):\n",
    "            printnln('D')\n",
    "        else:\n",
    "            printnln(' ')\n",
    "    println()"
   ]
  },
  {
   "cell_type": "markdown",
   "metadata": {},
   "source": [
    "# Konsep untuk soal 7 - 10 adalah dengan (-n...n)"
   ]
  },
  {
   "cell_type": "code",
   "execution_count": 30,
   "metadata": {},
   "outputs": [
    {
     "name": "stdout",
     "output_type": "stream",
     "text": [
      "4 3 2 1 0 1 2 3 4 \n",
      "4 3 2 1 0 1 2 3 4 \n",
      "4 3 2 1 0 1 2 3 4 \n",
      "4 3 2 1 0 1 2 3 4 \n",
      "4 3 2 1 0 1 2 3 4 \n",
      "4 3 2 1 0 1 2 3 4 \n",
      "4 3 2 1 0 1 2 3 4 \n",
      "4 3 2 1 0 1 2 3 4 \n",
      "4 3 2 1 0 1 2 3 4 \n",
      "\n",
      "\n",
      "4 4 4 4 4 4 4 4 4 \n",
      "3 3 3 3 3 3 3 3 3 \n",
      "2 2 2 2 2 2 2 2 2 \n",
      "1 1 1 1 1 1 1 1 1 \n",
      "0 0 0 0 0 0 0 0 0 \n",
      "1 1 1 1 1 1 1 1 1 \n",
      "2 2 2 2 2 2 2 2 2 \n",
      "3 3 3 3 3 3 3 3 3 \n",
      "4 4 4 4 4 4 4 4 4 \n"
     ]
    }
   ],
   "source": [
    "for y in crange(-4,4):\n",
    "    for x in crange(-4,4):\n",
    "        printnln(abs(x))\n",
    "    println()\n",
    "    \n",
    "println()\n",
    "println()\n",
    "\n",
    "for y in crange(-4,4):\n",
    "    for x in crange(-4,4):\n",
    "        printnln(abs(y))\n",
    "    println()"
   ]
  },
  {
   "cell_type": "markdown",
   "metadata": {},
   "source": [
    "# SOAL 7"
   ]
  },
  {
   "cell_type": "code",
   "execution_count": 31,
   "metadata": {},
   "outputs": [
    {
     "name": "stdout",
     "output_type": "stream",
     "text": [
      "1 1 1 1 1 1 1 1 1 \n",
      "1 2 2 2 2 2 2 2 1 \n",
      "1 2 3 3 3 3 3 2 1 \n",
      "1 2 3 4 4 4 3 2 1 \n",
      "1 2 3 4 5 4 3 2 1 \n",
      "1 2 3 4 4 4 3 2 1 \n",
      "1 2 3 3 3 3 3 2 1 \n",
      "1 2 2 2 2 2 2 2 1 \n",
      "1 1 1 1 1 1 1 1 1 \n"
     ]
    }
   ],
   "source": [
    "for y in crange(-4,4):\n",
    "    for x in crange(-4,4):\n",
    "        v = 5 - max(abs(x),abs(y))\n",
    "        printnln(v)\n",
    "    println()"
   ]
  },
  {
   "cell_type": "markdown",
   "metadata": {},
   "source": [
    "# SOAL 8"
   ]
  },
  {
   "cell_type": "code",
   "execution_count": 32,
   "metadata": {},
   "outputs": [
    {
     "name": "stdout",
     "output_type": "stream",
     "text": [
      "1 1 1 1 1 1 1 1 1 \n",
      "1               1 \n",
      "1   3 3 3 3 3   1 \n",
      "1   3       3   1 \n",
      "1   3   5   3   1 \n",
      "1   3       3   1 \n",
      "1   3 3 3 3 3   1 \n",
      "1               1 \n",
      "1 1 1 1 1 1 1 1 1 \n"
     ]
    }
   ],
   "source": [
    "for y in crange(-4,4):\n",
    "    for x in crange(-4,4):\n",
    "        v = 5 - max(abs(x),abs(y))\n",
    "        if v % 2 == 0:\n",
    "            printnln(' ')\n",
    "        else:\n",
    "            printnln(v)\n",
    "    println()"
   ]
  },
  {
   "cell_type": "markdown",
   "metadata": {},
   "source": [
    "# SOAL 9"
   ]
  },
  {
   "cell_type": "code",
   "execution_count": 33,
   "metadata": {},
   "outputs": [
    {
     "name": "stdout",
     "output_type": "stream",
     "text": [
      "1 1 1 1 1 1 1 1 1 \n",
      "1               1 \n",
      "1   1 1 1 1 1   1 \n",
      "1   1       1   1 \n",
      "1   1   2   1   1 \n",
      "1   1       1   1 \n",
      "1   1 1 1 1 1   1 \n",
      "1               1 \n",
      "1 1 1 1 1 1 1 1 1 \n"
     ]
    }
   ],
   "source": [
    "for y in crange(-4,4):\n",
    "    for x in crange(-4,4):\n",
    "        v = 5 - max(abs(y), abs(x))\n",
    "#         c = int((v + 1)/2)\n",
    "#         printnln(fib(c))\n",
    "        if v % 2 == 0:\n",
    "            printnln(' ')\n",
    "        else:\n",
    "            c = (v + 1)//2\n",
    "            printnln(fib(c))\n",
    "    println()"
   ]
  },
  {
   "cell_type": "code",
   "execution_count": 34,
   "metadata": {},
   "outputs": [
    {
     "name": "stdout",
     "output_type": "stream",
     "text": [
      "ABCDEFGHIJKLMNOPQRSTUVWXYZ\n",
      "C\n"
     ]
    }
   ],
   "source": [
    "import string\n",
    "alph = string.ascii_uppercase\n",
    "print(alph)\n",
    "print(alph[2])"
   ]
  },
  {
   "cell_type": "markdown",
   "metadata": {},
   "source": [
    "# SOAL 10"
   ]
  },
  {
   "cell_type": "code",
   "execution_count": 35,
   "metadata": {},
   "outputs": [
    {
     "name": "stdout",
     "output_type": "stream",
     "text": [
      "1 1 1 1 1 1 1 1 1 \n",
      "1 A A A A A A A 1 \n",
      "1 A 1 1 1 1 1 A 1 \n",
      "1 A 1 B B B 1 A 1 \n",
      "1 A 1 B 2 B 1 A 1 \n",
      "1 A 1 B B B 1 A 1 \n",
      "1 A 1 1 1 1 1 A 1 \n",
      "1 A A A A A A A 1 \n",
      "1 1 1 1 1 1 1 1 1 \n"
     ]
    }
   ],
   "source": [
    "for y in crange(-4,4):\n",
    "    for x in crange(-4,4):\n",
    "        v = 5 - max(abs(y), abs(x))\n",
    "        if v % 2 == 0:\n",
    "            c = int((v + 1)/2) - 1\n",
    "            printnln(alph[c])\n",
    "        else:\n",
    "            c = int((v + 1)/2)\n",
    "            printnln(fib(c))\n",
    "#             printnln(' ')\n",
    "    println()"
   ]
  },
  {
   "cell_type": "code",
   "execution_count": null,
   "metadata": {},
   "outputs": [],
   "source": []
  }
 ],
 "metadata": {
  "kernelspec": {
   "display_name": "Python 3",
   "language": "python",
   "name": "python3"
  },
  "language_info": {
   "codemirror_mode": {
    "name": "ipython",
    "version": 3
   },
   "file_extension": ".py",
   "mimetype": "text/x-python",
   "name": "python",
   "nbconvert_exporter": "python",
   "pygments_lexer": "ipython3",
   "version": "3.6.4"
  }
 },
 "nbformat": 4,
 "nbformat_minor": 2
}
