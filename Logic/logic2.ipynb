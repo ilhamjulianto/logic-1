{
 "cells": [
  {
   "cell_type": "code",
   "execution_count": 49,
   "metadata": {},
   "outputs": [],
   "source": [
    "# menjalankan functions.ipynb agar bisa memanggil fungsi2 didalamnya\n",
    "# %run functions.ipynb\n",
    "\n",
    "# Closed Range\n",
    "def crange(a,b):\n",
    "    return range(a,b+1)\n",
    "\n",
    "# Print tanpa buat baris baru\n",
    "def printnln(a):\n",
    "    print(a, end='')\n",
    "\n",
    "# Print dengan baris baru\n",
    "def println(a):\n",
    "    print(a)"
   ]
  },
  {
   "cell_type": "markdown",
   "metadata": {},
   "source": [
    "# LOGIC 2\n",
    "# SOAL 1"
   ]
  },
  {
   "cell_type": "code",
   "execution_count": 50,
   "metadata": {},
   "outputs": [
    {
     "name": "stdout",
     "output_type": "stream",
     "text": [
      "1        \n",
      " 3       \n",
      "  5      \n",
      "   7     \n",
      "    9    \n",
      "     11   \n",
      "      13  \n",
      "       15 \n",
      "        17\n"
     ]
    }
   ],
   "source": [
    "for y in crange(1,9):\n",
    "    for x in crange(1,9):\n",
    "        if x == y:\n",
    "            v = x * 2 - 1\n",
    "            printnln(v)\n",
    "        else:\n",
    "            printnln(' ')\n",
    "    println()"
   ]
  },
  {
   "cell_type": "markdown",
   "metadata": {},
   "source": [
    "# SOAL 2"
   ]
  },
  {
   "cell_type": "code",
   "execution_count": 51,
   "metadata": {},
   "outputs": [
    {
     "name": "stdout",
     "output_type": "stream",
     "text": [
      "        16\n",
      "       14 \n",
      "      12  \n",
      "     10   \n",
      "    8    \n",
      "   6     \n",
      "  4      \n",
      " 2       \n",
      "0        \n"
     ]
    }
   ],
   "source": [
    "for y in crange(1,9):\n",
    "    for x in crange(1,9):\n",
    "        if x == 9 - (y - 1) :\n",
    "            v = x * 2 - 2\n",
    "            printnln(v)\n",
    "        else:\n",
    "            printnln(' ')\n",
    "    println()"
   ]
  },
  {
   "cell_type": "markdown",
   "metadata": {},
   "source": [
    "# SOAL 3"
   ]
  },
  {
   "cell_type": "code",
   "execution_count": 52,
   "metadata": {},
   "outputs": [
    {
     "name": "stdout",
     "output_type": "stream",
     "text": [
      "1       16\n",
      " 3     14 \n",
      "  5   12  \n",
      "   7 10   \n",
      "    9    \n",
      "   6 11   \n",
      "  4   13  \n",
      " 2     15 \n",
      "0       17\n"
     ]
    }
   ],
   "source": [
    "for y in crange(1,9):\n",
    "    for x in crange(1,9):\n",
    "        if x == y:\n",
    "            v = x * 2 - 1\n",
    "            printnln(v)\n",
    "        elif x == 9 - (y - 1) :\n",
    "            v = x * 2 - 2\n",
    "            printnln(v)\n",
    "        else:\n",
    "            printnln(' ')\n",
    "    println()"
   ]
  },
  {
   "cell_type": "markdown",
   "metadata": {},
   "source": [
    "# SOAL 4"
   ]
  },
  {
   "cell_type": "code",
   "execution_count": 53,
   "metadata": {},
   "outputs": [
    {
     "name": "stdout",
     "output_type": "stream",
     "text": [
      "1   1   16\n",
      " 3  3  14 \n",
      "  5 5 12  \n",
      "   7710   \n",
      "0246910121416\n",
      "   61111   \n",
      "  4 13 13  \n",
      " 2  15  15 \n",
      "0   17   17\n"
     ]
    }
   ],
   "source": [
    "for y in crange(1,9):\n",
    "    for x in crange(1,9):\n",
    "        if x == y:\n",
    "            v = x * 2 - 1\n",
    "            printnln(v)\n",
    "        elif x == 9 - (y - 1) :\n",
    "            v = x * 2 - 2\n",
    "            printnln(v)\n",
    "        elif x == 5:\n",
    "            v = y * 2 - 1\n",
    "            printnln(v)\n",
    "        elif y == 5:\n",
    "            v = x * 2 - 2\n",
    "            printnln(v)\n",
    "        else:\n",
    "            printnln(' ')\n",
    "    println()"
   ]
  },
  {
   "cell_type": "markdown",
   "metadata": {},
   "source": [
    "# SOAL 5"
   ]
  },
  {
   "cell_type": "code",
   "execution_count": 54,
   "metadata": {},
   "outputs": [
    {
     "name": "stdout",
     "output_type": "stream",
     "text": [
      "1        \n",
      "13       \n",
      "135      \n",
      "1357     \n",
      "13579    \n",
      "1357911   \n",
      "135791113  \n",
      "13579111315 \n",
      "1357911131517\n"
     ]
    }
   ],
   "source": [
    "for y in crange(1,9):\n",
    "    for x in crange(1,9):\n",
    "        if x <= y:\n",
    "            v = x * 2 - 1\n",
    "            printnln(v)\n",
    "        else:\n",
    "            printnln(' ')\n",
    "    println()"
   ]
  },
  {
   "cell_type": "markdown",
   "metadata": {},
   "source": [
    "# SOAL 6"
   ]
  },
  {
   "cell_type": "code",
   "execution_count": 55,
   "metadata": {},
   "outputs": [
    {
     "name": "stdout",
     "output_type": "stream",
     "text": [
      "        16\n",
      "       1414\n",
      "      121212\n",
      "     10101010\n",
      "    88888\n",
      "   666666\n",
      "  4444444\n",
      " 22222222\n",
      "000000000\n"
     ]
    }
   ],
   "source": [
    "for y in crange(1,9):\n",
    "    for x in crange(1,9):\n",
    "        if x >= 9 - (y - 1) :\n",
    "            v = 9-(y-1)\n",
    "            printnln(v*2-2)\n",
    "        else:\n",
    "            printnln(' ')\n",
    "    println()"
   ]
  },
  {
   "cell_type": "markdown",
   "metadata": {},
   "source": [
    "# SOAL 7"
   ]
  },
  {
   "cell_type": "code",
   "execution_count": 59,
   "metadata": {},
   "outputs": [
    {
     "name": "stdout",
     "output_type": "stream",
     "text": [
      "1AAAAAAA16\n",
      " 3AAAAA14 \n",
      "  5AAA12  \n",
      "   7A10   \n",
      "    9    \n",
      "   6B11   \n",
      "  4BBB13  \n",
      " 2BBBBB15 \n",
      "0BBBBBBB17\n"
     ]
    }
   ],
   "source": [
    "for y in crange(1,9):\n",
    "    for x in crange(1,9):\n",
    "        if x == y:\n",
    "            v = x * 2 - 1\n",
    "            printnln(v)\n",
    "        elif x == 9 - (y - 1) :\n",
    "            v = x * 2 - 2\n",
    "            printnln(v)\n",
    "        elif x > y and x < 9 - (y - 1):\n",
    "            printnln('A')\n",
    "        elif x < y and x > 9 - (y - 1):\n",
    "            printnln('B')\n",
    "        else:\n",
    "            printnln(' ')\n",
    "    println()"
   ]
  },
  {
   "cell_type": "markdown",
   "metadata": {},
   "source": [
    "# SOAL 8"
   ]
  },
  {
   "cell_type": "code",
   "execution_count": 60,
   "metadata": {},
   "outputs": [
    {
     "name": "stdout",
     "output_type": "stream",
     "text": [
      "1       16\n",
      "A3     14B\n",
      "AA5   12BB\n",
      "AAA7 10BBB\n",
      "AAAA9BBBB\n",
      "AAA6 11BBB\n",
      "AA4   13BB\n",
      "A2     15B\n",
      "0       17\n"
     ]
    }
   ],
   "source": [
    "for y in crange(1,9):\n",
    "    for x in crange(1,9):\n",
    "        if x == y:\n",
    "            v = x * 2 - 1\n",
    "            printnln(v)\n",
    "        elif x == 9 - (y - 1) :\n",
    "            v = x * 2 - 2\n",
    "            printnln(v)\n",
    "        elif y > x and y < 9 - (x - 1):\n",
    "            printnln('A')\n",
    "        elif y < x and y > 9 - (x - 1):\n",
    "            printnln('B')\n",
    "        else:\n",
    "            printnln(' ')\n",
    "    println()"
   ]
  },
  {
   "cell_type": "code",
   "execution_count": null,
   "metadata": {},
   "outputs": [],
   "source": []
  }
 ],
 "metadata": {
  "kernelspec": {
   "display_name": "Python 3",
   "language": "python",
   "name": "python3"
  },
  "language_info": {
   "codemirror_mode": {
    "name": "ipython",
    "version": 3
   },
   "file_extension": ".py",
   "mimetype": "text/x-python",
   "name": "python",
   "nbconvert_exporter": "python",
   "pygments_lexer": "ipython3",
   "version": "3.6.4"
  }
 },
 "nbformat": 4,
 "nbformat_minor": 2
}
