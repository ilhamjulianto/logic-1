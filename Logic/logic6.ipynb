{
 "cells": [
  {
   "cell_type": "code",
   "execution_count": 1,
   "metadata": {},
   "outputs": [],
   "source": [
    "%load_ext autoreload\n",
    "%autoreload 2\n",
    "\n",
    "from my_custom_functions import *"
   ]
  },
  {
   "cell_type": "code",
   "execution_count": 2,
   "metadata": {},
   "outputs": [],
   "source": [
    "def printnln(a=''):\n",
    "    print(a, end=' ')"
   ]
  },
  {
   "cell_type": "markdown",
   "metadata": {},
   "source": [
    "# LOGIC 6\n",
    "# SOAL 1"
   ]
  },
  {
   "cell_type": "code",
   "execution_count": 3,
   "metadata": {},
   "outputs": [
    {
     "name": "stdout",
     "output_type": "stream",
     "text": [
      "        * \n",
      "      * * * \n",
      "    * * * * * \n",
      "                  * \n",
      "                * * * \n",
      "              * * * * * \n",
      "        * \n",
      "      * * * \n",
      "    * * * * * \n"
     ]
    }
   ],
   "source": [
    "for t in range(3):\n",
    "    for y in crange(1,3):\n",
    "        for i in range(pcount(3)) if t % 2 != 0 else range(0):\n",
    "            printnln(' ')\n",
    "        for s in crange(1, 5-y):\n",
    "            printnln(' ')\n",
    "        for x in crange(1,pcount(y)):\n",
    "            printnln('*')\n",
    "        println()"
   ]
  },
  {
   "cell_type": "markdown",
   "metadata": {},
   "source": [
    "# SOAL 2"
   ]
  },
  {
   "cell_type": "code",
   "execution_count": 4,
   "metadata": {},
   "outputs": [
    {
     "name": "stdout",
     "output_type": "stream",
     "text": [
      "        1 \n",
      "      1 2 3 \n",
      "    5 8 13 21 34 \n",
      "                  1 \n",
      "                1 2 3 \n",
      "              5 8 13 21 34 \n",
      "        1 \n",
      "      1 2 3 \n",
      "    5 8 13 21 34 \n"
     ]
    }
   ],
   "source": [
    "for t in range(3):\n",
    "    \n",
    "    c = 0\n",
    "    for y in crange(1,3):\n",
    "        for i in range(pcount(3)) if t % 2 != 0 else range(0):\n",
    "            printnln(' ')\n",
    "        for s in crange(1, 5-y):\n",
    "            printnln(' ')\n",
    "        for x in crange(1,pcount(y)):\n",
    "            c += 1\n",
    "            printnln(fib(c))\n",
    "        println()"
   ]
  },
  {
   "cell_type": "markdown",
   "metadata": {},
   "source": [
    "# SOAL 3"
   ]
  },
  {
   "cell_type": "code",
   "execution_count": 5,
   "metadata": {},
   "outputs": [
    {
     "name": "stdout",
     "output_type": "stream",
     "text": [
      "        1 \n",
      "      1 2 3 \n",
      "    5 8 13 21 34 \n",
      "                  1 \n",
      "                3 5 7 \n",
      "              9 11 13 15 17 \n",
      "        1 \n",
      "      1 2 3 \n",
      "    5 8 13 21 34 \n"
     ]
    }
   ],
   "source": [
    "for t in range(3):\n",
    "    \n",
    "    c = 0\n",
    "    for y in crange(1,3):\n",
    "        for i in range(pcount(3)) if t % 2 != 0 else range(0):\n",
    "            printnln(' ')\n",
    "        for s in crange(1, 5-y):\n",
    "            printnln(' ')\n",
    "        for x in crange(1,pcount(y)):\n",
    "            c += 1\n",
    "            b = fib(c) if t % 2 == 0 else c * 2 - 1\n",
    "            printnln(b)\n",
    "        println()"
   ]
  },
  {
   "cell_type": "markdown",
   "metadata": {},
   "source": [
    "# SOAL 4"
   ]
  },
  {
   "cell_type": "code",
   "execution_count": 6,
   "metadata": {},
   "outputs": [
    {
     "name": "stdout",
     "output_type": "stream",
     "text": [
      "* * * * * * * * * \n",
      "                * \n",
      "* * * * * * *   * \n",
      "*           *   * \n",
      "*   * * *   *   * \n",
      "*   *       *   * \n",
      "*   * * * * *   * \n",
      "*               * \n",
      "* * * * * * * * * \n"
     ]
    }
   ],
   "source": [
    "for y in range(1, 10):\n",
    "    for x in range(1, 10):\n",
    "        if (y % 2 == 1 and y - 2 <= x <= 10 - y):\n",
    "            print('*', end=' ')\n",
    "        elif (y % 2 == 1 and x <= y >= 10 - x):\n",
    "            print('*', end=' ')\n",
    "        elif ((y == 6 and x == 3) or (x == 1 and y >= 3)):\n",
    "            print('*', end=' ')\n",
    "        elif ((10 - x) % 2 == 1 and x >= y >= 10 - x):\n",
    "            print('*', end=' ')\n",
    "        else:\n",
    "            print(' ', end=' ')\n",
    "    print()"
   ]
  },
  {
   "cell_type": "code",
   "execution_count": 7,
   "metadata": {},
   "outputs": [
    {
     "name": "stdout",
     "output_type": "stream",
     "text": [
      "02 03 04 05 06 07 08 09 10 \n",
      "03 04 05 06 07 08 09 10 11 \n",
      "04 05 06 07 08 09 10 11 12 \n",
      "05 06 07 08 09 10 11 12 13 \n",
      "06 07 08 09 10 11 12 13 14 \n",
      "07 08 09 10 11 12 13 14 15 \n",
      "08 09 10 11 12 13 14 15 16 \n",
      "09 10 11 12 13 14 15 16 17 \n",
      "10 11 12 13 14 15 16 17 18 \n"
     ]
    }
   ],
   "source": [
    "def cprint(a=0,end=' '):\n",
    "    print(str(a).zfill(2),end=end)\n",
    "\n",
    "for y in crange(1,9):\n",
    "    for x in crange(1,9):\n",
    "        cprint(x+y)\n",
    "    println()"
   ]
  },
  {
   "cell_type": "code",
   "execution_count": null,
   "metadata": {},
   "outputs": [],
   "source": []
  },
  {
   "cell_type": "markdown",
   "metadata": {},
   "source": [
    "# SOAL 5"
   ]
  },
  {
   "cell_type": "markdown",
   "metadata": {},
   "source": [
    "# SOAL 6"
   ]
  },
  {
   "cell_type": "code",
   "execution_count": 8,
   "metadata": {},
   "outputs": [
    {
     "name": "stdout",
     "output_type": "stream",
     "text": [
      "  * \n",
      "* * * \n",
      "  * \n",
      "        * \n",
      "      * * * \n",
      "        * \n",
      "              * \n",
      "            * * * \n",
      "              * \n"
     ]
    }
   ],
   "source": [
    "for j in range(3):\n",
    "    pb = pbound(2)\n",
    "    for y in crange(-pb,pb):\n",
    "        for s in range(3*j):\n",
    "            printnln(' ')\n",
    "        for s in range(abs(y)):\n",
    "            printnln(' ')\n",
    "        for x in crange(1,pcount(2-abs(y))):\n",
    "            printnln('*')\n",
    "        println()"
   ]
  },
  {
   "cell_type": "markdown",
   "metadata": {},
   "source": [
    "# SOAL 7"
   ]
  },
  {
   "cell_type": "code",
   "execution_count": 9,
   "metadata": {},
   "outputs": [
    {
     "name": "stdout",
     "output_type": "stream",
     "text": [
      "              * \n",
      "            * * * \n",
      "              * \n",
      "        * \n",
      "      * * * \n",
      "        * \n",
      "  * \n",
      "* * * \n",
      "  * \n"
     ]
    }
   ],
   "source": [
    "for j in reversed(range(3)):\n",
    "    pb = pbound(2)\n",
    "    for y in crange(-pb,pb):\n",
    "        for s in range(3*j):\n",
    "            printnln(' ')\n",
    "        for s in range(abs(y)):\n",
    "            printnln(' ')\n",
    "        for x in crange(1,pcount(2-abs(y))):\n",
    "            printnln('*')\n",
    "        println()"
   ]
  },
  {
   "cell_type": "markdown",
   "metadata": {},
   "source": [
    "# SOAL 8"
   ]
  },
  {
   "cell_type": "code",
   "execution_count": 10,
   "metadata": {},
   "outputs": [
    {
     "name": "stdout",
     "output_type": "stream",
     "text": [
      "  2 \n",
      "2 1 2 \n",
      "  2 \n",
      "        4 \n",
      "      4 3 4 \n",
      "        4 \n",
      "              6 \n",
      "            6 5 6 \n",
      "              6 \n"
     ]
    }
   ],
   "source": [
    "for j in range(3):\n",
    "    pb = pbound(2)\n",
    "    for y in crange(-pb,pb):\n",
    "        for s in range(3*j):\n",
    "            printnln(' ')\n",
    "        for s in range(abs(y)):\n",
    "            printnln(' ')\n",
    "        v = abs(pbound(abs(y)))\n",
    "        for x in crange(-v,v):\n",
    "            mx = max(abs(x),abs(y))\n",
    "            p = mx+(j+1)+j\n",
    "            printnln(p)\n",
    "        println()"
   ]
  },
  {
   "cell_type": "markdown",
   "metadata": {},
   "source": [
    "# SOAL 9"
   ]
  },
  {
   "cell_type": "code",
   "execution_count": 24,
   "metadata": {},
   "outputs": [
    {
     "name": "stdout",
     "output_type": "stream",
     "text": [
      "* *   * * \n",
      "* *   * * \n",
      "          \n",
      "* *   * * \n",
      "* *   * * \n",
      "          \n",
      "* *   * * \n",
      "* *   * * \n",
      "          \n",
      "* *   * * \n",
      "* *   * * \n"
     ]
    }
   ],
   "source": [
    "a = 0\n",
    "for v in crange(1,11):\n",
    "    for h in crange(1,5):\n",
    "        if v % 3 == 0:\n",
    "            printnln(' ')\n",
    "        else:\n",
    "            if h % 3 == 0:\n",
    "                printnln(' ')\n",
    "            else:\n",
    "                printnln('*')\n",
    "    println()"
   ]
  },
  {
   "cell_type": "code",
   "execution_count": 33,
   "metadata": {},
   "outputs": [
    {
     "name": "stdout",
     "output_type": "stream",
     "text": [
      "0 1 _ 1 0 \n",
      "0 1 _ 1 0 \n",
      "_ _ _ \n",
      "0 1 _ 1 0 \n",
      "0 1 _ 1 0 \n",
      "_ _ _ \n",
      "0 1 _ 1 0 \n",
      "0 1 _ 1 0 \n",
      "_ _ _ \n",
      "0 1 _ 1 0 \n",
      "0 1 _ 1 0 \n"
     ]
    }
   ],
   "source": [
    "a = 0\n",
    "for v in crange(1,11):\n",
    "    for h in crange(-1,1):\n",
    "        if v % 3 == 0 or h == 0:\n",
    "            printnln('_')\n",
    "        else:\n",
    "            for x in crange(0,abs(h)) if h < 0 else reversed(crange(0,abs(h))):\n",
    "                printnln(x)\n",
    "    println()"
   ]
  },
  {
   "cell_type": "markdown",
   "metadata": {},
   "source": [
    "# SOAL 10"
   ]
  },
  {
   "cell_type": "code",
   "execution_count": 14,
   "metadata": {},
   "outputs": [
    {
     "name": "stdout",
     "output_type": "stream",
     "text": [
      "1 _ _ _ _ _ _ _ _ \n",
      "_ _ _ _ _ _ _ 2 2 \n",
      "3 3 3 _ _ _ _ _ _ \n",
      "_ _ _ _ _ 4 4 4 4 \n",
      "5 5 5 5 5 _ _ _ _ \n",
      "_ _ _ 6 6 6 6 6 6 \n",
      "7 7 7 7 7 7 7 _ _ \n",
      "_ 8 8 8 8 8 8 8 8 \n",
      "9 9 9 9 9 9 9 9 9 \n"
     ]
    }
   ],
   "source": [
    "for y in crange(1,9):\n",
    "    for x in crange(1,9):\n",
    "        if y%2==0 and x>=10-y:        \n",
    "            printnln(y)\n",
    "        elif y%2==1 and x<=y:\n",
    "            printnln(y)        \n",
    "        else:\n",
    "            printnln(\"_\")\n",
    "    println()"
   ]
  },
  {
   "cell_type": "markdown",
   "metadata": {},
   "source": [
    "# TUTORIAL"
   ]
  },
  {
   "cell_type": "code",
   "execution_count": 13,
   "metadata": {},
   "outputs": [
    {
     "name": "stdout",
     "output_type": "stream",
     "text": [
      "2\n",
      "3\n",
      "5\n",
      "7\n",
      "11\n",
      "13\n",
      "17\n",
      "19\n"
     ]
    }
   ],
   "source": [
    "def prime(n):\n",
    "    for i in range(2,n+1):\n",
    "        for x in range(2,i):\n",
    "            if i % x == 0:\n",
    "                break\n",
    "        else:\n",
    "            print(i)\n",
    "\n",
    "prime(20)"
   ]
  },
  {
   "cell_type": "code",
   "execution_count": null,
   "metadata": {},
   "outputs": [],
   "source": []
  }
 ],
 "metadata": {
  "kernelspec": {
   "display_name": "Python 3",
   "language": "python",
   "name": "python3"
  },
  "language_info": {
   "codemirror_mode": {
    "name": "ipython",
    "version": 3
   },
   "file_extension": ".py",
   "mimetype": "text/x-python",
   "name": "python",
   "nbconvert_exporter": "python",
   "pygments_lexer": "ipython3",
   "version": "3.6.4"
  }
 },
 "nbformat": 4,
 "nbformat_minor": 2
}
