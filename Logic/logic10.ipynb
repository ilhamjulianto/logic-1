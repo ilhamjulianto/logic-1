{
 "cells": [
  {
   "cell_type": "code",
   "execution_count": 1,
   "metadata": {},
   "outputs": [],
   "source": [
    "from my_custom_functions import *"
   ]
  },
  {
   "cell_type": "markdown",
   "metadata": {},
   "source": [
    "![](http://fs5.directupload.net/images/180503/3o6wojan.jpg)"
   ]
  },
  {
   "cell_type": "markdown",
   "metadata": {},
   "source": [
    "# LOGIC 10\n",
    "# SOAL 1"
   ]
  },
  {
   "cell_type": "code",
   "execution_count": 2,
   "metadata": {},
   "outputs": [
    {
     "name": "stdout",
     "output_type": "stream",
     "text": [
      "\u001b[31m*\u001b[0m \u001b[31m*\u001b[0m \u001b[31m*\u001b[0m \u001b[31m \u001b[0m \u001b[31m*\u001b[0m \u001b[31m*\u001b[0m \u001b[31m*\u001b[0m \u001b[31m \u001b[0m \u001b[31m*\u001b[0m \u001b[31m*\u001b[0m \u001b[31m*\u001b[0m \n",
      "\u001b[31m*\u001b[0m \u001b[31m*\u001b[0m \u001b[31m*\u001b[0m \u001b[31m*\u001b[0m \u001b[31m*\u001b[0m \u001b[31m*\u001b[0m \u001b[31m*\u001b[0m \u001b[31m*\u001b[0m \u001b[31m*\u001b[0m \u001b[31m*\u001b[0m \u001b[31m*\u001b[0m \n",
      "\u001b[31m*\u001b[0m \u001b[31m*\u001b[0m \u001b[31m*\u001b[0m \u001b[31m \u001b[0m \u001b[31m*\u001b[0m \u001b[31m*\u001b[0m \u001b[31m*\u001b[0m \u001b[31m \u001b[0m \u001b[31m*\u001b[0m \u001b[31m*\u001b[0m \u001b[31m*\u001b[0m \n"
     ]
    }
   ],
   "source": [
    "for y in range(3):    \n",
    "    for x in range(11):\n",
    "        if (x == 3 or x == 7) and y != 1:\n",
    "            printnlnR(' ')\n",
    "        else:\n",
    "            printnlnR('*')\n",
    "    println()"
   ]
  },
  {
   "cell_type": "code",
   "execution_count": 3,
   "metadata": {},
   "outputs": [
    {
     "name": "stdout",
     "output_type": "stream",
     "text": [
      "\u001b[32mY\u001b[0m \u001b[32m1\u001b[0m \u001b[32m1\u001b[0m \u001b[32m1\u001b[0m \u001b[32m2\u001b[0m \u001b[32m3\u001b[0m \u001b[32m3\u001b[0m \u001b[32m3\u001b[0m \u001b[32m4\u001b[0m \u001b[32m5\u001b[0m \u001b[32m5\u001b[0m \u001b[32m5\u001b[0m \n",
      "\u001b[32m0\u001b[0m \u001b[31m*\u001b[0m \u001b[31m*\u001b[0m \u001b[31m*\u001b[0m \u001b[31m \u001b[0m \u001b[31m*\u001b[0m \u001b[31m*\u001b[0m \u001b[31m*\u001b[0m \u001b[31m \u001b[0m \u001b[31m*\u001b[0m \u001b[31m*\u001b[0m \u001b[31m*\u001b[0m \n",
      "\u001b[32m1\u001b[0m \u001b[31m*\u001b[0m \u001b[31m*\u001b[0m \u001b[31m*\u001b[0m \u001b[31m*\u001b[0m \u001b[31m*\u001b[0m \u001b[31m*\u001b[0m \u001b[31m*\u001b[0m \u001b[31m*\u001b[0m \u001b[31m*\u001b[0m \u001b[31m*\u001b[0m \u001b[31m*\u001b[0m \n",
      "\u001b[32m2\u001b[0m \u001b[31m*\u001b[0m \u001b[31m*\u001b[0m \u001b[31m*\u001b[0m \u001b[31m \u001b[0m \u001b[31m*\u001b[0m \u001b[31m*\u001b[0m \u001b[31m*\u001b[0m \u001b[31m \u001b[0m \u001b[31m*\u001b[0m \u001b[31m*\u001b[0m \u001b[31m*\u001b[0m \n"
     ]
    }
   ],
   "source": [
    "for y in crange(-1,2):\n",
    "    printnlnG('Y' if y == -1 else y)\n",
    "    a = 1\n",
    "    for h in crange(1,5):\n",
    "        for x in crange(1,3) if h % 2 != 0 else range(1):\n",
    "            if y == -1:\n",
    "                printnlnG(h)\n",
    "                continue\n",
    "                \n",
    "            if h % 2 == 0 and y != 1:\n",
    "                printnlnR(' ')\n",
    "            else:\n",
    "                printnlnR('*')\n",
    "                a += 1\n",
    "    println()"
   ]
  },
  {
   "cell_type": "code",
   "execution_count": 4,
   "metadata": {},
   "outputs": [
    {
     "name": "stdout",
     "output_type": "stream",
     "text": [
      "\u001b[32mY\u001b[0m \u001b[32m1\u001b[0m \u001b[32m1\u001b[0m \u001b[32m1\u001b[0m \u001b[32m2\u001b[0m \u001b[32m3\u001b[0m \u001b[32m3\u001b[0m \u001b[32m3\u001b[0m \u001b[32m4\u001b[0m \u001b[32m5\u001b[0m \u001b[32m5\u001b[0m \u001b[32m5\u001b[0m \n",
      "\u001b[32m0\u001b[0m \u001b[31m1\u001b[0m \u001b[31m2\u001b[0m \u001b[31m3\u001b[0m \u001b[31m \u001b[0m \u001b[31m4\u001b[0m \u001b[31m5\u001b[0m \u001b[31m6\u001b[0m \u001b[31m \u001b[0m \u001b[31m7\u001b[0m \u001b[31m8\u001b[0m \u001b[31m9\u001b[0m \n",
      "\u001b[32m1\u001b[0m \u001b[31m1\u001b[0m \u001b[31m2\u001b[0m \u001b[31m3\u001b[0m \u001b[31m4\u001b[0m \u001b[31m5\u001b[0m \u001b[31m6\u001b[0m \u001b[31m7\u001b[0m \u001b[31m8\u001b[0m \u001b[31m9\u001b[0m \u001b[31m10\u001b[0m \u001b[31m11\u001b[0m \n",
      "\u001b[32m2\u001b[0m \u001b[31m1\u001b[0m \u001b[31m2\u001b[0m \u001b[31m3\u001b[0m \u001b[31m \u001b[0m \u001b[31m4\u001b[0m \u001b[31m5\u001b[0m \u001b[31m6\u001b[0m \u001b[31m \u001b[0m \u001b[31m7\u001b[0m \u001b[31m8\u001b[0m \u001b[31m9\u001b[0m \n"
     ]
    }
   ],
   "source": [
    "for y in crange(-1,2):\n",
    "    printnlnG('Y' if y == -1 else y)\n",
    "    a = 1\n",
    "    for h in crange(1,5):\n",
    "        for x in crange(1,3) if h % 2 != 0 else range(1):\n",
    "            if y == -1:\n",
    "                printnlnG(h)\n",
    "                continue\n",
    "                \n",
    "            if h % 2 == 0 and y != 1:\n",
    "                printnlnR(' ')\n",
    "            else:\n",
    "                printnlnR(a)\n",
    "                a += 1\n",
    "    println()"
   ]
  },
  {
   "cell_type": "code",
   "execution_count": 5,
   "metadata": {},
   "outputs": [
    {
     "name": "stdout",
     "output_type": "stream",
     "text": [
      "\u001b[32mY\u001b[0m \u001b[32m1\u001b[0m \u001b[32m1\u001b[0m \u001b[32m1\u001b[0m \u001b[32m2\u001b[0m \u001b[32m3\u001b[0m \u001b[32m3\u001b[0m \u001b[32m3\u001b[0m \u001b[32m4\u001b[0m \u001b[32m5\u001b[0m \u001b[32m5\u001b[0m \u001b[32m5\u001b[0m \n",
      "\u001b[32m0\u001b[0m \u001b[31m1\u001b[0m \u001b[31m2\u001b[0m \u001b[31m3\u001b[0m \u001b[31m \u001b[0m \u001b[31m4\u001b[0m \u001b[31m5\u001b[0m \u001b[31m6\u001b[0m \u001b[31m \u001b[0m \u001b[31m7\u001b[0m \u001b[31m8\u001b[0m \u001b[31m9\u001b[0m \n",
      "\u001b[32m1\u001b[0m \u001b[31m1\u001b[0m \u001b[31m2\u001b[0m \u001b[31m3\u001b[0m \u001b[31m4\u001b[0m \u001b[31m5\u001b[0m \u001b[31m6\u001b[0m \u001b[31m7\u001b[0m \u001b[31m8\u001b[0m \u001b[31m9\u001b[0m \u001b[31m10\u001b[0m \u001b[31m11\u001b[0m \n",
      "\u001b[32m2\u001b[0m \u001b[31m1\u001b[0m \u001b[31m2\u001b[0m \u001b[31m3\u001b[0m \u001b[31m \u001b[0m \u001b[31m4\u001b[0m \u001b[31m5\u001b[0m \u001b[31m6\u001b[0m \u001b[31m \u001b[0m \u001b[31m7\u001b[0m \u001b[31m8\u001b[0m \u001b[31m9\u001b[0m \n"
     ]
    }
   ],
   "source": [
    "for y in crange(-1,2):\n",
    "    printnlnG('Y' if y == -1 else y)\n",
    "    a = 1\n",
    "    for h in crange(1,5):\n",
    "        for x in crange(1,3) if h % 2 != 0 else range(1):\n",
    "            if y == -1:\n",
    "                printnlnG(h)\n",
    "                continue\n",
    "                \n",
    "            if h % 2 == 0 and y != 1:\n",
    "                printnlnR(' ')\n",
    "            else:\n",
    "                printnlnR(a)\n",
    "                a += 1\n",
    "    println()"
   ]
  },
  {
   "cell_type": "markdown",
   "metadata": {},
   "source": [
    "# SOAL 2"
   ]
  },
  {
   "cell_type": "markdown",
   "metadata": {},
   "source": [
    "# SOAL 3"
   ]
  },
  {
   "cell_type": "code",
   "execution_count": 6,
   "metadata": {},
   "outputs": [
    {
     "name": "stdout",
     "output_type": "stream",
     "text": [
      "\u001b[31m \u001b[0m \u001b[31m \u001b[0m \u001b[31m \u001b[0m \u001b[31m \u001b[0m \u001b[31m1\u001b[0m \n",
      "\u001b[31m \u001b[0m \u001b[31m \u001b[0m \u001b[31m \u001b[0m \u001b[31m1\u001b[0m \u001b[31m2\u001b[0m \u001b[31m3\u001b[0m \n",
      "\u001b[31m \u001b[0m \u001b[31m \u001b[0m \u001b[31m5\u001b[0m \u001b[31m8\u001b[0m \u001b[31m13\u001b[0m \u001b[31m21\u001b[0m \u001b[31m34\u001b[0m \n",
      "\u001b[31m \u001b[0m \u001b[31m \u001b[0m \u001b[31m \u001b[0m \u001b[31m \u001b[0m \u001b[31m \u001b[0m \u001b[31m \u001b[0m \u001b[31m \u001b[0m \u001b[31m \u001b[0m \u001b[31m \u001b[0m \u001b[31m1\u001b[0m \n",
      "\u001b[31m \u001b[0m \u001b[31m \u001b[0m \u001b[31m \u001b[0m \u001b[31m \u001b[0m \u001b[31m \u001b[0m \u001b[31m \u001b[0m \u001b[31m \u001b[0m \u001b[31m \u001b[0m \u001b[31m3\u001b[0m \u001b[31m5\u001b[0m \u001b[31m7\u001b[0m \n",
      "\u001b[31m \u001b[0m \u001b[31m \u001b[0m \u001b[31m \u001b[0m \u001b[31m \u001b[0m \u001b[31m \u001b[0m \u001b[31m \u001b[0m \u001b[31m \u001b[0m \u001b[31m9\u001b[0m \u001b[31m11\u001b[0m \u001b[31m13\u001b[0m \u001b[31m15\u001b[0m \u001b[31m17\u001b[0m \n",
      "\u001b[31m \u001b[0m \u001b[31m \u001b[0m \u001b[31m \u001b[0m \u001b[31m \u001b[0m \u001b[31m1\u001b[0m \n",
      "\u001b[31m \u001b[0m \u001b[31m \u001b[0m \u001b[31m \u001b[0m \u001b[31m1\u001b[0m \u001b[31m2\u001b[0m \u001b[31m3\u001b[0m \n",
      "\u001b[31m \u001b[0m \u001b[31m \u001b[0m \u001b[31m5\u001b[0m \u001b[31m8\u001b[0m \u001b[31m13\u001b[0m \u001b[31m21\u001b[0m \u001b[31m34\u001b[0m \n"
     ]
    }
   ],
   "source": [
    "for t in range(3):\n",
    "    \n",
    "    c = 0\n",
    "    for y in crange(1,3):\n",
    "        for i in range(pcount(3)) if t % 2 != 0 else range(0):\n",
    "            printnlnR(' ')\n",
    "        for s in crange(1, 5-y):\n",
    "            printnlnR(' ')\n",
    "        for x in crange(1,pcount(y)):\n",
    "            c += 1\n",
    "            b = fib(c) if t % 2 == 0 else c * 2 - 1\n",
    "            printnlnR(b)\n",
    "        println()"
   ]
  },
  {
   "cell_type": "markdown",
   "metadata": {},
   "source": [
    "# SOAL 4"
   ]
  },
  {
   "cell_type": "markdown",
   "metadata": {},
   "source": [
    "# SOAL 5"
   ]
  }
 ],
 "metadata": {
  "kernelspec": {
   "display_name": "Python 3",
   "language": "python",
   "name": "python3"
  },
  "language_info": {
   "codemirror_mode": {
    "name": "ipython",
    "version": 3
   },
   "file_extension": ".py",
   "mimetype": "text/x-python",
   "name": "python",
   "nbconvert_exporter": "python",
   "pygments_lexer": "ipython3",
   "version": "3.6.4"
  }
 },
 "nbformat": 4,
 "nbformat_minor": 2
}
