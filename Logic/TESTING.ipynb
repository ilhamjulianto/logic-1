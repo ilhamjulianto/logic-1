{
 "cells": [
  {
   "cell_type": "markdown",
   "metadata": {},
   "source": [
    "# Next Level?? Pengujian Logic 😎\n",
    "\n",
    "Pernah mendengar Big-O notation? Itu adalah semacam pengukur keefektifaan logic kita dalam menyelesaikan sebuah masalah. \n",
    "Secara teori : \n",
    "    ***\"Semakin banyak LOOP maka akan semakin besar waktu yang dibutuhkan. Namun dengan LIST maka beban memori untuk menyimpan variable juga semakin besar.\"***"
   ]
  },
  {
   "cell_type": "markdown",
   "metadata": {},
   "source": [
    "Untuk menguji notebook ini, selalu lakukan **Run > Restart Kernel and Run All Cells** agar interpreter benar-benar bersih dari sisa-sisa pengujian sebelumnya. CMIIW 🙃"
   ]
  },
  {
   "cell_type": "markdown",
   "metadata": {},
   "source": [
    "NB: \n",
    "1. Penggunaan **PASS** untuk menghilangkan 'waktu' **PRINT** ke konsol\n",
    "2. Parameter pengujian bukan oleh ahli sehingga perlu verifikasi 😬\n",
    "3. Lakukan pengujian berulang-ulang agar mendapatkan gambaran utuh mengenai pengujian ini"
   ]
  },
  {
   "cell_type": "markdown",
   "metadata": {},
   "source": [
    "#### Mengukur Size Object di Python"
   ]
  },
  {
   "cell_type": "code",
   "execution_count": 1,
   "metadata": {},
   "outputs": [
    {
     "name": "stdout",
     "output_type": "stream",
     "text": [
      "Size Int: 28\n",
      "Size String: 52\n",
      "Size Range: 48\n",
      "Size List: 1008\n"
     ]
    }
   ],
   "source": [
    "import sys\n",
    "\n",
    "i = 100 # int\n",
    "s = '100' # string\n",
    "r = range(100) # range\n",
    "l = list(range(100)) # list\n",
    "\n",
    "print('Size {}: {}'.format('Int', sys.getsizeof(i)))\n",
    "print('Size {}: {}'.format('String', sys.getsizeof(s)))\n",
    "print('Size {}: {}'.format('Range', sys.getsizeof(r)))\n",
    "print('Size {}: {}'.format('List', sys.getsizeof(l)))"
   ]
  },
  {
   "cell_type": "markdown",
   "metadata": {},
   "source": [
    "#### Fungsi Kustom dan Pembantu"
   ]
  },
  {
   "cell_type": "code",
   "execution_count": 2,
   "metadata": {},
   "outputs": [
    {
     "name": "stdout",
     "output_type": "stream",
     "text": [
      "\u001b[91mHello\u001b[0mWorld!\n"
     ]
    }
   ],
   "source": [
    "def crange(a,b):\n",
    "    return range(a, b+1)\n",
    "\n",
    "def pbound(i):\n",
    "    return i - 1\n",
    "\n",
    "# Python color Printing\n",
    "class color:\n",
    "   PURPLE = '\\033[95m'\n",
    "   CYAN = '\\033[96m'\n",
    "   DARKCYAN = '\\033[36m'\n",
    "   BLUE = '\\033[94m'\n",
    "   GREEN = '\\033[92m'\n",
    "   YELLOW = '\\033[93m'\n",
    "   RED = '\\033[91m'\n",
    "   BOLD = '\\033[1m'\n",
    "   UNDERLINE = '\\033[4m'\n",
    "   END = '\\033[0m'\n",
    "\n",
    "print(color.RED + 'Hello' + color.END + 'World!')\n",
    "\n",
    "# Rata-rata\n",
    "def mean(numbers):\n",
    "    return float(sum(numbers)) / max(len(numbers), 1)"
   ]
  },
  {
   "cell_type": "markdown",
   "metadata": {},
   "source": [
    "### List"
   ]
  },
  {
   "cell_type": "code",
   "execution_count": 3,
   "metadata": {},
   "outputs": [],
   "source": [
    "def listOperation():\n",
    "    b = 5\n",
    "    ranges = list(range(-(b-1), b)) + list(range(-(b-2), b))\n",
    "\n",
    "    for y in range(-(b-1), b):\n",
    "        for x in ranges:\n",
    "            if abs(x) - b < y < b  - abs(x):\n",
    "                num = b - (abs(x) + abs(y))\n",
    "                v = num * 2 - 1\n",
    "                pass # print(num*2 - 1, end=' ')\n",
    "            else:\n",
    "                pass # print(' ', end=' ')\n",
    "        pass # print()"
   ]
  },
  {
   "cell_type": "markdown",
   "metadata": {},
   "source": [
    "### Loop"
   ]
  },
  {
   "cell_type": "code",
   "execution_count": 4,
   "metadata": {},
   "outputs": [],
   "source": [
    "def loopOperation():\n",
    "    pb = pbound(5)\n",
    "    for y in crange(-pb,pb):\n",
    "            for i in range(2):\n",
    "\n",
    "                for s in crange(1,abs(y)):\n",
    "                    if i > 0 and s == 1 : continue\n",
    "                    pass # printnln(' ')\n",
    "\n",
    "                n = pbound(5-abs(y))\n",
    "                for x in crange(-n,n):\n",
    "                    v = 5-abs(y)-abs(x)\n",
    "                    if i > 0 and x == -4 : continue\n",
    "                    pass # printnln(v*2-1)\n",
    "\n",
    "                for s in crange(1,abs(y)):\n",
    "                    pass # printnln(' ')\n",
    "            pass # println()"
   ]
  },
  {
   "cell_type": "markdown",
   "metadata": {},
   "source": [
    "# Pengujian\n",
    "### Waktu"
   ]
  },
  {
   "cell_type": "markdown",
   "metadata": {},
   "source": [
    "#### List"
   ]
  },
  {
   "cell_type": "code",
   "execution_count": 5,
   "metadata": {},
   "outputs": [
    {
     "name": "stdout",
     "output_type": "stream",
     "text": [
      "Menguji List :\n",
      "266 µs ± 58.8 µs per loop (mean ± std. dev. of 7 runs, 1000 loops each)\n"
     ]
    }
   ],
   "source": [
    "print('Menguji List :')\n",
    "%timeit listOperation()"
   ]
  },
  {
   "cell_type": "markdown",
   "metadata": {},
   "source": [
    "#### Loop"
   ]
  },
  {
   "cell_type": "code",
   "execution_count": 6,
   "metadata": {},
   "outputs": [
    {
     "name": "stdout",
     "output_type": "stream",
     "text": [
      "Menguji Loop :\n",
      "346 µs ± 22.6 µs per loop (mean ± std. dev. of 7 runs, 1000 loops each)\n"
     ]
    }
   ],
   "source": [
    "print('Menguji Loop :')\n",
    "%timeit loopOperation()"
   ]
  },
  {
   "cell_type": "markdown",
   "metadata": {},
   "source": [
    "### Memory"
   ]
  },
  {
   "cell_type": "code",
   "execution_count": 7,
   "metadata": {},
   "outputs": [],
   "source": [
    "# !pip install -U memory_profiler # If memory_usage is installed then comment this line\n",
    "\n",
    "from memory_profiler import memory_usage"
   ]
  },
  {
   "cell_type": "markdown",
   "metadata": {},
   "source": [
    "#### List"
   ]
  },
  {
   "cell_type": "code",
   "execution_count": 8,
   "metadata": {},
   "outputs": [
    {
     "name": "stdout",
     "output_type": "stream",
     "text": [
      "Penggunaan memori List: [51.17578125, 51.17578125, 51.17578125]\n",
      "Penggunaan memori terbanyak List: 51.17578125\n"
     ]
    }
   ],
   "source": [
    "mem_list = memory_usage(listOperation)\n",
    "print('Penggunaan memori List: {}'.format(mem_list))\n",
    "print('Penggunaan memori terbanyak List: {}'.format(max(mem_list)))"
   ]
  },
  {
   "cell_type": "markdown",
   "metadata": {},
   "source": [
    "#### Loop"
   ]
  },
  {
   "cell_type": "code",
   "execution_count": 9,
   "metadata": {},
   "outputs": [
    {
     "name": "stdout",
     "output_type": "stream",
     "text": [
      "Penggunaan memori Loop: [51.2265625, 51.2265625, 51.2265625]\n",
      "Penggunaan memori terbanyak Loop: 51.2265625\n"
     ]
    }
   ],
   "source": [
    "mem_loop = memory_usage(loopOperation)\n",
    "print('Penggunaan memori Loop: {}'.format(mem_loop))\n",
    "print('Penggunaan memori terbanyak Loop: {}'.format(max(mem_loop)))"
   ]
  },
  {
   "cell_type": "markdown",
   "metadata": {},
   "source": [
    "# KREDIT\n",
    "#### @alisyahidin\n",
    "#### @mmuizzsuddin"
   ]
  },
  {
   "cell_type": "markdown",
   "metadata": {},
   "source": [
    "NB : Ayo buat logic kalian dan tambahkan ke daftar pengujian!"
   ]
  }
 ],
 "metadata": {
  "kernelspec": {
   "display_name": "Python 3",
   "language": "python",
   "name": "python3"
  },
  "language_info": {
   "codemirror_mode": {
    "name": "ipython",
    "version": 3
   },
   "file_extension": ".py",
   "mimetype": "text/x-python",
   "name": "python",
   "nbconvert_exporter": "python",
   "pygments_lexer": "ipython3",
   "version": "3.6.4"
  }
 },
 "nbformat": 4,
 "nbformat_minor": 2
}
