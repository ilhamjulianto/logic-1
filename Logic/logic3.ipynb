{
 "cells": [
  {
   "cell_type": "code",
   "execution_count": 11,
   "metadata": {},
   "outputs": [],
   "source": [
    "# menjalankan functions.ipynb agar bisa memanggil fungsi2 didalamnya\n",
    "%run functions.ipynb"
   ]
  },
  {
   "cell_type": "markdown",
   "metadata": {},
   "source": [
    "# FIBONACCI 2"
   ]
  },
  {
   "cell_type": "code",
   "execution_count": 12,
   "metadata": {},
   "outputs": [
    {
     "name": "stdout",
     "output_type": "stream",
     "text": [
      "0\n",
      "1\n",
      "1\n",
      "2\n",
      "3\n",
      "5\n",
      "8\n",
      "13\n",
      "21\n"
     ]
    }
   ],
   "source": [
    "# FIBONACCI\n",
    "\n",
    "def fib(i):\n",
    "    if i < 2:\n",
    "        return i\n",
    "    else:\n",
    "        return fib(i - 1) + fib(i - 2)\n",
    "    \n",
    "for i in range(9):\n",
    "    print(fib(i))"
   ]
  },
  {
   "cell_type": "markdown",
   "metadata": {},
   "source": [
    "# FIBONACCI 3"
   ]
  },
  {
   "cell_type": "code",
   "execution_count": 13,
   "metadata": {},
   "outputs": [
    {
     "name": "stdout",
     "output_type": "stream",
     "text": [
      "1\n",
      "1\n",
      "1\n",
      "3\n",
      "5\n",
      "9\n",
      "17\n",
      "31\n",
      "57\n"
     ]
    }
   ],
   "source": [
    "def fib3(i):\n",
    "    if i < 3:\n",
    "        return 1\n",
    "    else:\n",
    "        return fib3(i - 1) + fib3(i - 2) + fib3(i - 3)\n",
    "    \n",
    "    \n",
    "for i in range(9):\n",
    "    print(fib3(i))"
   ]
  },
  {
   "cell_type": "markdown",
   "metadata": {},
   "source": [
    "# FPB"
   ]
  },
  {
   "cell_type": "code",
   "execution_count": 14,
   "metadata": {},
   "outputs": [
    {
     "name": "stdout",
     "output_type": "stream",
     "text": [
      "4\n"
     ]
    }
   ],
   "source": [
    "def fpb(a,b):\n",
    "    if b == 0: \n",
    "        return a\n",
    "    else:\n",
    "        return fpb(b, a % b)\n",
    "    \n",
    "print(fpb(12,8))"
   ]
  },
  {
   "cell_type": "markdown",
   "metadata": {},
   "source": [
    "# KPK"
   ]
  },
  {
   "cell_type": "code",
   "execution_count": 23,
   "metadata": {},
   "outputs": [
    {
     "name": "stdout",
     "output_type": "stream",
     "text": [
      "24\n"
     ]
    }
   ],
   "source": [
    "def kpk(a,b):\n",
    "    lcm = (a*b)/fpb(a,b)\n",
    "    return int(lcm)\n",
    "\n",
    "print(kpk(12,24))"
   ]
  },
  {
   "cell_type": "markdown",
   "metadata": {},
   "source": [
    "# SOAL 6"
   ]
  },
  {
   "cell_type": "code",
   "execution_count": 26,
   "metadata": {},
   "outputs": [
    {
     "name": "stdout",
     "output_type": "stream",
     "text": [
      "1AAAAAAA16\n",
      "D3AAAAA14B\n",
      "DD5AAA12BB\n",
      "DDD7A10BBB\n",
      "DDDD9BBBB\n",
      "DDD6C11BBB\n",
      "DD4CCC13BB\n",
      "D2CCCCC15B\n",
      "0CCCCCCC17\n"
     ]
    }
   ],
   "source": [
    "for y in crange(1,9):\n",
    "    for x in crange(1,9):\n",
    "        if x == y:\n",
    "            v = x * 2 - 1\n",
    "            printnln(v)\n",
    "        elif x == 9 - (y - 1) :\n",
    "            v = x * 2 - 2\n",
    "            printnln(v)\n",
    "        elif x > y and x < 9 - (y - 1):\n",
    "            printnln('A')\n",
    "        elif y < x and y > 9 - (x - 1):\n",
    "            printnln('B')\n",
    "        elif x < y and x > 9 - (y - 1):\n",
    "            printnln('C')\n",
    "        elif y > x and y < 9 - (x - 1):\n",
    "            printnln('D')\n",
    "        else:\n",
    "            printnln(' ')\n",
    "    println()"
   ]
  },
  {
   "cell_type": "markdown",
   "metadata": {},
   "source": [
    "# Konsep untuk soal 7 - 10 adalah dengan (-n...n)"
   ]
  },
  {
   "cell_type": "code",
   "execution_count": 27,
   "metadata": {},
   "outputs": [
    {
     "name": "stdout",
     "output_type": "stream",
     "text": [
      "432101234\n",
      "432101234\n",
      "432101234\n",
      "432101234\n",
      "432101234\n",
      "432101234\n",
      "432101234\n",
      "432101234\n",
      "432101234\n",
      "\n",
      "\n",
      "444444444\n",
      "333333333\n",
      "222222222\n",
      "111111111\n",
      "000000000\n",
      "111111111\n",
      "222222222\n",
      "333333333\n",
      "444444444\n"
     ]
    }
   ],
   "source": [
    "for y in crange(-4,4):\n",
    "    for x in crange(-4,4):\n",
    "        printnln(abs(x))\n",
    "    println()\n",
    "    \n",
    "println()\n",
    "println()\n",
    "\n",
    "for y in crange(-4,4):\n",
    "    for x in crange(-4,4):\n",
    "        printnln(abs(y))\n",
    "    println()"
   ]
  },
  {
   "cell_type": "markdown",
   "metadata": {},
   "source": [
    "# SOAL 7"
   ]
  },
  {
   "cell_type": "code",
   "execution_count": 30,
   "metadata": {},
   "outputs": [
    {
     "name": "stdout",
     "output_type": "stream",
     "text": [
      "111111111\n",
      "122222221\n",
      "123333321\n",
      "123444321\n",
      "123454321\n",
      "123444321\n",
      "123333321\n",
      "122222221\n",
      "111111111\n"
     ]
    }
   ],
   "source": [
    "for y in crange(-4,4):\n",
    "    for x in crange(-4,4):\n",
    "        v = 5 - max(abs(x),abs(y))\n",
    "        printnln(v)\n",
    "    println()"
   ]
  },
  {
   "cell_type": "markdown",
   "metadata": {},
   "source": [
    "# SOAL 8"
   ]
  },
  {
   "cell_type": "code",
   "execution_count": 31,
   "metadata": {},
   "outputs": [
    {
     "name": "stdout",
     "output_type": "stream",
     "text": [
      "111111111\n",
      "1       1\n",
      "1 33333 1\n",
      "1 3   3 1\n",
      "1 3 5 3 1\n",
      "1 3   3 1\n",
      "1 33333 1\n",
      "1       1\n",
      "111111111\n"
     ]
    }
   ],
   "source": [
    "for y in crange(-4,4):\n",
    "    for x in crange(-4,4):\n",
    "        v = 5 - max(abs(x),abs(y))\n",
    "        if v % 2 == 0:\n",
    "            printnln(' ')\n",
    "        else:\n",
    "            printnln(v)\n",
    "    println()"
   ]
  },
  {
   "cell_type": "markdown",
   "metadata": {},
   "source": [
    "# SOAL 9"
   ]
  },
  {
   "cell_type": "code",
   "execution_count": 18,
   "metadata": {},
   "outputs": [
    {
     "name": "stdout",
     "output_type": "stream",
     "text": [
      "111111111\n",
      "1       1\n",
      "1 11111 1\n",
      "1 1   1 1\n",
      "1 1 2 1 1\n",
      "1 1   1 1\n",
      "1 11111 1\n",
      "1       1\n",
      "111111111\n"
     ]
    }
   ],
   "source": [
    "for y in crange(-4,4):\n",
    "    for x in crange(-4,4):\n",
    "        v = 5 - max(abs(y), abs(x))\n",
    "        if v % 2 == 0:\n",
    "            printnln(' ')\n",
    "        else:\n",
    "            c = int((v + 1)/2)\n",
    "            printnln(fib(c))\n",
    "    println()"
   ]
  },
  {
   "cell_type": "code",
   "execution_count": 35,
   "metadata": {},
   "outputs": [],
   "source": [
    "import string\n",
    "alph = string.ascii_lowercase"
   ]
  },
  {
   "cell_type": "markdown",
   "metadata": {},
   "source": [
    "# SOAL 10"
   ]
  },
  {
   "cell_type": "code",
   "execution_count": 32,
   "metadata": {},
   "outputs": [
    {
     "name": "stdout",
     "output_type": "stream",
     "text": [
      "         \n",
      " 1111111 \n",
      " 1     1 \n",
      " 1 222 1 \n",
      " 1 2 2 1 \n",
      " 1 222 1 \n",
      " 1     1 \n",
      " 1111111 \n",
      "         \n"
     ]
    }
   ],
   "source": [
    "for y in crange(-4,4):\n",
    "    for x in crange(-4,4):\n",
    "        v = 5 - max(abs(y), abs(x))\n",
    "        if v % 2 == 0:\n",
    "            c = int((v + 1)/2) - 1\n",
    "            printnln(c)\n",
    "        else:\n",
    "            c = int((v + 1)/2)\n",
    "            printnln(fib(c))\n",
    "#             printnln(' ')\n",
    "    println()"
   ]
  },
  {
   "cell_type": "code",
   "execution_count": null,
   "metadata": {},
   "outputs": [],
   "source": []
  }
 ],
 "metadata": {
  "kernelspec": {
   "display_name": "Python 3",
   "language": "python",
   "name": "python3"
  },
  "language_info": {
   "codemirror_mode": {
    "name": "ipython",
    "version": 3
   },
   "file_extension": ".py",
   "mimetype": "text/x-python",
   "name": "python",
   "nbconvert_exporter": "python",
   "pygments_lexer": "ipython3",
   "version": "3.6.4"
  }
 },
 "nbformat": 4,
 "nbformat_minor": 2
}
